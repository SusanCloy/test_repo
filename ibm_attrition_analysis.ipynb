{
  "nbformat": 4,
  "nbformat_minor": 0,
  "metadata": {
    "colab": {
      "name": "ibm_attrition_analysis.ipynb",
      "provenance": [],
      "collapsed_sections": []
    },
    "kernelspec": {
      "name": "python3",
      "display_name": "Python 3"
    },
    "language_info": {
      "name": "python"
    }
  },
  "cells": [
    {
      "cell_type": "markdown",
      "metadata": {
        "id": "xc9BuF3TFb7g"
      },
      "source": [
        "Attrition in human resources refers to the gradual loss of employees over time. In general, relatively high attrition is problematic for companies. \n",
        "\n",
        "Employee attrition is predictable under stable circumstances, wherein a set pattern can be deduced from certain parameters influencing the employee and the organization at all times. Some of these parameters could be foreseeable such as retirement age or unforeseeable such as company performance, external funding, management shakeup etc.\n",
        "\n",
        "However, who is going to leave, when and why, can be answered based on analytical models using a combination of three type of analytics:\n",
        "\n",
        "1. Descriptive Analytics: What are the observations that help us shape our various hypotheses about staff attrition?\n",
        "\n",
        "2. Predictive Analytics: Which members of staff are about to leave?\n",
        "\n",
        "3. Prescriptive Analytics: What insights or suggestions can be made concerning those members of staff who are likely to leave?\n",
        "\n",
        "\n",
        "In this exercise I explore the fictional data set created by IBM Data scientists:\n",
        "https://www.kaggle.com/pavansubhasht/ibm-hr-analytics-attrition-dataset. This dataset is about 1470 rows and 35 attributes which consist of 8 categorical variables and 26 numerical variables and the target label for the data set is “Attrition”. \n",
        "\n",
        "I attempt to Uncovers the factors that lead to employee attrition and explore important questions such as ‘a breakdown of distance from home by job role and attrition and ‘compare the average monthly income by education and attrition.\n"
      ]
    },
    {
      "cell_type": "code",
      "metadata": {
        "id": "kclg-UoJcCnq",
        "colab": {
          "base_uri": "https://localhost:8080/",
          "height": 17
        },
        "outputId": "5c23e543-0276-4714-f865-e0403e66896a"
      },
      "source": [
        "#Standard libraries for data analysis:\n",
        "import numpy as np\n",
        "import pandas as pd\n",
        "\n",
        "#Standard libraries for data visualization:\n",
        "import seaborn as sns\n",
        "from matplotlib import pyplot\n",
        "import matplotlib.pyplot as plt\n",
        "%matplotlib inline\n",
        "plt.rcParams['figure.figsize'] = 20, 8\n",
        "color = sns.color_palette()\n",
        "import matplotlib.ticker as mtick\n",
        "from IPython.display import display\n",
        "pd.options.display.max_columns = None\n",
        "pd.options.display.max_rows = None\n",
        "from pandas.plotting import scatter_matrix\n",
        "from sklearn.metrics import roc_curve\n",
        "import plotly.offline as py\n",
        "py.init_notebook_mode(connected=True)\n",
        "import plotly.graph_objects as go\n",
        "import plotly.express as px\n",
        "import plotly.tools as tls\n",
        "\n",
        "import warnings\n",
        "warnings.filterwarnings('always')\n",
        "warnings.filterwarnings('ignore')"
      ],
      "execution_count": null,
      "outputs": [
        {
          "output_type": "display_data",
          "data": {
            "text/html": [
              "        <script type=\"text/javascript\">\n",
              "        window.PlotlyConfig = {MathJaxConfig: 'local'};\n",
              "        if (window.MathJax) {MathJax.Hub.Config({SVG: {font: \"STIX-Web\"}});}\n",
              "        if (typeof require !== 'undefined') {\n",
              "        require.undef(\"plotly\");\n",
              "        requirejs.config({\n",
              "            paths: {\n",
              "                'plotly': ['https://cdn.plot.ly/plotly-latest.min']\n",
              "            }\n",
              "        });\n",
              "        require(['plotly'], function(Plotly) {\n",
              "            window._Plotly = Plotly;\n",
              "        });\n",
              "        }\n",
              "        </script>\n",
              "        "
            ]
          },
          "metadata": {
            "tags": []
          }
        }
      ]
    },
    {
      "cell_type": "markdown",
      "metadata": {
        "id": "J_8q8ToqLOKw"
      },
      "source": [
        "**Loading the Data**\n",
        "\n",
        "---\n",
        "\n"
      ]
    },
    {
      "cell_type": "code",
      "metadata": {
        "colab": {
          "resources": {
            "http://localhost:8080/nbextensions/google.colab/files.js": {
              "data": "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",
              "ok": true,
              "headers": [
                [
                  "content-type",
                  "application/javascript"
                ]
              ],
              "status": 200,
              "status_text": ""
            }
          },
          "base_uri": "https://localhost:8080/",
          "height": 73
        },
        "id": "EbP0TTcTiBwH",
        "outputId": "7a0bd51c-55e5-46f4-e2ce-b77adc75db2b"
      },
      "source": [
        "from google.colab import files\n",
        "uploaded = files.upload()"
      ],
      "execution_count": null,
      "outputs": [
        {
          "output_type": "display_data",
          "data": {
            "text/html": [
              "\n",
              "     <input type=\"file\" id=\"files-8484f390-cbd8-4951-842b-2b867b0a4d14\" name=\"files[]\" multiple disabled\n",
              "        style=\"border:none\" />\n",
              "     <output id=\"result-8484f390-cbd8-4951-842b-2b867b0a4d14\">\n",
              "      Upload widget is only available when the cell has been executed in the\n",
              "      current browser session. Please rerun this cell to enable.\n",
              "      </output>\n",
              "      <script src=\"/nbextensions/google.colab/files.js\"></script> "
            ],
            "text/plain": [
              "<IPython.core.display.HTML object>"
            ]
          },
          "metadata": {
            "tags": []
          }
        },
        {
          "output_type": "stream",
          "text": [
            "Saving WA_Fn-UseC_-HR-Employee-Attrition.csv to WA_Fn-UseC_-HR-Employee-Attrition (1).csv\n"
          ],
          "name": "stdout"
        }
      ]
    },
    {
      "cell_type": "code",
      "metadata": {
        "colab": {
          "base_uri": "https://localhost:8080/",
          "height": 309
        },
        "id": "juJJqsjbin5R",
        "outputId": "fe00e0fd-ea80-44c0-adb4-a99f12c7f133"
      },
      "source": [
        "ibm = pd.read_csv('WA_Fn-UseC_-HR-Employee-Attrition.csv', encoding='Latin-1')\n",
        "ibm.head()"
      ],
      "execution_count": null,
      "outputs": [
        {
          "output_type": "execute_result",
          "data": {
            "text/html": [
              "<div>\n",
              "<style scoped>\n",
              "    .dataframe tbody tr th:only-of-type {\n",
              "        vertical-align: middle;\n",
              "    }\n",
              "\n",
              "    .dataframe tbody tr th {\n",
              "        vertical-align: top;\n",
              "    }\n",
              "\n",
              "    .dataframe thead th {\n",
              "        text-align: right;\n",
              "    }\n",
              "</style>\n",
              "<table border=\"1\" class=\"dataframe\">\n",
              "  <thead>\n",
              "    <tr style=\"text-align: right;\">\n",
              "      <th></th>\n",
              "      <th>ï»¿Age</th>\n",
              "      <th>Attrition</th>\n",
              "      <th>BusinessTravel</th>\n",
              "      <th>DailyRate</th>\n",
              "      <th>Department</th>\n",
              "      <th>DistanceFromHome</th>\n",
              "      <th>Education</th>\n",
              "      <th>EducationField</th>\n",
              "      <th>EmployeeCount</th>\n",
              "      <th>EmployeeNumber</th>\n",
              "      <th>EnvironmentSatisfaction</th>\n",
              "      <th>Gender</th>\n",
              "      <th>HourlyRate</th>\n",
              "      <th>JobInvolvement</th>\n",
              "      <th>JobLevel</th>\n",
              "      <th>JobRole</th>\n",
              "      <th>JobSatisfaction</th>\n",
              "      <th>MaritalStatus</th>\n",
              "      <th>MonthlyIncome</th>\n",
              "      <th>MonthlyRate</th>\n",
              "      <th>NumCompaniesWorked</th>\n",
              "      <th>Over18</th>\n",
              "      <th>OverTime</th>\n",
              "      <th>PercentSalaryHike</th>\n",
              "      <th>PerformanceRating</th>\n",
              "      <th>RelationshipSatisfaction</th>\n",
              "      <th>StandardHours</th>\n",
              "      <th>StockOptionLevel</th>\n",
              "      <th>TotalWorkingYears</th>\n",
              "      <th>TrainingTimesLastYear</th>\n",
              "      <th>WorkLifeBalance</th>\n",
              "      <th>YearsAtCompany</th>\n",
              "      <th>YearsInCurrentRole</th>\n",
              "      <th>YearsSinceLastPromotion</th>\n",
              "      <th>YearsWithCurrManager</th>\n",
              "    </tr>\n",
              "  </thead>\n",
              "  <tbody>\n",
              "    <tr>\n",
              "      <th>0</th>\n",
              "      <td>41</td>\n",
              "      <td>Yes</td>\n",
              "      <td>Travel_Rarely</td>\n",
              "      <td>1102</td>\n",
              "      <td>Sales</td>\n",
              "      <td>1</td>\n",
              "      <td>2</td>\n",
              "      <td>Life Sciences</td>\n",
              "      <td>1</td>\n",
              "      <td>1</td>\n",
              "      <td>2</td>\n",
              "      <td>Female</td>\n",
              "      <td>94</td>\n",
              "      <td>3</td>\n",
              "      <td>2</td>\n",
              "      <td>Sales Executive</td>\n",
              "      <td>4</td>\n",
              "      <td>Single</td>\n",
              "      <td>5993</td>\n",
              "      <td>19479</td>\n",
              "      <td>8</td>\n",
              "      <td>Y</td>\n",
              "      <td>Yes</td>\n",
              "      <td>11</td>\n",
              "      <td>3</td>\n",
              "      <td>1</td>\n",
              "      <td>80</td>\n",
              "      <td>0</td>\n",
              "      <td>8</td>\n",
              "      <td>0</td>\n",
              "      <td>1</td>\n",
              "      <td>6</td>\n",
              "      <td>4</td>\n",
              "      <td>0</td>\n",
              "      <td>5</td>\n",
              "    </tr>\n",
              "    <tr>\n",
              "      <th>1</th>\n",
              "      <td>49</td>\n",
              "      <td>No</td>\n",
              "      <td>Travel_Frequently</td>\n",
              "      <td>279</td>\n",
              "      <td>Research &amp; Development</td>\n",
              "      <td>8</td>\n",
              "      <td>1</td>\n",
              "      <td>Life Sciences</td>\n",
              "      <td>1</td>\n",
              "      <td>2</td>\n",
              "      <td>3</td>\n",
              "      <td>Male</td>\n",
              "      <td>61</td>\n",
              "      <td>2</td>\n",
              "      <td>2</td>\n",
              "      <td>Research Scientist</td>\n",
              "      <td>2</td>\n",
              "      <td>Married</td>\n",
              "      <td>5130</td>\n",
              "      <td>24907</td>\n",
              "      <td>1</td>\n",
              "      <td>Y</td>\n",
              "      <td>No</td>\n",
              "      <td>23</td>\n",
              "      <td>4</td>\n",
              "      <td>4</td>\n",
              "      <td>80</td>\n",
              "      <td>1</td>\n",
              "      <td>10</td>\n",
              "      <td>3</td>\n",
              "      <td>3</td>\n",
              "      <td>10</td>\n",
              "      <td>7</td>\n",
              "      <td>1</td>\n",
              "      <td>7</td>\n",
              "    </tr>\n",
              "    <tr>\n",
              "      <th>2</th>\n",
              "      <td>37</td>\n",
              "      <td>Yes</td>\n",
              "      <td>Travel_Rarely</td>\n",
              "      <td>1373</td>\n",
              "      <td>Research &amp; Development</td>\n",
              "      <td>2</td>\n",
              "      <td>2</td>\n",
              "      <td>Other</td>\n",
              "      <td>1</td>\n",
              "      <td>4</td>\n",
              "      <td>4</td>\n",
              "      <td>Male</td>\n",
              "      <td>92</td>\n",
              "      <td>2</td>\n",
              "      <td>1</td>\n",
              "      <td>Laboratory Technician</td>\n",
              "      <td>3</td>\n",
              "      <td>Single</td>\n",
              "      <td>2090</td>\n",
              "      <td>2396</td>\n",
              "      <td>6</td>\n",
              "      <td>Y</td>\n",
              "      <td>Yes</td>\n",
              "      <td>15</td>\n",
              "      <td>3</td>\n",
              "      <td>2</td>\n",
              "      <td>80</td>\n",
              "      <td>0</td>\n",
              "      <td>7</td>\n",
              "      <td>3</td>\n",
              "      <td>3</td>\n",
              "      <td>0</td>\n",
              "      <td>0</td>\n",
              "      <td>0</td>\n",
              "      <td>0</td>\n",
              "    </tr>\n",
              "    <tr>\n",
              "      <th>3</th>\n",
              "      <td>33</td>\n",
              "      <td>No</td>\n",
              "      <td>Travel_Frequently</td>\n",
              "      <td>1392</td>\n",
              "      <td>Research &amp; Development</td>\n",
              "      <td>3</td>\n",
              "      <td>4</td>\n",
              "      <td>Life Sciences</td>\n",
              "      <td>1</td>\n",
              "      <td>5</td>\n",
              "      <td>4</td>\n",
              "      <td>Female</td>\n",
              "      <td>56</td>\n",
              "      <td>3</td>\n",
              "      <td>1</td>\n",
              "      <td>Research Scientist</td>\n",
              "      <td>3</td>\n",
              "      <td>Married</td>\n",
              "      <td>2909</td>\n",
              "      <td>23159</td>\n",
              "      <td>1</td>\n",
              "      <td>Y</td>\n",
              "      <td>Yes</td>\n",
              "      <td>11</td>\n",
              "      <td>3</td>\n",
              "      <td>3</td>\n",
              "      <td>80</td>\n",
              "      <td>0</td>\n",
              "      <td>8</td>\n",
              "      <td>3</td>\n",
              "      <td>3</td>\n",
              "      <td>8</td>\n",
              "      <td>7</td>\n",
              "      <td>3</td>\n",
              "      <td>0</td>\n",
              "    </tr>\n",
              "    <tr>\n",
              "      <th>4</th>\n",
              "      <td>27</td>\n",
              "      <td>No</td>\n",
              "      <td>Travel_Rarely</td>\n",
              "      <td>591</td>\n",
              "      <td>Research &amp; Development</td>\n",
              "      <td>2</td>\n",
              "      <td>1</td>\n",
              "      <td>Medical</td>\n",
              "      <td>1</td>\n",
              "      <td>7</td>\n",
              "      <td>1</td>\n",
              "      <td>Male</td>\n",
              "      <td>40</td>\n",
              "      <td>3</td>\n",
              "      <td>1</td>\n",
              "      <td>Laboratory Technician</td>\n",
              "      <td>2</td>\n",
              "      <td>Married</td>\n",
              "      <td>3468</td>\n",
              "      <td>16632</td>\n",
              "      <td>9</td>\n",
              "      <td>Y</td>\n",
              "      <td>No</td>\n",
              "      <td>12</td>\n",
              "      <td>3</td>\n",
              "      <td>4</td>\n",
              "      <td>80</td>\n",
              "      <td>1</td>\n",
              "      <td>6</td>\n",
              "      <td>3</td>\n",
              "      <td>3</td>\n",
              "      <td>2</td>\n",
              "      <td>2</td>\n",
              "      <td>2</td>\n",
              "      <td>2</td>\n",
              "    </tr>\n",
              "  </tbody>\n",
              "</table>\n",
              "</div>"
            ],
            "text/plain": [
              "   ï»¿Age Attrition     BusinessTravel  DailyRate              Department  \\\n",
              "0      41       Yes      Travel_Rarely       1102                   Sales   \n",
              "1      49        No  Travel_Frequently        279  Research & Development   \n",
              "2      37       Yes      Travel_Rarely       1373  Research & Development   \n",
              "3      33        No  Travel_Frequently       1392  Research & Development   \n",
              "4      27        No      Travel_Rarely        591  Research & Development   \n",
              "\n",
              "   DistanceFromHome  Education EducationField  EmployeeCount  EmployeeNumber  \\\n",
              "0                 1          2  Life Sciences              1               1   \n",
              "1                 8          1  Life Sciences              1               2   \n",
              "2                 2          2          Other              1               4   \n",
              "3                 3          4  Life Sciences              1               5   \n",
              "4                 2          1        Medical              1               7   \n",
              "\n",
              "   EnvironmentSatisfaction  Gender  HourlyRate  JobInvolvement  JobLevel  \\\n",
              "0                        2  Female          94               3         2   \n",
              "1                        3    Male          61               2         2   \n",
              "2                        4    Male          92               2         1   \n",
              "3                        4  Female          56               3         1   \n",
              "4                        1    Male          40               3         1   \n",
              "\n",
              "                 JobRole  JobSatisfaction MaritalStatus  MonthlyIncome  \\\n",
              "0        Sales Executive                4        Single           5993   \n",
              "1     Research Scientist                2       Married           5130   \n",
              "2  Laboratory Technician                3        Single           2090   \n",
              "3     Research Scientist                3       Married           2909   \n",
              "4  Laboratory Technician                2       Married           3468   \n",
              "\n",
              "   MonthlyRate  NumCompaniesWorked Over18 OverTime  PercentSalaryHike  \\\n",
              "0        19479                   8      Y      Yes                 11   \n",
              "1        24907                   1      Y       No                 23   \n",
              "2         2396                   6      Y      Yes                 15   \n",
              "3        23159                   1      Y      Yes                 11   \n",
              "4        16632                   9      Y       No                 12   \n",
              "\n",
              "   PerformanceRating  RelationshipSatisfaction  StandardHours  \\\n",
              "0                  3                         1             80   \n",
              "1                  4                         4             80   \n",
              "2                  3                         2             80   \n",
              "3                  3                         3             80   \n",
              "4                  3                         4             80   \n",
              "\n",
              "   StockOptionLevel  TotalWorkingYears  TrainingTimesLastYear  \\\n",
              "0                 0                  8                      0   \n",
              "1                 1                 10                      3   \n",
              "2                 0                  7                      3   \n",
              "3                 0                  8                      3   \n",
              "4                 1                  6                      3   \n",
              "\n",
              "   WorkLifeBalance  YearsAtCompany  YearsInCurrentRole  \\\n",
              "0                1               6                   4   \n",
              "1                3              10                   7   \n",
              "2                3               0                   0   \n",
              "3                3               8                   7   \n",
              "4                3               2                   2   \n",
              "\n",
              "   YearsSinceLastPromotion  YearsWithCurrManager  \n",
              "0                        0                     5  \n",
              "1                        1                     7  \n",
              "2                        0                     0  \n",
              "3                        3                     0  \n",
              "4                        2                     2  "
            ]
          },
          "metadata": {
            "tags": []
          },
          "execution_count": 97
        }
      ]
    },
    {
      "cell_type": "code",
      "metadata": {
        "colab": {
          "base_uri": "https://localhost:8080/",
          "height": 641
        },
        "id": "-zgrX5yIoBh3",
        "outputId": "106bc0ea-660a-4021-86bd-86149a81f79a"
      },
      "source": [
        "# checking for missing values\n",
        "\n",
        "display(ibm.isnull().any())\n",
        "#ibm.isnull().sum()"
      ],
      "execution_count": null,
      "outputs": [
        {
          "output_type": "display_data",
          "data": {
            "text/plain": [
              "ï»¿Age                      False\n",
              "Attrition                   False\n",
              "BusinessTravel              False\n",
              "DailyRate                   False\n",
              "Department                  False\n",
              "DistanceFromHome            False\n",
              "Education                   False\n",
              "EducationField              False\n",
              "EmployeeCount               False\n",
              "EmployeeNumber              False\n",
              "EnvironmentSatisfaction     False\n",
              "Gender                      False\n",
              "HourlyRate                  False\n",
              "JobInvolvement              False\n",
              "JobLevel                    False\n",
              "JobRole                     False\n",
              "JobSatisfaction             False\n",
              "MaritalStatus               False\n",
              "MonthlyIncome               False\n",
              "MonthlyRate                 False\n",
              "NumCompaniesWorked          False\n",
              "Over18                      False\n",
              "OverTime                    False\n",
              "PercentSalaryHike           False\n",
              "PerformanceRating           False\n",
              "RelationshipSatisfaction    False\n",
              "StandardHours               False\n",
              "StockOptionLevel            False\n",
              "TotalWorkingYears           False\n",
              "TrainingTimesLastYear       False\n",
              "WorkLifeBalance             False\n",
              "YearsAtCompany              False\n",
              "YearsInCurrentRole          False\n",
              "YearsSinceLastPromotion     False\n",
              "YearsWithCurrManager        False\n",
              "dtype: bool"
            ]
          },
          "metadata": {
            "tags": []
          }
        }
      ]
    },
    {
      "cell_type": "markdown",
      "metadata": {
        "id": "4oSJ7542MOPf"
      },
      "source": [
        "Note: The dataset has no missing values.\n"
      ]
    },
    {
      "cell_type": "code",
      "metadata": {
        "colab": {
          "base_uri": "https://localhost:8080/"
        },
        "id": "0ilLqCHN5-4e",
        "outputId": "8a107124-7447-41d7-b73c-020128277077"
      },
      "source": [
        "#checking for duplicate rows\n",
        "ibm[ibm.duplicated(keep='first')].shape"
      ],
      "execution_count": null,
      "outputs": [
        {
          "output_type": "execute_result",
          "data": {
            "text/plain": [
              "(0, 35)"
            ]
          },
          "metadata": {
            "tags": []
          },
          "execution_count": 73
        }
      ]
    },
    {
      "cell_type": "markdown",
      "metadata": {
        "id": "z-rlMLDmMDWE"
      },
      "source": [
        "Note: dataset has no duplicate rows"
      ]
    },
    {
      "cell_type": "code",
      "metadata": {
        "colab": {
          "base_uri": "https://localhost:8080/"
        },
        "id": "o2Wwbsnt1C2l",
        "outputId": "8181cbcc-f11c-4d5e-e97a-07ef5a0481ed"
      },
      "source": [
        "# checking for unique values in each column\n",
        "ibm.nunique()"
      ],
      "execution_count": null,
      "outputs": [
        {
          "output_type": "execute_result",
          "data": {
            "text/plain": [
              "ï»¿Age                        43\n",
              "Attrition                      2\n",
              "BusinessTravel                 3\n",
              "DailyRate                    886\n",
              "Department                     3\n",
              "DistanceFromHome              29\n",
              "Education                      5\n",
              "EducationField                 6\n",
              "EmployeeCount                  1\n",
              "EmployeeNumber              1470\n",
              "EnvironmentSatisfaction        4\n",
              "Gender                         2\n",
              "HourlyRate                    71\n",
              "JobInvolvement                 4\n",
              "JobLevel                       5\n",
              "JobRole                        9\n",
              "JobSatisfaction                4\n",
              "MaritalStatus                  3\n",
              "MonthlyIncome               1349\n",
              "MonthlyRate                 1427\n",
              "NumCompaniesWorked            10\n",
              "Over18                         1\n",
              "OverTime                       2\n",
              "PercentSalaryHike             15\n",
              "PerformanceRating              2\n",
              "RelationshipSatisfaction       4\n",
              "StandardHours                  1\n",
              "StockOptionLevel               4\n",
              "TotalWorkingYears             40\n",
              "TrainingTimesLastYear          7\n",
              "WorkLifeBalance                4\n",
              "YearsAtCompany                37\n",
              "YearsInCurrentRole            19\n",
              "YearsSinceLastPromotion       16\n",
              "YearsWithCurrManager          18\n",
              "dtype: int64"
            ]
          },
          "metadata": {
            "tags": []
          },
          "execution_count": 83
        }
      ]
    },
    {
      "cell_type": "code",
      "metadata": {
        "id": "ETsnrQS11inF"
      },
      "source": [
        "# renaming the age column\n",
        "ibm.rename(columns={'ï»¿Age': 'Age'}, inplace=True)"
      ],
      "execution_count": null,
      "outputs": []
    },
    {
      "cell_type": "markdown",
      "metadata": {
        "id": "6Aw0ZrYVMsJi"
      },
      "source": [
        "# Exploratory Data Analysis\n",
        "\n",
        "Here we take a look at the data and see how features are contributing to the data and to attrition of employees."
      ]
    },
    {
      "cell_type": "code",
      "metadata": {
        "colab": {
          "base_uri": "https://localhost:8080/",
          "height": 763
        },
        "id": "fsPy5iVINS5l",
        "outputId": "b4052d02-f1ab-4c80-eeb4-67cded828091"
      },
      "source": [
        "display(ibm.info())\n",
        "# display(ibm.dtypes)"
      ],
      "execution_count": null,
      "outputs": [
        {
          "output_type": "stream",
          "text": [
            "<class 'pandas.core.frame.DataFrame'>\n",
            "RangeIndex: 1470 entries, 0 to 1469\n",
            "Data columns (total 35 columns):\n",
            " #   Column                    Non-Null Count  Dtype \n",
            "---  ------                    --------------  ----- \n",
            " 0   Age                       1470 non-null   int64 \n",
            " 1   Attrition                 1470 non-null   object\n",
            " 2   BusinessTravel            1470 non-null   object\n",
            " 3   DailyRate                 1470 non-null   int64 \n",
            " 4   Department                1470 non-null   object\n",
            " 5   DistanceFromHome          1470 non-null   int64 \n",
            " 6   Education                 1470 non-null   int64 \n",
            " 7   EducationField            1470 non-null   object\n",
            " 8   EmployeeCount             1470 non-null   int64 \n",
            " 9   EmployeeNumber            1470 non-null   int64 \n",
            " 10  EnvironmentSatisfaction   1470 non-null   int64 \n",
            " 11  Gender                    1470 non-null   object\n",
            " 12  HourlyRate                1470 non-null   int64 \n",
            " 13  JobInvolvement            1470 non-null   int64 \n",
            " 14  JobLevel                  1470 non-null   int64 \n",
            " 15  JobRole                   1470 non-null   object\n",
            " 16  JobSatisfaction           1470 non-null   int64 \n",
            " 17  MaritalStatus             1470 non-null   object\n",
            " 18  MonthlyIncome             1470 non-null   int64 \n",
            " 19  MonthlyRate               1470 non-null   int64 \n",
            " 20  NumCompaniesWorked        1470 non-null   int64 \n",
            " 21  Over18                    1470 non-null   object\n",
            " 22  OverTime                  1470 non-null   object\n",
            " 23  PercentSalaryHike         1470 non-null   int64 \n",
            " 24  PerformanceRating         1470 non-null   int64 \n",
            " 25  RelationshipSatisfaction  1470 non-null   int64 \n",
            " 26  StandardHours             1470 non-null   int64 \n",
            " 27  StockOptionLevel          1470 non-null   int64 \n",
            " 28  TotalWorkingYears         1470 non-null   int64 \n",
            " 29  TrainingTimesLastYear     1470 non-null   int64 \n",
            " 30  WorkLifeBalance           1470 non-null   int64 \n",
            " 31  YearsAtCompany            1470 non-null   int64 \n",
            " 32  YearsInCurrentRole        1470 non-null   int64 \n",
            " 33  YearsSinceLastPromotion   1470 non-null   int64 \n",
            " 34  YearsWithCurrManager      1470 non-null   int64 \n",
            "dtypes: int64(26), object(9)\n",
            "memory usage: 402.1+ KB\n"
          ],
          "name": "stdout"
        },
        {
          "output_type": "display_data",
          "data": {
            "text/plain": [
              "None"
            ]
          },
          "metadata": {
            "tags": []
          }
        }
      ]
    },
    {
      "cell_type": "markdown",
      "metadata": {
        "id": "ZYOFwP7lM58e"
      },
      "source": [
        "Visualizing the distribution of the target Variable"
      ]
    },
    {
      "cell_type": "code",
      "metadata": {
        "colab": {
          "base_uri": "https://localhost:8080/",
          "height": 542
        },
        "id": "GWV69ZSc0ByJ",
        "outputId": "c9db2212-f338-4337-ffbe-415e6a84ee23"
      },
      "source": [
        "fig = px.pie(ibm, names = \"Attrition\", title = \"Attrition Values\")\n",
        "fig.show(renderer='colab')"
      ],
      "execution_count": null,
      "outputs": [
        {
          "output_type": "display_data",
          "data": {
            "text/html": [
              "<html>\n",
              "<head><meta charset=\"utf-8\" /></head>\n",
              "<body>\n",
              "    <div>\n",
              "            <script src=\"https://cdnjs.cloudflare.com/ajax/libs/mathjax/2.7.5/MathJax.js?config=TeX-AMS-MML_SVG\"></script><script type=\"text/javascript\">if (window.MathJax) {MathJax.Hub.Config({SVG: {font: \"STIX-Web\"}});}</script>\n",
              "                <script type=\"text/javascript\">window.PlotlyConfig = {MathJaxConfig: 'local'};</script>\n",
              "        <script src=\"https://cdn.plot.ly/plotly-latest.min.js\"></script>    \n",
              "            <div id=\"e5d11b09-9388-42e9-9708-d015c2fb0e7e\" class=\"plotly-graph-div\" style=\"height:525px; width:100%;\"></div>\n",
              "            <script type=\"text/javascript\">\n",
              "                \n",
              "                    window.PLOTLYENV=window.PLOTLYENV || {};\n",
              "                    \n",
              "                if (document.getElementById(\"e5d11b09-9388-42e9-9708-d015c2fb0e7e\")) {\n",
              "                    Plotly.newPlot(\n",
              "                        'e5d11b09-9388-42e9-9708-d015c2fb0e7e',\n",
              "                        [{\"domain\": {\"x\": [0.0, 1.0], \"y\": [0.0, 1.0]}, \"hoverlabel\": {\"namelength\": 0}, \"hovertemplate\": \"Attrition=%{label}\", \"labels\": [\"Yes\", \"No\", \"Yes\", \"No\", \"No\", \"No\", \"No\", \"No\", \"No\", \"No\", \"No\", \"No\", \"No\", \"No\", \"Yes\", \"No\", \"No\", \"No\", \"No\", \"No\", \"No\", \"Yes\", \"No\", \"No\", \"Yes\", \"No\", \"Yes\", \"No\", \"No\", \"No\", \"No\", \"No\", \"No\", \"Yes\", \"Yes\", \"No\", \"Yes\", \"No\", \"No\", \"No\", \"No\", \"No\", \"Yes\", \"No\", \"No\", \"Yes\", \"No\", \"No\", \"No\", \"No\", \"Yes\", \"Yes\", \"No\", \"No\", \"No\", \"No\", \"No\", \"No\", \"No\", \"No\", \"No\", \"No\", \"No\", \"No\", \"No\", \"No\", \"No\", \"No\", \"No\", \"Yes\", \"No\", \"No\", \"No\", \"No\", \"No\", \"No\", \"No\", \"No\", \"No\", \"No\", \"No\", \"No\", \"No\", \"No\", \"No\", \"No\", \"No\", \"No\", \"No\", \"Yes\", \"No\", \"No\", \"No\", \"No\", \"No\", \"No\", \"No\", \"No\", \"No\", \"No\", \"Yes\", \"No\", \"Yes\", \"No\", \"No\", \"No\", \"No\", \"Yes\", \"No\", \"No\", \"No\", \"Yes\", \"No\", \"No\", \"No\", \"No\", \"No\", \"No\", \"No\", \"No\", \"No\", \"No\", \"Yes\", \"No\", \"Yes\", \"No\", \"Yes\", \"Yes\", \"No\", \"No\", \"No\", \"No\", \"Yes\", \"No\", \"No\", \"No\", \"Yes\", \"No\", \"No\", \"No\", \"Yes\", \"No\", \"No\", \"No\", \"No\", \"No\", \"No\", \"No\", \"No\", \"No\", \"No\", \"No\", \"No\", \"No\", \"No\", \"No\", \"No\", \"No\", \"No\", \"No\", \"No\", \"No\", \"No\", \"No\", \"No\", \"No\", \"No\", \"No\", \"No\", \"No\", \"No\", \"Yes\", \"No\", \"No\", \"No\", \"No\", \"No\", \"Yes\", \"No\", \"No\", \"No\", \"No\", \"Yes\", \"No\", \"No\", \"No\", \"No\", \"No\", \"No\", \"No\", \"No\", \"No\", \"Yes\", \"No\", \"No\", \"No\", \"No\", \"No\", \"No\", \"No\", \"No\", \"No\", \"No\", \"No\", \"Yes\", \"Yes\", \"No\", \"No\", \"No\", \"No\", \"Yes\", \"No\", \"No\", \"No\", \"Yes\", \"No\", \"Yes\", \"Yes\", \"No\", \"No\", \"No\", \"No\", \"No\", \"No\", \"No\", \"No\", \"No\", \"No\", \"No\", \"Yes\", \"No\", \"No\", \"No\", \"No\", \"Yes\", \"No\", \"Yes\", \"No\", \"No\", \"Yes\", \"No\", \"No\", \"No\", \"No\", \"No\", \"No\", \"No\", \"No\", \"No\", \"No\", \"Yes\", \"No\", \"No\", \"No\", \"No\", \"No\", \"No\", \"No\", \"No\", \"Yes\", \"No\", \"No\", \"No\", \"No\", \"Yes\", \"No\", \"No\", \"No\", \"No\", \"No\", \"No\", \"Yes\", \"No\", \"No\", \"No\", \"No\", \"No\", \"No\", \"No\", \"No\", \"No\", \"No\", \"No\", \"No\", \"No\", \"No\", \"Yes\", \"No\", \"Yes\", \"No\", \"No\", \"No\", \"No\", \"Yes\", \"No\", \"No\", \"Yes\", \"No\", \"No\", \"No\", \"No\", \"No\", \"No\", \"No\", \"No\", \"No\", \"No\", \"No\", \"No\", \"No\", \"No\", \"No\", \"No\", \"No\", \"No\", \"No\", \"No\", \"Yes\", \"No\", \"No\", \"No\", \"No\", \"No\", \"Yes\", \"No\", \"No\", \"No\", \"Yes\", \"No\", \"No\", \"No\", \"No\", \"No\", \"No\", \"No\", \"No\", \"Yes\", \"No\", \"No\", \"No\", \"No\", \"No\", \"No\", \"No\", \"No\", \"No\", \"No\", \"No\", \"No\", \"No\", \"No\", \"No\", \"No\", \"No\", \"No\", \"No\", \"No\", \"Yes\", \"No\", \"No\", \"No\", \"No\", \"No\", \"Yes\", \"No\", \"No\", \"Yes\", \"No\", \"Yes\", \"No\", \"Yes\", \"No\", \"No\", \"No\", \"No\", \"No\", \"No\", \"No\", \"Yes\", \"No\", \"No\", \"No\", \"Yes\", \"No\", \"No\", \"Yes\", \"No\", \"No\", \"No\", \"No\", \"No\", \"No\", \"No\", \"No\", \"No\", \"No\", \"No\", \"No\", \"No\", \"No\", \"No\", \"No\", \"No\", \"No\", \"No\", \"Yes\", \"No\", \"No\", \"No\", \"No\", \"No\", \"No\", \"No\", \"No\", \"Yes\", \"Yes\", \"No\", \"No\", \"No\", \"No\", \"No\", \"Yes\", \"Yes\", \"No\", \"No\", \"No\", \"No\", \"No\", \"No\", \"No\", \"No\", \"No\", \"No\", \"No\", \"No\", \"Yes\", \"Yes\", \"No\", \"No\", \"Yes\", \"Yes\", \"No\", \"No\", \"Yes\", \"No\", \"No\", \"No\", \"No\", \"No\", \"No\", \"No\", \"No\", \"No\", \"Yes\", \"No\", \"No\", \"No\", \"Yes\", \"No\", \"No\", \"No\", \"No\", \"No\", \"Yes\", \"No\", \"No\", \"No\", \"No\", \"No\", \"Yes\", \"No\", \"No\", \"No\", \"No\", \"No\", \"No\", \"No\", \"No\", \"No\", \"Yes\", \"Yes\", \"No\", \"Yes\", \"No\", \"No\", \"No\", \"No\", \"No\", \"No\", \"No\", \"No\", \"No\", \"No\", \"No\", \"No\", \"Yes\", \"No\", \"No\", \"No\", \"No\", \"No\", \"No\", \"No\", \"No\", \"Yes\", \"No\", \"No\", \"No\", \"No\", \"No\", \"No\", \"No\", \"No\", \"Yes\", \"Yes\", \"No\", \"No\", \"No\", \"No\", \"No\", \"No\", \"No\", \"No\", \"No\", \"No\", \"Yes\", \"No\", \"No\", \"Yes\", \"No\", \"No\", \"No\", \"No\", \"No\", \"No\", \"No\", \"No\", \"No\", \"No\", \"No\", \"Yes\", \"No\", \"No\", \"No\", \"No\", \"No\", \"No\", \"Yes\", \"No\", \"No\", \"No\", \"No\", \"No\", \"No\", \"No\", \"No\", \"No\", \"No\", \"No\", \"No\", \"No\", \"No\", \"Yes\", \"No\", \"No\", \"No\", \"Yes\", \"No\", \"Yes\", \"No\", \"No\", \"No\", \"No\", \"Yes\", \"No\", \"No\", \"No\", \"No\", \"No\", \"No\", \"No\", \"No\", \"No\", \"No\", \"No\", \"Yes\", \"No\", \"No\", \"No\", \"Yes\", \"No\", \"Yes\", \"No\", \"No\", \"No\", \"Yes\", \"No\", \"No\", \"Yes\", \"No\", \"No\", \"No\", \"No\", \"No\", \"No\", \"No\", \"No\", \"Yes\", \"Yes\", \"No\", \"No\", \"No\", \"No\", \"No\", \"Yes\", \"No\", \"No\", \"No\", \"No\", \"No\", \"No\", \"No\", \"No\", \"No\", \"No\", \"No\", \"No\", \"No\", \"No\", \"No\", \"No\", \"No\", \"No\", \"No\", \"No\", \"No\", \"Yes\", \"No\", \"No\", \"No\", \"No\", \"No\", \"No\", \"No\", \"No\", \"Yes\", \"No\", \"No\", \"No\", \"No\", \"No\", \"No\", \"No\", \"No\", \"No\", \"No\", \"Yes\", \"No\", \"No\", \"No\", \"Yes\", \"No\", \"Yes\", \"Yes\", \"No\", \"No\", \"Yes\", \"Yes\", \"No\", \"Yes\", \"No\", \"No\", \"No\", \"No\", \"No\", \"No\", \"No\", \"No\", \"No\", \"No\", \"No\", \"No\", \"No\", \"Yes\", \"No\", \"No\", \"No\", \"No\", \"Yes\", \"Yes\", \"No\", \"No\", \"No\", \"Yes\", \"No\", \"Yes\", \"No\", \"No\", \"No\", \"No\", \"Yes\", \"No\", \"No\", \"No\", \"No\", \"No\", \"Yes\", \"No\", \"No\", \"Yes\", \"No\", \"Yes\", \"No\", \"No\", \"No\", \"No\", \"No\", \"No\", \"No\", \"No\", \"Yes\", \"No\", \"No\", \"No\", \"No\", \"Yes\", \"No\", \"No\", \"No\", \"No\", \"No\", \"Yes\", \"Yes\", \"No\", \"No\", \"No\", \"No\", \"No\", \"No\", \"No\", \"No\", \"No\", \"No\", \"No\", \"Yes\", \"No\", \"No\", \"No\", \"Yes\", \"Yes\", \"No\", \"No\", \"Yes\", \"No\", \"No\", \"No\", \"No\", \"No\", \"No\", \"No\", \"No\", \"Yes\", \"Yes\", \"No\", \"No\", \"No\", \"No\", \"No\", \"No\", \"No\", \"No\", \"No\", \"No\", \"No\", \"No\", \"No\", \"Yes\", \"Yes\", \"No\", \"Yes\", \"Yes\", \"No\", \"No\", \"No\", \"No\", \"No\", \"No\", \"No\", \"No\", \"Yes\", \"No\", \"Yes\", \"Yes\", \"No\", \"No\", \"No\", \"Yes\", \"Yes\", \"Yes\", \"No\", \"Yes\", \"Yes\", \"No\", \"No\", \"No\", \"No\", \"No\", \"No\", \"No\", \"No\", \"No\", \"No\", \"No\", \"Yes\", \"No\", \"No\", \"No\", \"No\", \"No\", \"No\", \"No\", \"No\", \"No\", \"No\", \"No\", \"No\", \"No\", \"No\", \"Yes\", \"Yes\", \"No\", \"Yes\", \"No\", \"No\", \"No\", \"No\", \"Yes\", \"No\", \"Yes\", \"No\", \"No\", \"No\", \"Yes\", \"No\", \"No\", \"No\", \"No\", \"No\", \"No\", \"Yes\", \"No\", \"No\", \"No\", \"No\", \"No\", \"No\", \"No\", \"Yes\", \"No\", \"No\", \"Yes\", \"No\", \"No\", \"No\", \"Yes\", \"No\", \"No\", \"No\", \"No\", \"No\", \"No\", \"Yes\", \"No\", \"No\", \"No\", \"No\", \"No\", \"No\", \"No\", \"No\", \"No\", \"No\", \"No\", \"No\", \"No\", \"No\", \"No\", \"No\", \"No\", \"No\", \"No\", \"No\", \"Yes\", \"No\", \"No\", \"No\", \"No\", \"No\", \"No\", \"No\", \"No\", \"No\", \"No\", \"No\", \"No\", \"No\", \"No\", \"No\", \"No\", \"No\", \"No\", \"Yes\", \"No\", \"Yes\", \"No\", \"Yes\", \"No\", \"No\", \"No\", \"No\", \"No\", \"No\", \"No\", \"No\", \"No\", \"No\", \"No\", \"No\", \"Yes\", \"No\", \"No\", \"No\", \"Yes\", \"No\", \"No\", \"No\", \"No\", \"No\", \"No\", \"Yes\", \"Yes\", \"No\", \"No\", \"No\", \"No\", \"No\", \"Yes\", \"Yes\", \"No\", \"No\", \"No\", \"No\", \"Yes\", \"Yes\", \"No\", \"No\", \"No\", \"No\", \"No\", \"No\", \"No\", \"No\", \"No\", \"No\", \"No\", \"No\", \"Yes\", \"No\", \"No\", \"No\", \"No\", \"No\", \"No\", \"No\", \"No\", \"Yes\", \"No\", \"No\", \"No\", \"No\", \"Yes\", \"Yes\", \"No\", \"No\", \"No\", \"Yes\", \"No\", \"No\", \"No\", \"No\", \"No\", \"No\", \"No\", \"No\", \"No\", \"No\", \"No\", \"Yes\", \"No\", \"No\", \"No\", \"No\", \"No\", \"No\", \"No\", \"No\", \"Yes\", \"Yes\", \"No\", \"No\", \"No\", \"No\", \"Yes\", \"No\", \"No\", \"No\", \"Yes\", \"No\", \"No\", \"No\", \"No\", \"Yes\", \"No\", \"No\", \"No\", \"No\", \"No\", \"No\", \"No\", \"No\", \"No\", \"Yes\", \"Yes\", \"Yes\", \"No\", \"No\", \"Yes\", \"No\", \"No\", \"Yes\", \"No\", \"No\", \"No\", \"No\", \"No\", \"No\", \"No\", \"No\", \"No\", \"No\", \"No\", \"No\", \"No\", \"No\", \"No\", \"No\", \"Yes\", \"Yes\", \"Yes\", \"No\", \"Yes\", \"No\", \"No\", \"No\", \"No\", \"No\", \"No\", \"No\", \"Yes\", \"No\", \"No\", \"No\", \"No\", \"No\", \"No\", \"No\", \"No\", \"Yes\", \"No\", \"No\", \"No\", \"No\", \"No\", \"Yes\", \"No\", \"Yes\", \"No\", \"No\", \"No\", \"No\", \"No\", \"No\", \"No\", \"No\", \"No\", \"No\", \"No\", \"No\", \"No\", \"No\", \"No\", \"No\", \"No\", \"No\", \"No\", \"No\", \"Yes\", \"No\", \"No\", \"No\", \"Yes\", \"Yes\", \"Yes\", \"No\", \"No\", \"No\", \"No\", \"No\", \"No\", \"No\", \"No\", \"No\", \"No\", \"No\", \"No\", \"No\", \"No\", \"No\", \"No\", \"No\", \"No\", \"No\", \"No\", \"No\", \"No\", \"No\", \"Yes\", \"No\", \"No\", \"No\", \"No\", \"No\", \"No\", \"No\", \"No\", \"No\", \"No\", \"No\", \"No\", \"No\", \"No\", \"No\", \"No\", \"Yes\", \"No\", \"No\", \"No\", \"No\", \"No\", \"No\", \"No\", \"No\", \"Yes\", \"No\", \"No\", \"No\", \"No\", \"Yes\", \"No\", \"No\", \"No\", \"Yes\", \"No\", \"No\", \"No\", \"No\", \"No\", \"No\", \"No\", \"No\", \"No\", \"No\", \"No\", \"No\", \"No\", \"No\", \"Yes\", \"No\", \"No\", \"No\", \"No\", \"No\", \"No\", \"No\", \"No\", \"No\", \"No\", \"No\", \"No\", \"No\", \"No\", \"Yes\", \"No\", \"No\", \"Yes\", \"Yes\", \"No\", \"No\", \"No\", \"No\", \"No\", \"No\", \"No\", \"Yes\", \"No\", \"No\", \"No\", \"No\", \"No\", \"No\", \"No\", \"No\", \"Yes\", \"Yes\", \"No\", \"No\", \"No\", \"No\", \"No\", \"No\", \"No\", \"No\", \"No\", \"No\", \"No\", \"No\", \"Yes\", \"Yes\", \"No\", \"No\", \"No\", \"No\", \"No\", \"No\", \"No\", \"No\", \"Yes\", \"No\", \"No\", \"Yes\", \"No\", \"No\", \"No\", \"No\", \"No\", \"Yes\", \"No\", \"Yes\", \"No\", \"No\", \"No\", \"No\", \"Yes\", \"No\", \"No\", \"No\", \"No\", \"No\", \"No\", \"No\", \"No\", \"Yes\", \"No\", \"Yes\", \"No\", \"No\", \"No\", \"No\", \"No\", \"Yes\", \"No\", \"Yes\", \"No\", \"No\", \"No\", \"No\", \"No\", \"No\", \"No\", \"No\", \"Yes\", \"Yes\", \"No\", \"No\", \"No\", \"No\", \"No\", \"Yes\", \"Yes\", \"No\", \"No\", \"No\", \"No\", \"No\", \"No\", \"No\", \"No\", \"No\", \"No\", \"No\", \"No\", \"No\", \"Yes\", \"Yes\", \"No\", \"No\", \"No\", \"No\", \"No\", \"No\", \"No\", \"No\", \"No\", \"No\", \"No\", \"No\", \"Yes\", \"No\", \"No\", \"No\", \"No\", \"No\", \"Yes\", \"Yes\", \"No\", \"No\", \"No\", \"No\", \"Yes\", \"Yes\", \"No\", \"No\", \"No\", \"No\", \"No\", \"No\", \"No\", \"No\", \"No\", \"No\", \"No\", \"No\", \"No\", \"Yes\", \"Yes\", \"No\", \"No\", \"No\", \"No\", \"No\", \"No\", \"No\", \"No\", \"No\", \"No\", \"Yes\", \"No\", \"No\", \"No\", \"Yes\", \"No\", \"No\", \"No\", \"No\", \"No\", \"Yes\", \"No\", \"No\", \"No\", \"Yes\", \"No\", \"No\", \"No\", \"No\", \"No\", \"No\", \"No\", \"No\", \"No\", \"No\", \"Yes\", \"No\", \"No\", \"No\", \"No\", \"Yes\", \"Yes\", \"No\", \"No\", \"No\", \"No\", \"No\", \"No\", \"No\", \"No\", \"No\", \"No\", \"No\", \"No\", \"No\", \"No\", \"No\", \"No\", \"No\", \"No\", \"No\", \"No\", \"No\", \"No\", \"No\", \"No\", \"No\", \"No\", \"No\", \"No\", \"No\", \"No\", \"No\", \"No\", \"No\", \"No\", \"No\", \"No\", \"No\", \"No\", \"No\", \"No\", \"No\", \"Yes\", \"No\", \"No\", \"No\", \"Yes\", \"No\", \"Yes\", \"No\", \"No\", \"No\", \"No\", \"No\", \"No\", \"No\", \"Yes\", \"No\", \"No\", \"No\", \"No\", \"No\", \"No\", \"No\", \"No\", \"Yes\", \"No\", \"No\", \"No\", \"No\", \"No\", \"No\", \"No\", \"No\"], \"legendgroup\": \"\", \"name\": \"\", \"showlegend\": true, \"type\": \"pie\"}],\n",
              "                        {\"legend\": {\"tracegroupgap\": 0}, \"template\": {\"data\": {\"bar\": [{\"error_x\": {\"color\": \"#2a3f5f\"}, \"error_y\": {\"color\": \"#2a3f5f\"}, \"marker\": {\"line\": {\"color\": \"#E5ECF6\", \"width\": 0.5}}, \"type\": \"bar\"}], \"barpolar\": [{\"marker\": {\"line\": {\"color\": \"#E5ECF6\", \"width\": 0.5}}, \"type\": \"barpolar\"}], \"carpet\": [{\"aaxis\": {\"endlinecolor\": \"#2a3f5f\", \"gridcolor\": \"white\", \"linecolor\": \"white\", \"minorgridcolor\": \"white\", \"startlinecolor\": \"#2a3f5f\"}, \"baxis\": {\"endlinecolor\": \"#2a3f5f\", \"gridcolor\": \"white\", \"linecolor\": \"white\", \"minorgridcolor\": \"white\", \"startlinecolor\": \"#2a3f5f\"}, \"type\": \"carpet\"}], \"choropleth\": [{\"colorbar\": {\"outlinewidth\": 0, \"ticks\": \"\"}, \"type\": \"choropleth\"}], \"contour\": [{\"colorbar\": {\"outlinewidth\": 0, \"ticks\": \"\"}, \"colorscale\": [[0.0, \"#0d0887\"], [0.1111111111111111, \"#46039f\"], [0.2222222222222222, \"#7201a8\"], [0.3333333333333333, \"#9c179e\"], [0.4444444444444444, \"#bd3786\"], [0.5555555555555556, \"#d8576b\"], [0.6666666666666666, \"#ed7953\"], [0.7777777777777778, \"#fb9f3a\"], [0.8888888888888888, \"#fdca26\"], [1.0, \"#f0f921\"]], \"type\": \"contour\"}], \"contourcarpet\": [{\"colorbar\": {\"outlinewidth\": 0, \"ticks\": \"\"}, \"type\": \"contourcarpet\"}], \"heatmap\": [{\"colorbar\": {\"outlinewidth\": 0, \"ticks\": \"\"}, \"colorscale\": [[0.0, \"#0d0887\"], [0.1111111111111111, \"#46039f\"], [0.2222222222222222, \"#7201a8\"], [0.3333333333333333, \"#9c179e\"], [0.4444444444444444, \"#bd3786\"], [0.5555555555555556, \"#d8576b\"], [0.6666666666666666, \"#ed7953\"], [0.7777777777777778, \"#fb9f3a\"], [0.8888888888888888, \"#fdca26\"], [1.0, \"#f0f921\"]], \"type\": \"heatmap\"}], \"heatmapgl\": [{\"colorbar\": {\"outlinewidth\": 0, \"ticks\": \"\"}, \"colorscale\": [[0.0, \"#0d0887\"], [0.1111111111111111, \"#46039f\"], [0.2222222222222222, \"#7201a8\"], [0.3333333333333333, \"#9c179e\"], [0.4444444444444444, \"#bd3786\"], [0.5555555555555556, \"#d8576b\"], [0.6666666666666666, \"#ed7953\"], [0.7777777777777778, \"#fb9f3a\"], [0.8888888888888888, \"#fdca26\"], [1.0, \"#f0f921\"]], \"type\": \"heatmapgl\"}], \"histogram\": [{\"marker\": {\"colorbar\": {\"outlinewidth\": 0, \"ticks\": \"\"}}, \"type\": \"histogram\"}], \"histogram2d\": [{\"colorbar\": {\"outlinewidth\": 0, \"ticks\": \"\"}, \"colorscale\": [[0.0, \"#0d0887\"], [0.1111111111111111, \"#46039f\"], [0.2222222222222222, \"#7201a8\"], [0.3333333333333333, \"#9c179e\"], [0.4444444444444444, \"#bd3786\"], [0.5555555555555556, \"#d8576b\"], [0.6666666666666666, \"#ed7953\"], [0.7777777777777778, \"#fb9f3a\"], [0.8888888888888888, \"#fdca26\"], [1.0, \"#f0f921\"]], \"type\": \"histogram2d\"}], \"histogram2dcontour\": [{\"colorbar\": {\"outlinewidth\": 0, \"ticks\": \"\"}, \"colorscale\": [[0.0, \"#0d0887\"], [0.1111111111111111, \"#46039f\"], [0.2222222222222222, \"#7201a8\"], [0.3333333333333333, \"#9c179e\"], [0.4444444444444444, \"#bd3786\"], [0.5555555555555556, \"#d8576b\"], [0.6666666666666666, \"#ed7953\"], [0.7777777777777778, \"#fb9f3a\"], [0.8888888888888888, \"#fdca26\"], [1.0, \"#f0f921\"]], \"type\": \"histogram2dcontour\"}], \"mesh3d\": [{\"colorbar\": {\"outlinewidth\": 0, \"ticks\": \"\"}, \"type\": \"mesh3d\"}], \"parcoords\": [{\"line\": {\"colorbar\": {\"outlinewidth\": 0, \"ticks\": \"\"}}, \"type\": \"parcoords\"}], \"pie\": [{\"automargin\": true, \"type\": \"pie\"}], \"scatter\": [{\"marker\": {\"colorbar\": {\"outlinewidth\": 0, \"ticks\": \"\"}}, \"type\": \"scatter\"}], \"scatter3d\": [{\"line\": {\"colorbar\": {\"outlinewidth\": 0, \"ticks\": \"\"}}, \"marker\": {\"colorbar\": {\"outlinewidth\": 0, \"ticks\": \"\"}}, \"type\": \"scatter3d\"}], \"scattercarpet\": [{\"marker\": {\"colorbar\": {\"outlinewidth\": 0, \"ticks\": \"\"}}, \"type\": \"scattercarpet\"}], \"scattergeo\": [{\"marker\": {\"colorbar\": {\"outlinewidth\": 0, \"ticks\": \"\"}}, \"type\": \"scattergeo\"}], \"scattergl\": [{\"marker\": {\"colorbar\": {\"outlinewidth\": 0, \"ticks\": \"\"}}, \"type\": \"scattergl\"}], \"scattermapbox\": [{\"marker\": {\"colorbar\": {\"outlinewidth\": 0, \"ticks\": \"\"}}, \"type\": \"scattermapbox\"}], \"scatterpolar\": [{\"marker\": {\"colorbar\": {\"outlinewidth\": 0, \"ticks\": \"\"}}, \"type\": \"scatterpolar\"}], \"scatterpolargl\": [{\"marker\": {\"colorbar\": {\"outlinewidth\": 0, \"ticks\": \"\"}}, \"type\": \"scatterpolargl\"}], \"scatterternary\": [{\"marker\": {\"colorbar\": {\"outlinewidth\": 0, \"ticks\": \"\"}}, \"type\": \"scatterternary\"}], \"surface\": [{\"colorbar\": {\"outlinewidth\": 0, \"ticks\": \"\"}, \"colorscale\": [[0.0, \"#0d0887\"], [0.1111111111111111, \"#46039f\"], [0.2222222222222222, \"#7201a8\"], [0.3333333333333333, \"#9c179e\"], [0.4444444444444444, \"#bd3786\"], [0.5555555555555556, \"#d8576b\"], [0.6666666666666666, \"#ed7953\"], [0.7777777777777778, \"#fb9f3a\"], [0.8888888888888888, \"#fdca26\"], [1.0, \"#f0f921\"]], \"type\": \"surface\"}], \"table\": [{\"cells\": {\"fill\": {\"color\": \"#EBF0F8\"}, \"line\": {\"color\": \"white\"}}, \"header\": {\"fill\": {\"color\": \"#C8D4E3\"}, \"line\": {\"color\": \"white\"}}, \"type\": \"table\"}]}, \"layout\": {\"annotationdefaults\": {\"arrowcolor\": \"#2a3f5f\", \"arrowhead\": 0, \"arrowwidth\": 1}, \"coloraxis\": {\"colorbar\": {\"outlinewidth\": 0, \"ticks\": \"\"}}, \"colorscale\": {\"diverging\": [[0, \"#8e0152\"], [0.1, \"#c51b7d\"], [0.2, \"#de77ae\"], [0.3, \"#f1b6da\"], [0.4, \"#fde0ef\"], [0.5, \"#f7f7f7\"], [0.6, \"#e6f5d0\"], [0.7, \"#b8e186\"], [0.8, \"#7fbc41\"], [0.9, \"#4d9221\"], [1, \"#276419\"]], \"sequential\": [[0.0, \"#0d0887\"], [0.1111111111111111, \"#46039f\"], [0.2222222222222222, \"#7201a8\"], [0.3333333333333333, \"#9c179e\"], [0.4444444444444444, \"#bd3786\"], [0.5555555555555556, \"#d8576b\"], [0.6666666666666666, \"#ed7953\"], [0.7777777777777778, \"#fb9f3a\"], [0.8888888888888888, \"#fdca26\"], [1.0, \"#f0f921\"]], \"sequentialminus\": [[0.0, \"#0d0887\"], [0.1111111111111111, \"#46039f\"], [0.2222222222222222, \"#7201a8\"], [0.3333333333333333, \"#9c179e\"], [0.4444444444444444, \"#bd3786\"], [0.5555555555555556, \"#d8576b\"], [0.6666666666666666, \"#ed7953\"], [0.7777777777777778, \"#fb9f3a\"], [0.8888888888888888, \"#fdca26\"], [1.0, \"#f0f921\"]]}, \"colorway\": [\"#636efa\", \"#EF553B\", \"#00cc96\", \"#ab63fa\", \"#FFA15A\", \"#19d3f3\", \"#FF6692\", \"#B6E880\", \"#FF97FF\", \"#FECB52\"], \"font\": {\"color\": \"#2a3f5f\"}, \"geo\": {\"bgcolor\": \"white\", \"lakecolor\": \"white\", \"landcolor\": \"#E5ECF6\", \"showlakes\": true, \"showland\": true, \"subunitcolor\": \"white\"}, \"hoverlabel\": {\"align\": \"left\"}, \"hovermode\": \"closest\", \"mapbox\": {\"style\": \"light\"}, \"paper_bgcolor\": \"white\", \"plot_bgcolor\": \"#E5ECF6\", \"polar\": {\"angularaxis\": {\"gridcolor\": \"white\", \"linecolor\": \"white\", \"ticks\": \"\"}, \"bgcolor\": \"#E5ECF6\", \"radialaxis\": {\"gridcolor\": \"white\", \"linecolor\": \"white\", \"ticks\": \"\"}}, \"scene\": {\"xaxis\": {\"backgroundcolor\": \"#E5ECF6\", \"gridcolor\": \"white\", \"gridwidth\": 2, \"linecolor\": \"white\", \"showbackground\": true, \"ticks\": \"\", \"zerolinecolor\": \"white\"}, \"yaxis\": {\"backgroundcolor\": \"#E5ECF6\", \"gridcolor\": \"white\", \"gridwidth\": 2, \"linecolor\": \"white\", \"showbackground\": true, \"ticks\": \"\", \"zerolinecolor\": \"white\"}, \"zaxis\": {\"backgroundcolor\": \"#E5ECF6\", \"gridcolor\": \"white\", \"gridwidth\": 2, \"linecolor\": \"white\", \"showbackground\": true, \"ticks\": \"\", \"zerolinecolor\": \"white\"}}, \"shapedefaults\": {\"line\": {\"color\": \"#2a3f5f\"}}, \"ternary\": {\"aaxis\": {\"gridcolor\": \"white\", \"linecolor\": \"white\", \"ticks\": \"\"}, \"baxis\": {\"gridcolor\": \"white\", \"linecolor\": \"white\", \"ticks\": \"\"}, \"bgcolor\": \"#E5ECF6\", \"caxis\": {\"gridcolor\": \"white\", \"linecolor\": \"white\", \"ticks\": \"\"}}, \"title\": {\"x\": 0.05}, \"xaxis\": {\"automargin\": true, \"gridcolor\": \"white\", \"linecolor\": \"white\", \"ticks\": \"\", \"title\": {\"standoff\": 15}, \"zerolinecolor\": \"white\", \"zerolinewidth\": 2}, \"yaxis\": {\"automargin\": true, \"gridcolor\": \"white\", \"linecolor\": \"white\", \"ticks\": \"\", \"title\": {\"standoff\": 15}, \"zerolinecolor\": \"white\", \"zerolinewidth\": 2}}}, \"title\": {\"text\": \"Distribution of Attrition Values\"}},\n",
              "                        {\"responsive\": true}\n",
              "                    ).then(function(){\n",
              "                            \n",
              "var gd = document.getElementById('e5d11b09-9388-42e9-9708-d015c2fb0e7e');\n",
              "var x = new MutationObserver(function (mutations, observer) {{\n",
              "        var display = window.getComputedStyle(gd).display;\n",
              "        if (!display || display === 'none') {{\n",
              "            console.log([gd, 'removed!']);\n",
              "            Plotly.purge(gd);\n",
              "            observer.disconnect();\n",
              "        }}\n",
              "}});\n",
              "\n",
              "// Listen for the removal of the full notebook cells\n",
              "var notebookContainer = gd.closest('#notebook-container');\n",
              "if (notebookContainer) {{\n",
              "    x.observe(notebookContainer, {childList: true});\n",
              "}}\n",
              "\n",
              "// Listen for the clearing of the current output cell\n",
              "var outputEl = gd.closest('.output');\n",
              "if (outputEl) {{\n",
              "    x.observe(outputEl, {childList: true});\n",
              "}}\n",
              "\n",
              "                        })\n",
              "                };\n",
              "                \n",
              "            </script>\n",
              "        </div>\n",
              "</body>\n",
              "</html>"
            ]
          },
          "metadata": {
            "tags": []
          }
        }
      ]
    },
    {
      "cell_type": "code",
      "metadata": {
        "colab": {
          "base_uri": "https://localhost:8080/",
          "height": 611
        },
        "id": "bUGw7_Z8y49G",
        "outputId": "9bf64bd8-3979-482f-d665-bceaf9bfc6a2"
      },
      "source": [
        "sns.countplot(ibm.Attrition)\n",
        "plt.title('Attrition', fontsize=15)"
      ],
      "execution_count": null,
      "outputs": [
        {
          "output_type": "execute_result",
          "data": {
            "text/plain": [
              "Text(0.5, 1.0, 'Attrition')"
            ]
          },
          "metadata": {
            "tags": []
          },
          "execution_count": 78
        },
        {
          "output_type": "display_data",
          "data": {
            "image/png": "[encoded data removed]",
            "text/plain": [
              "<Figure size 1440x720 with 1 Axes>"
            ]
          },
          "metadata": {
            "tags": [],
            "needs_background": "light"
          }
        }
      ]
    },
    {
      "cell_type": "code",
      "metadata": {
        "id": "WFIZomfMRV3R"
      },
      "source": [
        "'''ibm['Attrition'].value_counts().plot(kind='bar', color='red', alpha=.65)\n",
        "plt.title('Visualizing Attrition Value Counts')'''"
      ],
      "execution_count": null,
      "outputs": []
    },
    {
      "cell_type": "markdown",
      "metadata": {
        "id": "fulG4Zn4R6Ra"
      },
      "source": [
        "- From the charts above we realize that the dataset is imbalanced and therefore it is necessary to apply either undersampling or oversampling to it in later stages when modelling"
      ]
    },
    {
      "cell_type": "markdown",
      "metadata": {
        "id": "2qNzrLCPqBq5"
      },
      "source": [
        "**Correlation:**\n",
        "\n",
        "---\n",
        "\n",
        "\n",
        "\n",
        "We aim to predict the employee attrition and it is important to see which variables contribute the most in attrition hence we need to know if the variables are correlated so we know which to avoid in the model building process.\n"
      ]
    },
    {
      "cell_type": "code",
      "metadata": {
        "colab": {
          "base_uri": "https://localhost:8080/",
          "height": 35
        },
        "id": "54ip38nmPi34",
        "outputId": "273319df-bdd9-49a4-e1af-9da145e08fdc"
      },
      "source": [
        "# eliminating columns with only one data level\n",
        "\n",
        "temp = []\n",
        "for col in ibm.columns:\n",
        "    if len(ibm[col].unique()) == 1:\n",
        "        temp.append(col)\n",
        "        ibm.drop(col, inplace=True, axis=1)\n",
        "\n",
        "display(temp)"
      ],
      "execution_count": null,
      "outputs": [
        {
          "output_type": "display_data",
          "data": {
            "text/plain": [
              "['EmployeeCount', 'Over18', 'StandardHours']"
            ]
          },
          "metadata": {
            "tags": []
          }
        }
      ]
    },
    {
      "cell_type": "code",
      "metadata": {
        "id": "97sOCY0CQrjo"
      },
      "source": [
        "# dropping other unnecessary columns\n",
        "ibm.drop(columns='EmployeeNumber', inplace=True)"
      ],
      "execution_count": null,
      "outputs": []
    },
    {
      "cell_type": "code",
      "metadata": {
        "id": "GaSY0KGBPsuB"
      },
      "source": [
        "map = {'Yes':1, 'No':0}\n",
        "\n",
        "ibm['Attrition_encoded'] = ibm['Attrition'].apply(lambda x: map[x])\n",
        "ibm['Overtime_encoded'] = ibm['OverTime'].apply(lambda x: map[x])"
      ],
      "execution_count": null,
      "outputs": []
    },
    {
      "cell_type": "code",
      "metadata": {
        "colab": {
          "base_uri": "https://localhost:8080/"
        },
        "id": "xYuxbFX6rby8",
        "outputId": "d3dc007e-4e80-4212-e0b9-d3ef9bcb8c07"
      },
      "source": [
        "numericals = ibm.select_dtypes(include=np.number).columns.tolist()\n",
        "numericals"
      ],
      "execution_count": null,
      "outputs": [
        {
          "output_type": "execute_result",
          "data": {
            "text/plain": [
              "['Age',\n",
              " 'DailyRate',\n",
              " 'DistanceFromHome',\n",
              " 'Education',\n",
              " 'EnvironmentSatisfaction',\n",
              " 'HourlyRate',\n",
              " 'JobInvolvement',\n",
              " 'JobLevel',\n",
              " 'JobSatisfaction',\n",
              " 'MonthlyIncome',\n",
              " 'MonthlyRate',\n",
              " 'NumCompaniesWorked',\n",
              " 'PercentSalaryHike',\n",
              " 'PerformanceRating',\n",
              " 'RelationshipSatisfaction',\n",
              " 'StockOptionLevel',\n",
              " 'TotalWorkingYears',\n",
              " 'TrainingTimesLastYear',\n",
              " 'WorkLifeBalance',\n",
              " 'YearsAtCompany',\n",
              " 'YearsInCurrentRole',\n",
              " 'YearsSinceLastPromotion',\n",
              " 'YearsWithCurrManager',\n",
              " 'Attrition_encoded',\n",
              " 'Overtime_encoded']"
            ]
          },
          "metadata": {
            "tags": []
          },
          "execution_count": 105
        }
      ]
    },
    {
      "cell_type": "code",
      "metadata": {
        "colab": {
          "base_uri": "https://localhost:8080/",
          "height": 866
        },
        "id": "FCp0WHURwXXF",
        "outputId": "7ae30f16-4428-4361-eb75-d4576f94ab55"
      },
      "source": [
        "display(ibm[numericals].corr())"
      ],
      "execution_count": null,
      "outputs": [
        {
          "output_type": "display_data",
          "data": {
            "text/html": [
              "<div>\n",
              "<style scoped>\n",
              "    .dataframe tbody tr th:only-of-type {\n",
              "        vertical-align: middle;\n",
              "    }\n",
              "\n",
              "    .dataframe tbody tr th {\n",
              "        vertical-align: top;\n",
              "    }\n",
              "\n",
              "    .dataframe thead th {\n",
              "        text-align: right;\n",
              "    }\n",
              "</style>\n",
              "<table border=\"1\" class=\"dataframe\">\n",
              "  <thead>\n",
              "    <tr style=\"text-align: right;\">\n",
              "      <th></th>\n",
              "      <th>Age</th>\n",
              "      <th>DailyRate</th>\n",
              "      <th>DistanceFromHome</th>\n",
              "      <th>Education</th>\n",
              "      <th>EmployeeNumber</th>\n",
              "      <th>EnvironmentSatisfaction</th>\n",
              "      <th>HourlyRate</th>\n",
              "      <th>JobInvolvement</th>\n",
              "      <th>JobLevel</th>\n",
              "      <th>JobSatisfaction</th>\n",
              "      <th>MonthlyIncome</th>\n",
              "      <th>MonthlyRate</th>\n",
              "      <th>NumCompaniesWorked</th>\n",
              "      <th>PercentSalaryHike</th>\n",
              "      <th>PerformanceRating</th>\n",
              "      <th>RelationshipSatisfaction</th>\n",
              "      <th>StockOptionLevel</th>\n",
              "      <th>TotalWorkingYears</th>\n",
              "      <th>TrainingTimesLastYear</th>\n",
              "      <th>WorkLifeBalance</th>\n",
              "      <th>YearsAtCompany</th>\n",
              "      <th>YearsInCurrentRole</th>\n",
              "      <th>YearsSinceLastPromotion</th>\n",
              "      <th>YearsWithCurrManager</th>\n",
              "      <th>Attrition_encoded</th>\n",
              "      <th>Overtime_encoded</th>\n",
              "    </tr>\n",
              "  </thead>\n",
              "  <tbody>\n",
              "    <tr>\n",
              "      <th>Age</th>\n",
              "      <td>1.000000</td>\n",
              "      <td>0.010661</td>\n",
              "      <td>-0.001686</td>\n",
              "      <td>0.208034</td>\n",
              "      <td>-0.010145</td>\n",
              "      <td>0.010146</td>\n",
              "      <td>0.024287</td>\n",
              "      <td>0.029820</td>\n",
              "      <td>0.509604</td>\n",
              "      <td>-0.004892</td>\n",
              "      <td>0.497855</td>\n",
              "      <td>0.028051</td>\n",
              "      <td>0.299635</td>\n",
              "      <td>0.003634</td>\n",
              "      <td>0.001904</td>\n",
              "      <td>0.053535</td>\n",
              "      <td>0.037510</td>\n",
              "      <td>0.680381</td>\n",
              "      <td>-0.019621</td>\n",
              "      <td>-0.021490</td>\n",
              "      <td>0.311309</td>\n",
              "      <td>0.212901</td>\n",
              "      <td>0.216513</td>\n",
              "      <td>0.202089</td>\n",
              "      <td>-0.159205</td>\n",
              "      <td>0.028062</td>\n",
              "    </tr>\n",
              "    <tr>\n",
              "      <th>DailyRate</th>\n",
              "      <td>0.010661</td>\n",
              "      <td>1.000000</td>\n",
              "      <td>-0.004985</td>\n",
              "      <td>-0.016806</td>\n",
              "      <td>-0.050990</td>\n",
              "      <td>0.018355</td>\n",
              "      <td>0.023381</td>\n",
              "      <td>0.046135</td>\n",
              "      <td>0.002966</td>\n",
              "      <td>0.030571</td>\n",
              "      <td>0.007707</td>\n",
              "      <td>-0.032182</td>\n",
              "      <td>0.038153</td>\n",
              "      <td>0.022704</td>\n",
              "      <td>0.000473</td>\n",
              "      <td>0.007846</td>\n",
              "      <td>0.042143</td>\n",
              "      <td>0.014515</td>\n",
              "      <td>0.002453</td>\n",
              "      <td>-0.037848</td>\n",
              "      <td>-0.034055</td>\n",
              "      <td>0.009932</td>\n",
              "      <td>-0.033229</td>\n",
              "      <td>-0.026363</td>\n",
              "      <td>-0.056652</td>\n",
              "      <td>0.009135</td>\n",
              "    </tr>\n",
              "    <tr>\n",
              "      <th>DistanceFromHome</th>\n",
              "      <td>-0.001686</td>\n",
              "      <td>-0.004985</td>\n",
              "      <td>1.000000</td>\n",
              "      <td>0.021042</td>\n",
              "      <td>0.032916</td>\n",
              "      <td>-0.016075</td>\n",
              "      <td>0.031131</td>\n",
              "      <td>0.008783</td>\n",
              "      <td>0.005303</td>\n",
              "      <td>-0.003669</td>\n",
              "      <td>-0.017014</td>\n",
              "      <td>0.027473</td>\n",
              "      <td>-0.029251</td>\n",
              "      <td>0.040235</td>\n",
              "      <td>0.027110</td>\n",
              "      <td>0.006557</td>\n",
              "      <td>0.044872</td>\n",
              "      <td>0.004628</td>\n",
              "      <td>-0.036942</td>\n",
              "      <td>-0.026556</td>\n",
              "      <td>0.009508</td>\n",
              "      <td>0.018845</td>\n",
              "      <td>0.010029</td>\n",
              "      <td>0.014406</td>\n",
              "      <td>0.077924</td>\n",
              "      <td>0.025514</td>\n",
              "    </tr>\n",
              "    <tr>\n",
              "      <th>Education</th>\n",
              "      <td>0.208034</td>\n",
              "      <td>-0.016806</td>\n",
              "      <td>0.021042</td>\n",
              "      <td>1.000000</td>\n",
              "      <td>0.042070</td>\n",
              "      <td>-0.027128</td>\n",
              "      <td>0.016775</td>\n",
              "      <td>0.042438</td>\n",
              "      <td>0.101589</td>\n",
              "      <td>-0.011296</td>\n",
              "      <td>0.094961</td>\n",
              "      <td>-0.026084</td>\n",
              "      <td>0.126317</td>\n",
              "      <td>-0.011111</td>\n",
              "      <td>-0.024539</td>\n",
              "      <td>-0.009118</td>\n",
              "      <td>0.018422</td>\n",
              "      <td>0.148280</td>\n",
              "      <td>-0.025100</td>\n",
              "      <td>0.009819</td>\n",
              "      <td>0.069114</td>\n",
              "      <td>0.060236</td>\n",
              "      <td>0.054254</td>\n",
              "      <td>0.069065</td>\n",
              "      <td>-0.031373</td>\n",
              "      <td>-0.020322</td>\n",
              "    </tr>\n",
              "    <tr>\n",
              "      <th>EmployeeNumber</th>\n",
              "      <td>-0.010145</td>\n",
              "      <td>-0.050990</td>\n",
              "      <td>0.032916</td>\n",
              "      <td>0.042070</td>\n",
              "      <td>1.000000</td>\n",
              "      <td>0.017621</td>\n",
              "      <td>0.035179</td>\n",
              "      <td>-0.006888</td>\n",
              "      <td>-0.018519</td>\n",
              "      <td>-0.046247</td>\n",
              "      <td>-0.014829</td>\n",
              "      <td>0.012648</td>\n",
              "      <td>-0.001251</td>\n",
              "      <td>-0.012944</td>\n",
              "      <td>-0.020359</td>\n",
              "      <td>-0.069861</td>\n",
              "      <td>0.062227</td>\n",
              "      <td>-0.014365</td>\n",
              "      <td>0.023603</td>\n",
              "      <td>0.010309</td>\n",
              "      <td>-0.011240</td>\n",
              "      <td>-0.008416</td>\n",
              "      <td>-0.009019</td>\n",
              "      <td>-0.009197</td>\n",
              "      <td>-0.010577</td>\n",
              "      <td>-0.024037</td>\n",
              "    </tr>\n",
              "    <tr>\n",
              "      <th>EnvironmentSatisfaction</th>\n",
              "      <td>0.010146</td>\n",
              "      <td>0.018355</td>\n",
              "      <td>-0.016075</td>\n",
              "      <td>-0.027128</td>\n",
              "      <td>0.017621</td>\n",
              "      <td>1.000000</td>\n",
              "      <td>-0.049857</td>\n",
              "      <td>-0.008278</td>\n",
              "      <td>0.001212</td>\n",
              "      <td>-0.006784</td>\n",
              "      <td>-0.006259</td>\n",
              "      <td>0.037600</td>\n",
              "      <td>0.012594</td>\n",
              "      <td>-0.031701</td>\n",
              "      <td>-0.029548</td>\n",
              "      <td>0.007665</td>\n",
              "      <td>0.003432</td>\n",
              "      <td>-0.002693</td>\n",
              "      <td>-0.019359</td>\n",
              "      <td>0.027627</td>\n",
              "      <td>0.001458</td>\n",
              "      <td>0.018007</td>\n",
              "      <td>0.016194</td>\n",
              "      <td>-0.004999</td>\n",
              "      <td>-0.103369</td>\n",
              "      <td>0.070132</td>\n",
              "    </tr>\n",
              "    <tr>\n",
              "      <th>HourlyRate</th>\n",
              "      <td>0.024287</td>\n",
              "      <td>0.023381</td>\n",
              "      <td>0.031131</td>\n",
              "      <td>0.016775</td>\n",
              "      <td>0.035179</td>\n",
              "      <td>-0.049857</td>\n",
              "      <td>1.000000</td>\n",
              "      <td>0.042861</td>\n",
              "      <td>-0.027853</td>\n",
              "      <td>-0.071335</td>\n",
              "      <td>-0.015794</td>\n",
              "      <td>-0.015297</td>\n",
              "      <td>0.022157</td>\n",
              "      <td>-0.009062</td>\n",
              "      <td>-0.002172</td>\n",
              "      <td>0.001330</td>\n",
              "      <td>0.050263</td>\n",
              "      <td>-0.002334</td>\n",
              "      <td>-0.008548</td>\n",
              "      <td>-0.004607</td>\n",
              "      <td>-0.019582</td>\n",
              "      <td>-0.024106</td>\n",
              "      <td>-0.026716</td>\n",
              "      <td>-0.020123</td>\n",
              "      <td>-0.006846</td>\n",
              "      <td>-0.007782</td>\n",
              "    </tr>\n",
              "    <tr>\n",
              "      <th>JobInvolvement</th>\n",
              "      <td>0.029820</td>\n",
              "      <td>0.046135</td>\n",
              "      <td>0.008783</td>\n",
              "      <td>0.042438</td>\n",
              "      <td>-0.006888</td>\n",
              "      <td>-0.008278</td>\n",
              "      <td>0.042861</td>\n",
              "      <td>1.000000</td>\n",
              "      <td>-0.012630</td>\n",
              "      <td>-0.021476</td>\n",
              "      <td>-0.015271</td>\n",
              "      <td>-0.016322</td>\n",
              "      <td>0.015012</td>\n",
              "      <td>-0.017205</td>\n",
              "      <td>-0.029071</td>\n",
              "      <td>0.034297</td>\n",
              "      <td>0.021523</td>\n",
              "      <td>-0.005533</td>\n",
              "      <td>-0.015338</td>\n",
              "      <td>-0.014617</td>\n",
              "      <td>-0.021355</td>\n",
              "      <td>0.008717</td>\n",
              "      <td>-0.024184</td>\n",
              "      <td>0.025976</td>\n",
              "      <td>-0.130016</td>\n",
              "      <td>-0.003507</td>\n",
              "    </tr>\n",
              "    <tr>\n",
              "      <th>JobLevel</th>\n",
              "      <td>0.509604</td>\n",
              "      <td>0.002966</td>\n",
              "      <td>0.005303</td>\n",
              "      <td>0.101589</td>\n",
              "      <td>-0.018519</td>\n",
              "      <td>0.001212</td>\n",
              "      <td>-0.027853</td>\n",
              "      <td>-0.012630</td>\n",
              "      <td>1.000000</td>\n",
              "      <td>-0.001944</td>\n",
              "      <td>0.950300</td>\n",
              "      <td>0.039563</td>\n",
              "      <td>0.142501</td>\n",
              "      <td>-0.034730</td>\n",
              "      <td>-0.021222</td>\n",
              "      <td>0.021642</td>\n",
              "      <td>0.013984</td>\n",
              "      <td>0.782208</td>\n",
              "      <td>-0.018191</td>\n",
              "      <td>0.037818</td>\n",
              "      <td>0.534739</td>\n",
              "      <td>0.389447</td>\n",
              "      <td>0.353885</td>\n",
              "      <td>0.375281</td>\n",
              "      <td>-0.169105</td>\n",
              "      <td>0.000544</td>\n",
              "    </tr>\n",
              "    <tr>\n",
              "      <th>JobSatisfaction</th>\n",
              "      <td>-0.004892</td>\n",
              "      <td>0.030571</td>\n",
              "      <td>-0.003669</td>\n",
              "      <td>-0.011296</td>\n",
              "      <td>-0.046247</td>\n",
              "      <td>-0.006784</td>\n",
              "      <td>-0.071335</td>\n",
              "      <td>-0.021476</td>\n",
              "      <td>-0.001944</td>\n",
              "      <td>1.000000</td>\n",
              "      <td>-0.007157</td>\n",
              "      <td>0.000644</td>\n",
              "      <td>-0.055699</td>\n",
              "      <td>0.020002</td>\n",
              "      <td>0.002297</td>\n",
              "      <td>-0.012454</td>\n",
              "      <td>0.010690</td>\n",
              "      <td>-0.020185</td>\n",
              "      <td>-0.005779</td>\n",
              "      <td>-0.019459</td>\n",
              "      <td>-0.003803</td>\n",
              "      <td>-0.002305</td>\n",
              "      <td>-0.018214</td>\n",
              "      <td>-0.027656</td>\n",
              "      <td>-0.103481</td>\n",
              "      <td>0.024539</td>\n",
              "    </tr>\n",
              "    <tr>\n",
              "      <th>MonthlyIncome</th>\n",
              "      <td>0.497855</td>\n",
              "      <td>0.007707</td>\n",
              "      <td>-0.017014</td>\n",
              "      <td>0.094961</td>\n",
              "      <td>-0.014829</td>\n",
              "      <td>-0.006259</td>\n",
              "      <td>-0.015794</td>\n",
              "      <td>-0.015271</td>\n",
              "      <td>0.950300</td>\n",
              "      <td>-0.007157</td>\n",
              "      <td>1.000000</td>\n",
              "      <td>0.034814</td>\n",
              "      <td>0.149515</td>\n",
              "      <td>-0.027269</td>\n",
              "      <td>-0.017120</td>\n",
              "      <td>0.025873</td>\n",
              "      <td>0.005408</td>\n",
              "      <td>0.772893</td>\n",
              "      <td>-0.021736</td>\n",
              "      <td>0.030683</td>\n",
              "      <td>0.514285</td>\n",
              "      <td>0.363818</td>\n",
              "      <td>0.344978</td>\n",
              "      <td>0.344079</td>\n",
              "      <td>-0.159840</td>\n",
              "      <td>0.006089</td>\n",
              "    </tr>\n",
              "    <tr>\n",
              "      <th>MonthlyRate</th>\n",
              "      <td>0.028051</td>\n",
              "      <td>-0.032182</td>\n",
              "      <td>0.027473</td>\n",
              "      <td>-0.026084</td>\n",
              "      <td>0.012648</td>\n",
              "      <td>0.037600</td>\n",
              "      <td>-0.015297</td>\n",
              "      <td>-0.016322</td>\n",
              "      <td>0.039563</td>\n",
              "      <td>0.000644</td>\n",
              "      <td>0.034814</td>\n",
              "      <td>1.000000</td>\n",
              "      <td>0.017521</td>\n",
              "      <td>-0.006429</td>\n",
              "      <td>-0.009811</td>\n",
              "      <td>-0.004085</td>\n",
              "      <td>-0.034323</td>\n",
              "      <td>0.026442</td>\n",
              "      <td>0.001467</td>\n",
              "      <td>0.007963</td>\n",
              "      <td>-0.023655</td>\n",
              "      <td>-0.012815</td>\n",
              "      <td>0.001567</td>\n",
              "      <td>-0.036746</td>\n",
              "      <td>0.015170</td>\n",
              "      <td>0.021431</td>\n",
              "    </tr>\n",
              "    <tr>\n",
              "      <th>NumCompaniesWorked</th>\n",
              "      <td>0.299635</td>\n",
              "      <td>0.038153</td>\n",
              "      <td>-0.029251</td>\n",
              "      <td>0.126317</td>\n",
              "      <td>-0.001251</td>\n",
              "      <td>0.012594</td>\n",
              "      <td>0.022157</td>\n",
              "      <td>0.015012</td>\n",
              "      <td>0.142501</td>\n",
              "      <td>-0.055699</td>\n",
              "      <td>0.149515</td>\n",
              "      <td>0.017521</td>\n",
              "      <td>1.000000</td>\n",
              "      <td>-0.010238</td>\n",
              "      <td>-0.014095</td>\n",
              "      <td>0.052733</td>\n",
              "      <td>0.030075</td>\n",
              "      <td>0.237639</td>\n",
              "      <td>-0.066054</td>\n",
              "      <td>-0.008366</td>\n",
              "      <td>-0.118421</td>\n",
              "      <td>-0.090754</td>\n",
              "      <td>-0.036814</td>\n",
              "      <td>-0.110319</td>\n",
              "      <td>0.043494</td>\n",
              "      <td>-0.020786</td>\n",
              "    </tr>\n",
              "    <tr>\n",
              "      <th>PercentSalaryHike</th>\n",
              "      <td>0.003634</td>\n",
              "      <td>0.022704</td>\n",
              "      <td>0.040235</td>\n",
              "      <td>-0.011111</td>\n",
              "      <td>-0.012944</td>\n",
              "      <td>-0.031701</td>\n",
              "      <td>-0.009062</td>\n",
              "      <td>-0.017205</td>\n",
              "      <td>-0.034730</td>\n",
              "      <td>0.020002</td>\n",
              "      <td>-0.027269</td>\n",
              "      <td>-0.006429</td>\n",
              "      <td>-0.010238</td>\n",
              "      <td>1.000000</td>\n",
              "      <td>0.773550</td>\n",
              "      <td>-0.040490</td>\n",
              "      <td>0.007528</td>\n",
              "      <td>-0.020608</td>\n",
              "      <td>-0.005221</td>\n",
              "      <td>-0.003280</td>\n",
              "      <td>-0.035991</td>\n",
              "      <td>-0.001520</td>\n",
              "      <td>-0.022154</td>\n",
              "      <td>-0.011985</td>\n",
              "      <td>-0.013478</td>\n",
              "      <td>-0.005433</td>\n",
              "    </tr>\n",
              "    <tr>\n",
              "      <th>PerformanceRating</th>\n",
              "      <td>0.001904</td>\n",
              "      <td>0.000473</td>\n",
              "      <td>0.027110</td>\n",
              "      <td>-0.024539</td>\n",
              "      <td>-0.020359</td>\n",
              "      <td>-0.029548</td>\n",
              "      <td>-0.002172</td>\n",
              "      <td>-0.029071</td>\n",
              "      <td>-0.021222</td>\n",
              "      <td>0.002297</td>\n",
              "      <td>-0.017120</td>\n",
              "      <td>-0.009811</td>\n",
              "      <td>-0.014095</td>\n",
              "      <td>0.773550</td>\n",
              "      <td>1.000000</td>\n",
              "      <td>-0.031351</td>\n",
              "      <td>0.003506</td>\n",
              "      <td>0.006744</td>\n",
              "      <td>-0.015579</td>\n",
              "      <td>0.002572</td>\n",
              "      <td>0.003435</td>\n",
              "      <td>0.034986</td>\n",
              "      <td>0.017896</td>\n",
              "      <td>0.022827</td>\n",
              "      <td>0.002889</td>\n",
              "      <td>0.004369</td>\n",
              "    </tr>\n",
              "    <tr>\n",
              "      <th>RelationshipSatisfaction</th>\n",
              "      <td>0.053535</td>\n",
              "      <td>0.007846</td>\n",
              "      <td>0.006557</td>\n",
              "      <td>-0.009118</td>\n",
              "      <td>-0.069861</td>\n",
              "      <td>0.007665</td>\n",
              "      <td>0.001330</td>\n",
              "      <td>0.034297</td>\n",
              "      <td>0.021642</td>\n",
              "      <td>-0.012454</td>\n",
              "      <td>0.025873</td>\n",
              "      <td>-0.004085</td>\n",
              "      <td>0.052733</td>\n",
              "      <td>-0.040490</td>\n",
              "      <td>-0.031351</td>\n",
              "      <td>1.000000</td>\n",
              "      <td>-0.045952</td>\n",
              "      <td>0.024054</td>\n",
              "      <td>0.002497</td>\n",
              "      <td>0.019604</td>\n",
              "      <td>0.019367</td>\n",
              "      <td>-0.015123</td>\n",
              "      <td>0.033493</td>\n",
              "      <td>-0.000867</td>\n",
              "      <td>-0.045872</td>\n",
              "      <td>0.048493</td>\n",
              "    </tr>\n",
              "    <tr>\n",
              "      <th>StockOptionLevel</th>\n",
              "      <td>0.037510</td>\n",
              "      <td>0.042143</td>\n",
              "      <td>0.044872</td>\n",
              "      <td>0.018422</td>\n",
              "      <td>0.062227</td>\n",
              "      <td>0.003432</td>\n",
              "      <td>0.050263</td>\n",
              "      <td>0.021523</td>\n",
              "      <td>0.013984</td>\n",
              "      <td>0.010690</td>\n",
              "      <td>0.005408</td>\n",
              "      <td>-0.034323</td>\n",
              "      <td>0.030075</td>\n",
              "      <td>0.007528</td>\n",
              "      <td>0.003506</td>\n",
              "      <td>-0.045952</td>\n",
              "      <td>1.000000</td>\n",
              "      <td>0.010136</td>\n",
              "      <td>0.011274</td>\n",
              "      <td>0.004129</td>\n",
              "      <td>0.015058</td>\n",
              "      <td>0.050818</td>\n",
              "      <td>0.014352</td>\n",
              "      <td>0.024698</td>\n",
              "      <td>-0.137145</td>\n",
              "      <td>-0.000449</td>\n",
              "    </tr>\n",
              "    <tr>\n",
              "      <th>TotalWorkingYears</th>\n",
              "      <td>0.680381</td>\n",
              "      <td>0.014515</td>\n",
              "      <td>0.004628</td>\n",
              "      <td>0.148280</td>\n",
              "      <td>-0.014365</td>\n",
              "      <td>-0.002693</td>\n",
              "      <td>-0.002334</td>\n",
              "      <td>-0.005533</td>\n",
              "      <td>0.782208</td>\n",
              "      <td>-0.020185</td>\n",
              "      <td>0.772893</td>\n",
              "      <td>0.026442</td>\n",
              "      <td>0.237639</td>\n",
              "      <td>-0.020608</td>\n",
              "      <td>0.006744</td>\n",
              "      <td>0.024054</td>\n",
              "      <td>0.010136</td>\n",
              "      <td>1.000000</td>\n",
              "      <td>-0.035662</td>\n",
              "      <td>0.001008</td>\n",
              "      <td>0.628133</td>\n",
              "      <td>0.460365</td>\n",
              "      <td>0.404858</td>\n",
              "      <td>0.459188</td>\n",
              "      <td>-0.171063</td>\n",
              "      <td>0.012754</td>\n",
              "    </tr>\n",
              "    <tr>\n",
              "      <th>TrainingTimesLastYear</th>\n",
              "      <td>-0.019621</td>\n",
              "      <td>0.002453</td>\n",
              "      <td>-0.036942</td>\n",
              "      <td>-0.025100</td>\n",
              "      <td>0.023603</td>\n",
              "      <td>-0.019359</td>\n",
              "      <td>-0.008548</td>\n",
              "      <td>-0.015338</td>\n",
              "      <td>-0.018191</td>\n",
              "      <td>-0.005779</td>\n",
              "      <td>-0.021736</td>\n",
              "      <td>0.001467</td>\n",
              "      <td>-0.066054</td>\n",
              "      <td>-0.005221</td>\n",
              "      <td>-0.015579</td>\n",
              "      <td>0.002497</td>\n",
              "      <td>0.011274</td>\n",
              "      <td>-0.035662</td>\n",
              "      <td>1.000000</td>\n",
              "      <td>0.028072</td>\n",
              "      <td>0.003569</td>\n",
              "      <td>-0.005738</td>\n",
              "      <td>-0.002067</td>\n",
              "      <td>-0.004096</td>\n",
              "      <td>-0.059478</td>\n",
              "      <td>-0.079113</td>\n",
              "    </tr>\n",
              "    <tr>\n",
              "      <th>WorkLifeBalance</th>\n",
              "      <td>-0.021490</td>\n",
              "      <td>-0.037848</td>\n",
              "      <td>-0.026556</td>\n",
              "      <td>0.009819</td>\n",
              "      <td>0.010309</td>\n",
              "      <td>0.027627</td>\n",
              "      <td>-0.004607</td>\n",
              "      <td>-0.014617</td>\n",
              "      <td>0.037818</td>\n",
              "      <td>-0.019459</td>\n",
              "      <td>0.030683</td>\n",
              "      <td>0.007963</td>\n",
              "      <td>-0.008366</td>\n",
              "      <td>-0.003280</td>\n",
              "      <td>0.002572</td>\n",
              "      <td>0.019604</td>\n",
              "      <td>0.004129</td>\n",
              "      <td>0.001008</td>\n",
              "      <td>0.028072</td>\n",
              "      <td>1.000000</td>\n",
              "      <td>0.012089</td>\n",
              "      <td>0.049856</td>\n",
              "      <td>0.008941</td>\n",
              "      <td>0.002759</td>\n",
              "      <td>-0.063939</td>\n",
              "      <td>-0.027092</td>\n",
              "    </tr>\n",
              "    <tr>\n",
              "      <th>YearsAtCompany</th>\n",
              "      <td>0.311309</td>\n",
              "      <td>-0.034055</td>\n",
              "      <td>0.009508</td>\n",
              "      <td>0.069114</td>\n",
              "      <td>-0.011240</td>\n",
              "      <td>0.001458</td>\n",
              "      <td>-0.019582</td>\n",
              "      <td>-0.021355</td>\n",
              "      <td>0.534739</td>\n",
              "      <td>-0.003803</td>\n",
              "      <td>0.514285</td>\n",
              "      <td>-0.023655</td>\n",
              "      <td>-0.118421</td>\n",
              "      <td>-0.035991</td>\n",
              "      <td>0.003435</td>\n",
              "      <td>0.019367</td>\n",
              "      <td>0.015058</td>\n",
              "      <td>0.628133</td>\n",
              "      <td>0.003569</td>\n",
              "      <td>0.012089</td>\n",
              "      <td>1.000000</td>\n",
              "      <td>0.758754</td>\n",
              "      <td>0.618409</td>\n",
              "      <td>0.769212</td>\n",
              "      <td>-0.134392</td>\n",
              "      <td>-0.011687</td>\n",
              "    </tr>\n",
              "    <tr>\n",
              "      <th>YearsInCurrentRole</th>\n",
              "      <td>0.212901</td>\n",
              "      <td>0.009932</td>\n",
              "      <td>0.018845</td>\n",
              "      <td>0.060236</td>\n",
              "      <td>-0.008416</td>\n",
              "      <td>0.018007</td>\n",
              "      <td>-0.024106</td>\n",
              "      <td>0.008717</td>\n",
              "      <td>0.389447</td>\n",
              "      <td>-0.002305</td>\n",
              "      <td>0.363818</td>\n",
              "      <td>-0.012815</td>\n",
              "      <td>-0.090754</td>\n",
              "      <td>-0.001520</td>\n",
              "      <td>0.034986</td>\n",
              "      <td>-0.015123</td>\n",
              "      <td>0.050818</td>\n",
              "      <td>0.460365</td>\n",
              "      <td>-0.005738</td>\n",
              "      <td>0.049856</td>\n",
              "      <td>0.758754</td>\n",
              "      <td>1.000000</td>\n",
              "      <td>0.548056</td>\n",
              "      <td>0.714365</td>\n",
              "      <td>-0.160545</td>\n",
              "      <td>-0.029758</td>\n",
              "    </tr>\n",
              "    <tr>\n",
              "      <th>YearsSinceLastPromotion</th>\n",
              "      <td>0.216513</td>\n",
              "      <td>-0.033229</td>\n",
              "      <td>0.010029</td>\n",
              "      <td>0.054254</td>\n",
              "      <td>-0.009019</td>\n",
              "      <td>0.016194</td>\n",
              "      <td>-0.026716</td>\n",
              "      <td>-0.024184</td>\n",
              "      <td>0.353885</td>\n",
              "      <td>-0.018214</td>\n",
              "      <td>0.344978</td>\n",
              "      <td>0.001567</td>\n",
              "      <td>-0.036814</td>\n",
              "      <td>-0.022154</td>\n",
              "      <td>0.017896</td>\n",
              "      <td>0.033493</td>\n",
              "      <td>0.014352</td>\n",
              "      <td>0.404858</td>\n",
              "      <td>-0.002067</td>\n",
              "      <td>0.008941</td>\n",
              "      <td>0.618409</td>\n",
              "      <td>0.548056</td>\n",
              "      <td>1.000000</td>\n",
              "      <td>0.510224</td>\n",
              "      <td>-0.033019</td>\n",
              "      <td>-0.012239</td>\n",
              "    </tr>\n",
              "    <tr>\n",
              "      <th>YearsWithCurrManager</th>\n",
              "      <td>0.202089</td>\n",
              "      <td>-0.026363</td>\n",
              "      <td>0.014406</td>\n",
              "      <td>0.069065</td>\n",
              "      <td>-0.009197</td>\n",
              "      <td>-0.004999</td>\n",
              "      <td>-0.020123</td>\n",
              "      <td>0.025976</td>\n",
              "      <td>0.375281</td>\n",
              "      <td>-0.027656</td>\n",
              "      <td>0.344079</td>\n",
              "      <td>-0.036746</td>\n",
              "      <td>-0.110319</td>\n",
              "      <td>-0.011985</td>\n",
              "      <td>0.022827</td>\n",
              "      <td>-0.000867</td>\n",
              "      <td>0.024698</td>\n",
              "      <td>0.459188</td>\n",
              "      <td>-0.004096</td>\n",
              "      <td>0.002759</td>\n",
              "      <td>0.769212</td>\n",
              "      <td>0.714365</td>\n",
              "      <td>0.510224</td>\n",
              "      <td>1.000000</td>\n",
              "      <td>-0.156199</td>\n",
              "      <td>-0.041586</td>\n",
              "    </tr>\n",
              "    <tr>\n",
              "      <th>Attrition_encoded</th>\n",
              "      <td>-0.159205</td>\n",
              "      <td>-0.056652</td>\n",
              "      <td>0.077924</td>\n",
              "      <td>-0.031373</td>\n",
              "      <td>-0.010577</td>\n",
              "      <td>-0.103369</td>\n",
              "      <td>-0.006846</td>\n",
              "      <td>-0.130016</td>\n",
              "      <td>-0.169105</td>\n",
              "      <td>-0.103481</td>\n",
              "      <td>-0.159840</td>\n",
              "      <td>0.015170</td>\n",
              "      <td>0.043494</td>\n",
              "      <td>-0.013478</td>\n",
              "      <td>0.002889</td>\n",
              "      <td>-0.045872</td>\n",
              "      <td>-0.137145</td>\n",
              "      <td>-0.171063</td>\n",
              "      <td>-0.059478</td>\n",
              "      <td>-0.063939</td>\n",
              "      <td>-0.134392</td>\n",
              "      <td>-0.160545</td>\n",
              "      <td>-0.033019</td>\n",
              "      <td>-0.156199</td>\n",
              "      <td>1.000000</td>\n",
              "      <td>0.246118</td>\n",
              "    </tr>\n",
              "    <tr>\n",
              "      <th>Overtime_encoded</th>\n",
              "      <td>0.028062</td>\n",
              "      <td>0.009135</td>\n",
              "      <td>0.025514</td>\n",
              "      <td>-0.020322</td>\n",
              "      <td>-0.024037</td>\n",
              "      <td>0.070132</td>\n",
              "      <td>-0.007782</td>\n",
              "      <td>-0.003507</td>\n",
              "      <td>0.000544</td>\n",
              "      <td>0.024539</td>\n",
              "      <td>0.006089</td>\n",
              "      <td>0.021431</td>\n",
              "      <td>-0.020786</td>\n",
              "      <td>-0.005433</td>\n",
              "      <td>0.004369</td>\n",
              "      <td>0.048493</td>\n",
              "      <td>-0.000449</td>\n",
              "      <td>0.012754</td>\n",
              "      <td>-0.079113</td>\n",
              "      <td>-0.027092</td>\n",
              "      <td>-0.011687</td>\n",
              "      <td>-0.029758</td>\n",
              "      <td>-0.012239</td>\n",
              "      <td>-0.041586</td>\n",
              "      <td>0.246118</td>\n",
              "      <td>1.000000</td>\n",
              "    </tr>\n",
              "  </tbody>\n",
              "</table>\n",
              "</div>"
            ],
            "text/plain": [
              "                               Age  DailyRate  DistanceFromHome  Education  \\\n",
              "Age                       1.000000   0.010661         -0.001686   0.208034   \n",
              "DailyRate                 0.010661   1.000000         -0.004985  -0.016806   \n",
              "DistanceFromHome         -0.001686  -0.004985          1.000000   0.021042   \n",
              "Education                 0.208034  -0.016806          0.021042   1.000000   \n",
              "EmployeeNumber           -0.010145  -0.050990          0.032916   0.042070   \n",
              "EnvironmentSatisfaction   0.010146   0.018355         -0.016075  -0.027128   \n",
              "HourlyRate                0.024287   0.023381          0.031131   0.016775   \n",
              "JobInvolvement            0.029820   0.046135          0.008783   0.042438   \n",
              "JobLevel                  0.509604   0.002966          0.005303   0.101589   \n",
              "JobSatisfaction          -0.004892   0.030571         -0.003669  -0.011296   \n",
              "MonthlyIncome             0.497855   0.007707         -0.017014   0.094961   \n",
              "MonthlyRate               0.028051  -0.032182          0.027473  -0.026084   \n",
              "NumCompaniesWorked        0.299635   0.038153         -0.029251   0.126317   \n",
              "PercentSalaryHike         0.003634   0.022704          0.040235  -0.011111   \n",
              "PerformanceRating         0.001904   0.000473          0.027110  -0.024539   \n",
              "RelationshipSatisfaction  0.053535   0.007846          0.006557  -0.009118   \n",
              "StockOptionLevel          0.037510   0.042143          0.044872   0.018422   \n",
              "TotalWorkingYears         0.680381   0.014515          0.004628   0.148280   \n",
              "TrainingTimesLastYear    -0.019621   0.002453         -0.036942  -0.025100   \n",
              "WorkLifeBalance          -0.021490  -0.037848         -0.026556   0.009819   \n",
              "YearsAtCompany            0.311309  -0.034055          0.009508   0.069114   \n",
              "YearsInCurrentRole        0.212901   0.009932          0.018845   0.060236   \n",
              "YearsSinceLastPromotion   0.216513  -0.033229          0.010029   0.054254   \n",
              "YearsWithCurrManager      0.202089  -0.026363          0.014406   0.069065   \n",
              "Attrition_encoded        -0.159205  -0.056652          0.077924  -0.031373   \n",
              "Overtime_encoded          0.028062   0.009135          0.025514  -0.020322   \n",
              "\n",
              "                          EmployeeNumber  EnvironmentSatisfaction  HourlyRate  \\\n",
              "Age                            -0.010145                 0.010146    0.024287   \n",
              "DailyRate                      -0.050990                 0.018355    0.023381   \n",
              "DistanceFromHome                0.032916                -0.016075    0.031131   \n",
              "Education                       0.042070                -0.027128    0.016775   \n",
              "EmployeeNumber                  1.000000                 0.017621    0.035179   \n",
              "EnvironmentSatisfaction         0.017621                 1.000000   -0.049857   \n",
              "HourlyRate                      0.035179                -0.049857    1.000000   \n",
              "JobInvolvement                 -0.006888                -0.008278    0.042861   \n",
              "JobLevel                       -0.018519                 0.001212   -0.027853   \n",
              "JobSatisfaction                -0.046247                -0.006784   -0.071335   \n",
              "MonthlyIncome                  -0.014829                -0.006259   -0.015794   \n",
              "MonthlyRate                     0.012648                 0.037600   -0.015297   \n",
              "NumCompaniesWorked             -0.001251                 0.012594    0.022157   \n",
              "PercentSalaryHike              -0.012944                -0.031701   -0.009062   \n",
              "PerformanceRating              -0.020359                -0.029548   -0.002172   \n",
              "RelationshipSatisfaction       -0.069861                 0.007665    0.001330   \n",
              "StockOptionLevel                0.062227                 0.003432    0.050263   \n",
              "TotalWorkingYears              -0.014365                -0.002693   -0.002334   \n",
              "TrainingTimesLastYear           0.023603                -0.019359   -0.008548   \n",
              "WorkLifeBalance                 0.010309                 0.027627   -0.004607   \n",
              "YearsAtCompany                 -0.011240                 0.001458   -0.019582   \n",
              "YearsInCurrentRole             -0.008416                 0.018007   -0.024106   \n",
              "YearsSinceLastPromotion        -0.009019                 0.016194   -0.026716   \n",
              "YearsWithCurrManager           -0.009197                -0.004999   -0.020123   \n",
              "Attrition_encoded              -0.010577                -0.103369   -0.006846   \n",
              "Overtime_encoded               -0.024037                 0.070132   -0.007782   \n",
              "\n",
              "                          JobInvolvement  JobLevel  JobSatisfaction  \\\n",
              "Age                             0.029820  0.509604        -0.004892   \n",
              "DailyRate                       0.046135  0.002966         0.030571   \n",
              "DistanceFromHome                0.008783  0.005303        -0.003669   \n",
              "Education                       0.042438  0.101589        -0.011296   \n",
              "EmployeeNumber                 -0.006888 -0.018519        -0.046247   \n",
              "EnvironmentSatisfaction        -0.008278  0.001212        -0.006784   \n",
              "HourlyRate                      0.042861 -0.027853        -0.071335   \n",
              "JobInvolvement                  1.000000 -0.012630        -0.021476   \n",
              "JobLevel                       -0.012630  1.000000        -0.001944   \n",
              "JobSatisfaction                -0.021476 -0.001944         1.000000   \n",
              "MonthlyIncome                  -0.015271  0.950300        -0.007157   \n",
              "MonthlyRate                    -0.016322  0.039563         0.000644   \n",
              "NumCompaniesWorked              0.015012  0.142501        -0.055699   \n",
              "PercentSalaryHike              -0.017205 -0.034730         0.020002   \n",
              "PerformanceRating              -0.029071 -0.021222         0.002297   \n",
              "RelationshipSatisfaction        0.034297  0.021642        -0.012454   \n",
              "StockOptionLevel                0.021523  0.013984         0.010690   \n",
              "TotalWorkingYears              -0.005533  0.782208        -0.020185   \n",
              "TrainingTimesLastYear          -0.015338 -0.018191        -0.005779   \n",
              "WorkLifeBalance                -0.014617  0.037818        -0.019459   \n",
              "YearsAtCompany                 -0.021355  0.534739        -0.003803   \n",
              "YearsInCurrentRole              0.008717  0.389447        -0.002305   \n",
              "YearsSinceLastPromotion        -0.024184  0.353885        -0.018214   \n",
              "YearsWithCurrManager            0.025976  0.375281        -0.027656   \n",
              "Attrition_encoded              -0.130016 -0.169105        -0.103481   \n",
              "Overtime_encoded               -0.003507  0.000544         0.024539   \n",
              "\n",
              "                          MonthlyIncome  MonthlyRate  NumCompaniesWorked  \\\n",
              "Age                            0.497855     0.028051            0.299635   \n",
              "DailyRate                      0.007707    -0.032182            0.038153   \n",
              "DistanceFromHome              -0.017014     0.027473           -0.029251   \n",
              "Education                      0.094961    -0.026084            0.126317   \n",
              "EmployeeNumber                -0.014829     0.012648           -0.001251   \n",
              "EnvironmentSatisfaction       -0.006259     0.037600            0.012594   \n",
              "HourlyRate                    -0.015794    -0.015297            0.022157   \n",
              "JobInvolvement                -0.015271    -0.016322            0.015012   \n",
              "JobLevel                       0.950300     0.039563            0.142501   \n",
              "JobSatisfaction               -0.007157     0.000644           -0.055699   \n",
              "MonthlyIncome                  1.000000     0.034814            0.149515   \n",
              "MonthlyRate                    0.034814     1.000000            0.017521   \n",
              "NumCompaniesWorked             0.149515     0.017521            1.000000   \n",
              "PercentSalaryHike             -0.027269    -0.006429           -0.010238   \n",
              "PerformanceRating             -0.017120    -0.009811           -0.014095   \n",
              "RelationshipSatisfaction       0.025873    -0.004085            0.052733   \n",
              "StockOptionLevel               0.005408    -0.034323            0.030075   \n",
              "TotalWorkingYears              0.772893     0.026442            0.237639   \n",
              "TrainingTimesLastYear         -0.021736     0.001467           -0.066054   \n",
              "WorkLifeBalance                0.030683     0.007963           -0.008366   \n",
              "YearsAtCompany                 0.514285    -0.023655           -0.118421   \n",
              "YearsInCurrentRole             0.363818    -0.012815           -0.090754   \n",
              "YearsSinceLastPromotion        0.344978     0.001567           -0.036814   \n",
              "YearsWithCurrManager           0.344079    -0.036746           -0.110319   \n",
              "Attrition_encoded             -0.159840     0.015170            0.043494   \n",
              "Overtime_encoded               0.006089     0.021431           -0.020786   \n",
              "\n",
              "                          PercentSalaryHike  PerformanceRating  \\\n",
              "Age                                0.003634           0.001904   \n",
              "DailyRate                          0.022704           0.000473   \n",
              "DistanceFromHome                   0.040235           0.027110   \n",
              "Education                         -0.011111          -0.024539   \n",
              "EmployeeNumber                    -0.012944          -0.020359   \n",
              "EnvironmentSatisfaction           -0.031701          -0.029548   \n",
              "HourlyRate                        -0.009062          -0.002172   \n",
              "JobInvolvement                    -0.017205          -0.029071   \n",
              "JobLevel                          -0.034730          -0.021222   \n",
              "JobSatisfaction                    0.020002           0.002297   \n",
              "MonthlyIncome                     -0.027269          -0.017120   \n",
              "MonthlyRate                       -0.006429          -0.009811   \n",
              "NumCompaniesWorked                -0.010238          -0.014095   \n",
              "PercentSalaryHike                  1.000000           0.773550   \n",
              "PerformanceRating                  0.773550           1.000000   \n",
              "RelationshipSatisfaction          -0.040490          -0.031351   \n",
              "StockOptionLevel                   0.007528           0.003506   \n",
              "TotalWorkingYears                 -0.020608           0.006744   \n",
              "TrainingTimesLastYear             -0.005221          -0.015579   \n",
              "WorkLifeBalance                   -0.003280           0.002572   \n",
              "YearsAtCompany                    -0.035991           0.003435   \n",
              "YearsInCurrentRole                -0.001520           0.034986   \n",
              "YearsSinceLastPromotion           -0.022154           0.017896   \n",
              "YearsWithCurrManager              -0.011985           0.022827   \n",
              "Attrition_encoded                 -0.013478           0.002889   \n",
              "Overtime_encoded                  -0.005433           0.004369   \n",
              "\n",
              "                          RelationshipSatisfaction  StockOptionLevel  \\\n",
              "Age                                       0.053535          0.037510   \n",
              "DailyRate                                 0.007846          0.042143   \n",
              "DistanceFromHome                          0.006557          0.044872   \n",
              "Education                                -0.009118          0.018422   \n",
              "EmployeeNumber                           -0.069861          0.062227   \n",
              "EnvironmentSatisfaction                   0.007665          0.003432   \n",
              "HourlyRate                                0.001330          0.050263   \n",
              "JobInvolvement                            0.034297          0.021523   \n",
              "JobLevel                                  0.021642          0.013984   \n",
              "JobSatisfaction                          -0.012454          0.010690   \n",
              "MonthlyIncome                             0.025873          0.005408   \n",
              "MonthlyRate                              -0.004085         -0.034323   \n",
              "NumCompaniesWorked                        0.052733          0.030075   \n",
              "PercentSalaryHike                        -0.040490          0.007528   \n",
              "PerformanceRating                        -0.031351          0.003506   \n",
              "RelationshipSatisfaction                  1.000000         -0.045952   \n",
              "StockOptionLevel                         -0.045952          1.000000   \n",
              "TotalWorkingYears                         0.024054          0.010136   \n",
              "TrainingTimesLastYear                     0.002497          0.011274   \n",
              "WorkLifeBalance                           0.019604          0.004129   \n",
              "YearsAtCompany                            0.019367          0.015058   \n",
              "YearsInCurrentRole                       -0.015123          0.050818   \n",
              "YearsSinceLastPromotion                   0.033493          0.014352   \n",
              "YearsWithCurrManager                     -0.000867          0.024698   \n",
              "Attrition_encoded                        -0.045872         -0.137145   \n",
              "Overtime_encoded                          0.048493         -0.000449   \n",
              "\n",
              "                          TotalWorkingYears  TrainingTimesLastYear  \\\n",
              "Age                                0.680381              -0.019621   \n",
              "DailyRate                          0.014515               0.002453   \n",
              "DistanceFromHome                   0.004628              -0.036942   \n",
              "Education                          0.148280              -0.025100   \n",
              "EmployeeNumber                    -0.014365               0.023603   \n",
              "EnvironmentSatisfaction           -0.002693              -0.019359   \n",
              "HourlyRate                        -0.002334              -0.008548   \n",
              "JobInvolvement                    -0.005533              -0.015338   \n",
              "JobLevel                           0.782208              -0.018191   \n",
              "JobSatisfaction                   -0.020185              -0.005779   \n",
              "MonthlyIncome                      0.772893              -0.021736   \n",
              "MonthlyRate                        0.026442               0.001467   \n",
              "NumCompaniesWorked                 0.237639              -0.066054   \n",
              "PercentSalaryHike                 -0.020608              -0.005221   \n",
              "PerformanceRating                  0.006744              -0.015579   \n",
              "RelationshipSatisfaction           0.024054               0.002497   \n",
              "StockOptionLevel                   0.010136               0.011274   \n",
              "TotalWorkingYears                  1.000000              -0.035662   \n",
              "TrainingTimesLastYear             -0.035662               1.000000   \n",
              "WorkLifeBalance                    0.001008               0.028072   \n",
              "YearsAtCompany                     0.628133               0.003569   \n",
              "YearsInCurrentRole                 0.460365              -0.005738   \n",
              "YearsSinceLastPromotion            0.404858              -0.002067   \n",
              "YearsWithCurrManager               0.459188              -0.004096   \n",
              "Attrition_encoded                 -0.171063              -0.059478   \n",
              "Overtime_encoded                   0.012754              -0.079113   \n",
              "\n",
              "                          WorkLifeBalance  YearsAtCompany  YearsInCurrentRole  \\\n",
              "Age                             -0.021490        0.311309            0.212901   \n",
              "DailyRate                       -0.037848       -0.034055            0.009932   \n",
              "DistanceFromHome                -0.026556        0.009508            0.018845   \n",
              "Education                        0.009819        0.069114            0.060236   \n",
              "EmployeeNumber                   0.010309       -0.011240           -0.008416   \n",
              "EnvironmentSatisfaction          0.027627        0.001458            0.018007   \n",
              "HourlyRate                      -0.004607       -0.019582           -0.024106   \n",
              "JobInvolvement                  -0.014617       -0.021355            0.008717   \n",
              "JobLevel                         0.037818        0.534739            0.389447   \n",
              "JobSatisfaction                 -0.019459       -0.003803           -0.002305   \n",
              "MonthlyIncome                    0.030683        0.514285            0.363818   \n",
              "MonthlyRate                      0.007963       -0.023655           -0.012815   \n",
              "NumCompaniesWorked              -0.008366       -0.118421           -0.090754   \n",
              "PercentSalaryHike               -0.003280       -0.035991           -0.001520   \n",
              "PerformanceRating                0.002572        0.003435            0.034986   \n",
              "RelationshipSatisfaction         0.019604        0.019367           -0.015123   \n",
              "StockOptionLevel                 0.004129        0.015058            0.050818   \n",
              "TotalWorkingYears                0.001008        0.628133            0.460365   \n",
              "TrainingTimesLastYear            0.028072        0.003569           -0.005738   \n",
              "WorkLifeBalance                  1.000000        0.012089            0.049856   \n",
              "YearsAtCompany                   0.012089        1.000000            0.758754   \n",
              "YearsInCurrentRole               0.049856        0.758754            1.000000   \n",
              "YearsSinceLastPromotion          0.008941        0.618409            0.548056   \n",
              "YearsWithCurrManager             0.002759        0.769212            0.714365   \n",
              "Attrition_encoded               -0.063939       -0.134392           -0.160545   \n",
              "Overtime_encoded                -0.027092       -0.011687           -0.029758   \n",
              "\n",
              "                          YearsSinceLastPromotion  YearsWithCurrManager  \\\n",
              "Age                                      0.216513              0.202089   \n",
              "DailyRate                               -0.033229             -0.026363   \n",
              "DistanceFromHome                         0.010029              0.014406   \n",
              "Education                                0.054254              0.069065   \n",
              "EmployeeNumber                          -0.009019             -0.009197   \n",
              "EnvironmentSatisfaction                  0.016194             -0.004999   \n",
              "HourlyRate                              -0.026716             -0.020123   \n",
              "JobInvolvement                          -0.024184              0.025976   \n",
              "JobLevel                                 0.353885              0.375281   \n",
              "JobSatisfaction                         -0.018214             -0.027656   \n",
              "MonthlyIncome                            0.344978              0.344079   \n",
              "MonthlyRate                              0.001567             -0.036746   \n",
              "NumCompaniesWorked                      -0.036814             -0.110319   \n",
              "PercentSalaryHike                       -0.022154             -0.011985   \n",
              "PerformanceRating                        0.017896              0.022827   \n",
              "RelationshipSatisfaction                 0.033493             -0.000867   \n",
              "StockOptionLevel                         0.014352              0.024698   \n",
              "TotalWorkingYears                        0.404858              0.459188   \n",
              "TrainingTimesLastYear                   -0.002067             -0.004096   \n",
              "WorkLifeBalance                          0.008941              0.002759   \n",
              "YearsAtCompany                           0.618409              0.769212   \n",
              "YearsInCurrentRole                       0.548056              0.714365   \n",
              "YearsSinceLastPromotion                  1.000000              0.510224   \n",
              "YearsWithCurrManager                     0.510224              1.000000   \n",
              "Attrition_encoded                       -0.033019             -0.156199   \n",
              "Overtime_encoded                        -0.012239             -0.041586   \n",
              "\n",
              "                          Attrition_encoded  Overtime_encoded  \n",
              "Age                               -0.159205          0.028062  \n",
              "DailyRate                         -0.056652          0.009135  \n",
              "DistanceFromHome                   0.077924          0.025514  \n",
              "Education                         -0.031373         -0.020322  \n",
              "EmployeeNumber                    -0.010577         -0.024037  \n",
              "EnvironmentSatisfaction           -0.103369          0.070132  \n",
              "HourlyRate                        -0.006846         -0.007782  \n",
              "JobInvolvement                    -0.130016         -0.003507  \n",
              "JobLevel                          -0.169105          0.000544  \n",
              "JobSatisfaction                   -0.103481          0.024539  \n",
              "MonthlyIncome                     -0.159840          0.006089  \n",
              "MonthlyRate                        0.015170          0.021431  \n",
              "NumCompaniesWorked                 0.043494         -0.020786  \n",
              "PercentSalaryHike                 -0.013478         -0.005433  \n",
              "PerformanceRating                  0.002889          0.004369  \n",
              "RelationshipSatisfaction          -0.045872          0.048493  \n",
              "StockOptionLevel                  -0.137145         -0.000449  \n",
              "TotalWorkingYears                 -0.171063          0.012754  \n",
              "TrainingTimesLastYear             -0.059478         -0.079113  \n",
              "WorkLifeBalance                   -0.063939         -0.027092  \n",
              "YearsAtCompany                    -0.134392         -0.011687  \n",
              "YearsInCurrentRole                -0.160545         -0.029758  \n",
              "YearsSinceLastPromotion           -0.033019         -0.012239  \n",
              "YearsWithCurrManager              -0.156199         -0.041586  \n",
              "Attrition_encoded                  1.000000          0.246118  \n",
              "Overtime_encoded                   0.246118          1.000000  "
            ]
          },
          "metadata": {
            "tags": []
          }
        }
      ]
    },
    {
      "cell_type": "code",
      "metadata": {
        "colab": {
          "base_uri": "https://localhost:8080/",
          "height": 1000
        },
        "id": "F6ZsHzFSrvGf",
        "outputId": "a33cb0f4-be7b-4de6-f667-62861d249125"
      },
      "source": [
        "data = [go.Heatmap( z = ibm[numericals].astype('float64').corr().values,   #generates pearson correlation values\n",
        "                    x = ibm[numericals].columns.values,\n",
        "                    y = ibm[numericals].columns.values,\n",
        "                    colorscale = 'Reds',\n",
        "                    reversescale = False,\n",
        "                    opacity = 1.0 ) ]\n",
        "\n",
        "layout = go.Layout( title = 'Comparing Pearson Correlation Values of the Numerical Columns',\n",
        "                    xaxis = dict(ticks='', nticks=36),\n",
        "                    yaxis = dict(ticks='' ),\n",
        "                    width = 900, height = 700, )\n",
        "\n",
        "fig = go.Figure(data=data, layout=layout)\n",
        "py.iplot(fig, filename='heatmap')\n",
        "fig.show(renderer='colab')"
      ],
      "execution_count": null,
      "outputs": [
        {
          "output_type": "display_data",
          "data": {
            "text/html": [
              "<div>\n",
              "        \n",
              "        \n",
              "            <div id=\"0b4d7efc-c24c-4b97-97e0-23a0cfc40126\" class=\"plotly-graph-div\" style=\"height:700px; width:900px;\"></div>\n",
              "            <script type=\"text/javascript\">\n",
              "                require([\"plotly\"], function(Plotly) {\n",
              "                    window.PLOTLYENV=window.PLOTLYENV || {};\n",
              "                    \n",
              "                if (document.getElementById(\"0b4d7efc-c24c-4b97-97e0-23a0cfc40126\")) {\n",
              "                    Plotly.newPlot(\n",
              "                        '0b4d7efc-c24c-4b97-97e0-23a0cfc40126',\n",
              "                        [{\"colorscale\": [[0.0, \"rgb(255,245,240)\"], [0.125, \"rgb(254,224,210)\"], [0.25, \"rgb(252,187,161)\"], [0.375, \"rgb(252,146,114)\"], [0.5, \"rgb(251,106,74)\"], [0.625, \"rgb(239,59,44)\"], [0.75, \"rgb(203,24,29)\"], [0.875, \"rgb(165,15,21)\"], [1.0, \"rgb(103,0,13)\"]], \"opacity\": 1.0, \"reversescale\": false, \"type\": \"heatmap\", \"x\": [\"Age\", \"DailyRate\", \"DistanceFromHome\", \"Education\", \"EnvironmentSatisfaction\", \"HourlyRate\", \"JobInvolvement\", \"JobLevel\", \"JobSatisfaction\", \"MonthlyIncome\", \"MonthlyRate\", \"NumCompaniesWorked\", \"PercentSalaryHike\", \"PerformanceRating\", \"RelationshipSatisfaction\", \"StockOptionLevel\", \"TotalWorkingYears\", \"TrainingTimesLastYear\", \"WorkLifeBalance\", \"YearsAtCompany\", \"YearsInCurrentRole\", \"YearsSinceLastPromotion\", \"YearsWithCurrManager\", \"Attrition_encoded\", \"Overtime_encoded\"], \"y\": [\"Age\", \"DailyRate\", \"DistanceFromHome\", \"Education\", \"EnvironmentSatisfaction\", \"HourlyRate\", \"JobInvolvement\", \"JobLevel\", \"JobSatisfaction\", \"MonthlyIncome\", \"MonthlyRate\", \"NumCompaniesWorked\", \"PercentSalaryHike\", \"PerformanceRating\", \"RelationshipSatisfaction\", \"StockOptionLevel\", \"TotalWorkingYears\", \"TrainingTimesLastYear\", \"WorkLifeBalance\", \"YearsAtCompany\", \"YearsInCurrentRole\", \"YearsSinceLastPromotion\", \"YearsWithCurrManager\", \"Attrition_encoded\", \"Overtime_encoded\"], \"z\": [[1.0, 0.010660942645538149, -0.0016861201480870135, 0.20803373101424003, 0.010146427861437251, 0.02428654255096734, 0.02981995862959055, 0.5096042284323877, -0.004891877148687357, 0.49785456692658075, 0.028051167133922784, 0.29963475798369266, 0.0036335849148617645, 0.0019038955127583738, 0.053534719671228664, 0.0375097124247778, 0.6803805357911991, -0.019620818942698393, -0.021490027957098534, 0.3113087697450993, 0.21290105556556693, 0.21651336785165384, 0.20208860237515222, -0.15920500686577846, 0.02806235708412405], [0.010660942645538149, 1.0, -0.004985337352552674, -0.01680643320915765, 0.018354854300385467, 0.023381421528320238, 0.04613487399781132, 0.0029663348551117142, 0.03057100783714411, 0.007707058872006039, -0.032181601522581774, 0.03815343427940969, 0.022703677496334916, 0.0004732963271882408, 0.007846030957248321, 0.042142796377206686, 0.014514738706320859, 0.002452542712083261, -0.037848051005781515, -0.034054767568547466, 0.009932014960094184, -0.03322898478777197, -0.026363178228837648, -0.05665199186762916, 0.00913496990113504], [-0.0016861201480870135, -0.004985337352552674, 1.0, 0.021041825624123364, -0.016075326996493465, 0.031130585611766015, 0.008783279886444232, 0.00530273055449623, -0.0036688391677204214, -0.01701444474527587, 0.027472863548884053, -0.029250804197292986, 0.04023537745919304, 0.02710961848197604, 0.006557474646578711, 0.044871998853181376, 0.004628425863783853, -0.036942234339916, -0.02655600410656897, 0.009507719899011271, 0.018844999108945663, 0.010028835943115365, 0.014406048430629939, 0.07792358295570358, 0.02551363494994608], [0.20803373101424003, -0.01680643320915765, 0.021041825624123364, 1.0, -0.027128313256511653, 0.016774828880960865, 0.042437634318608114, 0.10158888624850132, -0.011296116736574009, 0.09496067704188856, -0.026084197160047597, 0.12631656017668416, -0.011110940860654199, -0.024538791164833422, -0.009118376696381497, 0.01842222020401694, 0.14827969653887266, -0.025100241137933486, 0.009819189309781843, 0.06911369603133874, 0.060235554120695735, 0.05425433359132035, 0.06906537825528397, -0.03137281964004896, -0.02032176739570367], [0.010146427861437251, 0.018354854300385467, -0.016075326996493465, -0.027128313256511653, 1.0, -0.04985695620300049, -0.008277598171759227, 0.001211699448913975, -0.006784352599075191, -0.006259087754780221, 0.03759962286571541, 0.012594323218943297, -0.03170119524179215, -0.029547952297681358, 0.0076653835410744765, 0.0034321577550576604, -0.0026930703885341364, -0.019359308347132335, 0.027627295460115407, 0.0014575491911166178, 0.018007460142878566, 0.016193605568453423, -0.0049987226281075076, -0.10336897833793525, 0.07013172677409438], [0.02428654255096734, 0.023381421528320238, 0.031130585611766015, 0.016774828880960865, -0.04985695620300049, 1.0, 0.04286064097152996, -0.027853486405547332, -0.07133462437378851, -0.015794304380892906, -0.015296749550649706, 0.022156883390196815, -0.009061986253740113, -0.0021716974278102176, 0.0013304527859505607, 0.05026339906511977, -0.002333681823322244, -0.008547685209270621, -0.004607233750264436, -0.019581616209121213, -0.02410622020878486, -0.02671558606433533, -0.020123200184066038, -0.006845549572139824, -0.007781974360999902], [0.02981995862959055, 0.04613487399781132, 0.008783279886444232, 0.042437634318608114, -0.008277598171759227, 0.04286064097152996, 1.0, -0.012629882671190917, -0.02147591033530702, -0.015271490778732858, -0.016322079053317184, 0.01501241324311095, -0.017204572244480576, -0.029071333439070115, 0.03429682061119727, 0.021522640378023945, -0.005533182057407529, -0.015337825759428998, -0.014616593162761336, -0.02135542697962983, 0.008716963497611708, -0.024184292365178967, 0.025975807949088905, -0.13001595678605382, -0.0035067105694045505], [0.5096042284323877, 0.0029663348551117142, 0.00530273055449623, 0.10158888624850132, 0.001211699448913975, -0.027853486405547332, -0.012629882671190917, 1.0, -0.0019437080267456803, 0.950299913479854, 0.039562951045684296, 0.14250112381048835, -0.03473049227941859, -0.021222082108856632, 0.021641510532591626, 0.013983910528615518, 0.7822078045362802, -0.01819055019354957, 0.03781774559666627, 0.5347386873756353, 0.3894467328766716, 0.35388534696410395, 0.3752806077657263, -0.16910475093102886, 0.0005440477748809303], [-0.004891877148687357, 0.03057100783714411, -0.0036688391677204214, -0.011296116736574009, -0.006784352599075191, -0.07133462437378851, -0.02147591033530702, -0.0019437080267456803, 1.0, -0.007156742355912731, 0.0006439169427039258, -0.05569942601274601, 0.020002039364081937, 0.0022971970637801426, -0.012453593161926874, 0.01069022612075585, -0.02018507268501687, -0.005779334958609058, -0.019458710212974534, -0.003802627948288062, -0.0023047852298301056, -0.018213567810190918, -0.02765621388428996, -0.10348112606902209, 0.024539481060031572], [0.49785456692658075, 0.007707058872006039, -0.01701444474527587, 0.09496067704188856, -0.006259087754780221, -0.015794304380892906, -0.015271490778732858, 0.950299913479854, -0.007156742355912731, 1.0, 0.034813626134121846, 0.14951521598969764, -0.027268586440314498, -0.017120138237390704, 0.025873436137557375, 0.005407676696812226, 0.7728932462543548, -0.021736276823893293, 0.030683081556940366, 0.5142848257331964, 0.36381766692870654, 0.34497763816542787, 0.3440788832587207, -0.15983958238498777, 0.006089285402589905], [0.028051167133922784, -0.032181601522581774, 0.027472863548884053, -0.026084197160047597, 0.03759962286571541, -0.015296749550649706, -0.016322079053317184, 0.039562951045684296, 0.0006439169427039258, 0.034813626134121846, 1.0, 0.017521353415571556, -0.006429345946711349, -0.00981142848936072, -0.004085329337519465, -0.034322830206661034, 0.026442471176015413, 0.0014668806322857696, 0.007963157516976974, -0.02365510670617723, -0.012814874370471655, 0.0015667995146762359, -0.036745905336769295, 0.015170212530471421, 0.021431144567353386], [0.29963475798369266, 0.03815343427940969, -0.029250804197292986, 0.12631656017668416, 0.012594323218943297, 0.022156883390196815, 0.01501241324311095, 0.14250112381048835, -0.05569942601274601, 0.14951521598969764, 0.017521353415571556, 1.0, -0.010238309359925531, -0.014094872753535341, 0.052733048564885456, 0.03007547509689753, 0.23763858978479374, -0.06605407172783631, -0.008365684790058657, -0.11842134024259048, -0.09075393370080816, -0.03681389238350813, -0.11031915543773214, 0.04349373905781376, -0.020785821366833972], [0.0036335849148617645, 0.022703677496334916, 0.04023537745919304, -0.011110940860654199, -0.03170119524179215, -0.009061986253740113, -0.017204572244480576, -0.03473049227941859, 0.020002039364081937, -0.027268586440314498, -0.006429345946711349, -0.010238309359925531, 1.0, 0.7735499964012668, -0.0404900810570771, 0.00752774782052024, -0.02060848761769149, -0.005221012351720988, -0.0032796360093679373, -0.03599126243195386, -0.0015200265442777384, -0.022154312598866084, -0.011985248472361218, -0.013478202057439092, -0.005432826650792725], [0.0019038955127583738, 0.0004732963271882408, 0.02710961848197604, -0.024538791164833422, -0.029547952297681358, -0.0021716974278102176, -0.029071333439070115, -0.021222082108856632, 0.0022971970637801426, -0.017120138237390704, -0.00981142848936072, -0.014094872753535341, 0.7735499964012668, 1.0, -0.03135145544245493, 0.003506471614809925, 0.006743667905952884, -0.015578881739137221, 0.002572361317682325, 0.003435126115923952, 0.03498626040719472, 0.017896066144799612, 0.022827168908479786, 0.002888751711080946, 0.004369120061651965], [0.053534719671228664, 0.007846030957248321, 0.006557474646578711, -0.009118376696381497, 0.0076653835410744765, 0.0013304527859505607, 0.03429682061119727, 0.021641510532591626, -0.012453593161926874, 0.025873436137557375, -0.004085329337519465, 0.052733048564885456, -0.0404900810570771, -0.03135145544245493, 1.0, -0.04595249071656096, 0.02405429182134115, 0.0024965263921170973, 0.01960440570396862, 0.019366786877455352, -0.015122914881937524, 0.033492502069353614, -0.0008674968446255921, -0.04587227888112611, 0.048492802870137734], [0.0375097124247778, 0.042142796377206686, 0.044871998853181376, 0.01842222020401694, 0.0034321577550576604, 0.05026339906511977, 0.021522640378023945, 0.013983910528615518, 0.01069022612075585, 0.005407676696812226, -0.034322830206661034, 0.03007547509689753, 0.00752774782052024, 0.003506471614809925, -0.04595249071656096, 1.0, 0.01013596931890164, 0.011274069611249013, 0.004128730002871822, 0.015058008028094429, 0.05081787275393108, 0.014352184864355582, 0.02469822656302997, -0.13714491893332414, -0.0004486707219197627], [0.6803805357911991, 0.014514738706320859, 0.004628425863783853, 0.14827969653887266, -0.0026930703885341364, -0.002333681823322244, -0.005533182057407529, 0.7822078045362802, -0.02018507268501687, 0.7728932462543548, 0.026442471176015413, 0.23763858978479374, -0.02060848761769149, 0.006743667905952884, 0.02405429182134115, 0.01013596931890164, 1.0, -0.03566157127961898, 0.0010076456218964744, 0.6281331552682479, 0.4603646380118082, 0.40485775850255995, 0.4591883970831438, -0.17106324613622528, 0.012754266341936299], [-0.019620818942698393, 0.002452542712083261, -0.036942234339916, -0.025100241137933486, -0.019359308347132335, -0.008547685209270621, -0.015337825759428998, -0.01819055019354957, -0.005779334958609058, -0.021736276823893293, 0.0014668806322857696, -0.06605407172783631, -0.005221012351720988, -0.015578881739137221, 0.0024965263921170973, 0.011274069611249013, -0.03566157127961898, 1.0, 0.028072206603628903, 0.003568665678427497, -0.005737504337956901, -0.00206653603800598, -0.0040955260212261965, -0.059477798556420665, -0.07911337155100982], [-0.021490027957098534, -0.037848051005781515, -0.02655600410656897, 0.009819189309781843, 0.027627295460115407, -0.004607233750264436, -0.014616593162761336, 0.03781774559666627, -0.019458710212974534, 0.030683081556940366, 0.007963157516976974, -0.008365684790058657, -0.0032796360093679373, 0.002572361317682325, 0.01960440570396862, 0.004128730002871822, 0.0010076456218964744, 0.028072206603628903, 1.0, 0.012089185354581271, 0.04985649792220411, 0.008941249141234248, 0.002759440242340434, -0.06393904721740912, -0.027091878472392382], [0.3113087697450993, -0.034054767568547466, 0.009507719899011271, 0.06911369603133874, 0.0014575491911166178, -0.019581616209121213, -0.02135542697962983, 0.5347386873756353, -0.003802627948288062, 0.5142848257331964, -0.02365510670617723, -0.11842134024259048, -0.03599126243195386, 0.003435126115923952, 0.019366786877455352, 0.015058008028094429, 0.6281331552682479, 0.003568665678427497, 0.012089185354581271, 1.0, 0.7587537366134616, 0.618408865217602, 0.7692124251006991, -0.13439221398997617, -0.011687120468355159], [0.21290105556556693, 0.009932014960094184, 0.018844999108945663, 0.060235554120695735, 0.018007460142878566, -0.02410622020878486, 0.008716963497611708, 0.3894467328766716, -0.0023047852298301056, 0.36381766692870654, -0.012814874370471655, -0.09075393370080816, -0.0015200265442777384, 0.03498626040719472, -0.015122914881937524, 0.05081787275393108, 0.4603646380118082, -0.005737504337956901, 0.04985649792220411, 0.7587537366134616, 1.0, 0.5480562476995158, 0.7143647616385903, -0.16054500426769938, -0.029758008947989516], [0.21651336785165384, -0.03322898478777197, 0.010028835943115365, 0.05425433359132035, 0.016193605568453423, -0.02671558606433533, -0.024184292365178967, 0.35388534696410395, -0.018213567810190918, 0.34497763816542787, 0.0015667995146762359, -0.03681389238350813, -0.022154312598866084, 0.017896066144799612, 0.033492502069353614, 0.014352184864355582, 0.40485775850255995, -0.00206653603800598, 0.008941249141234248, 0.618408865217602, 0.5480562476995158, 1.0, 0.5102236357788096, -0.03301877514258368, -0.012238822598887799], [0.20208860237515222, -0.026363178228837648, 0.014406048430629939, 0.06906537825528397, -0.0049987226281075076, -0.020123200184066038, 0.025975807949088905, 0.3752806077657263, -0.02765621388428996, 0.3440788832587207, -0.036745905336769295, -0.11031915543773214, -0.011985248472361218, 0.022827168908479786, -0.0008674968446255921, 0.02469822656302997, 0.4591883970831438, -0.0040955260212261965, 0.002759440242340434, 0.7692124251006991, 0.7143647616385903, 0.5102236357788096, 1.0, -0.1561993159016284, -0.04158599865385783], [-0.15920500686577846, -0.05665199186762916, 0.07792358295570358, -0.03137281964004896, -0.10336897833793525, -0.006845549572139824, -0.13001595678605382, -0.16910475093102886, -0.10348112606902209, -0.15983958238498777, 0.015170212530471421, 0.04349373905781376, -0.013478202057439092, 0.002888751711080946, -0.04587227888112611, -0.13714491893332414, -0.17106324613622528, -0.059477798556420665, -0.06393904721740912, -0.13439221398997617, -0.16054500426769938, -0.03301877514258368, -0.1561993159016284, 1.0, 0.24611799424579708], [0.02806235708412405, 0.00913496990113504, 0.02551363494994608, -0.02032176739570367, 0.07013172677409438, -0.007781974360999902, -0.0035067105694045505, 0.0005440477748809303, 0.024539481060031572, 0.006089285402589905, 0.021431144567353386, -0.020785821366833972, -0.005432826650792725, 0.004369120061651965, 0.048492802870137734, -0.0004486707219197627, 0.012754266341936299, -0.07911337155100982, -0.027091878472392382, -0.011687120468355159, -0.029758008947989516, -0.012238822598887799, -0.04158599865385783, 0.24611799424579708, 1.0]]}],\n",
              "                        {\"height\": 700, \"template\": {\"data\": {\"bar\": [{\"error_x\": {\"color\": \"#2a3f5f\"}, \"error_y\": {\"color\": \"#2a3f5f\"}, \"marker\": {\"line\": {\"color\": \"#E5ECF6\", \"width\": 0.5}}, \"type\": \"bar\"}], \"barpolar\": [{\"marker\": {\"line\": {\"color\": \"#E5ECF6\", \"width\": 0.5}}, \"type\": \"barpolar\"}], \"carpet\": [{\"aaxis\": {\"endlinecolor\": \"#2a3f5f\", \"gridcolor\": \"white\", \"linecolor\": \"white\", \"minorgridcolor\": \"white\", \"startlinecolor\": \"#2a3f5f\"}, \"baxis\": {\"endlinecolor\": \"#2a3f5f\", \"gridcolor\": \"white\", \"linecolor\": \"white\", \"minorgridcolor\": \"white\", \"startlinecolor\": \"#2a3f5f\"}, \"type\": \"carpet\"}], \"choropleth\": [{\"colorbar\": {\"outlinewidth\": 0, \"ticks\": \"\"}, \"type\": \"choropleth\"}], \"contour\": [{\"colorbar\": {\"outlinewidth\": 0, \"ticks\": \"\"}, \"colorscale\": [[0.0, \"#0d0887\"], [0.1111111111111111, \"#46039f\"], [0.2222222222222222, \"#7201a8\"], [0.3333333333333333, \"#9c179e\"], [0.4444444444444444, \"#bd3786\"], [0.5555555555555556, \"#d8576b\"], [0.6666666666666666, \"#ed7953\"], [0.7777777777777778, \"#fb9f3a\"], [0.8888888888888888, \"#fdca26\"], [1.0, \"#f0f921\"]], \"type\": \"contour\"}], \"contourcarpet\": [{\"colorbar\": {\"outlinewidth\": 0, \"ticks\": \"\"}, \"type\": \"contourcarpet\"}], \"heatmap\": [{\"colorbar\": {\"outlinewidth\": 0, \"ticks\": \"\"}, \"colorscale\": [[0.0, \"#0d0887\"], [0.1111111111111111, \"#46039f\"], [0.2222222222222222, \"#7201a8\"], [0.3333333333333333, \"#9c179e\"], [0.4444444444444444, \"#bd3786\"], [0.5555555555555556, \"#d8576b\"], [0.6666666666666666, \"#ed7953\"], [0.7777777777777778, \"#fb9f3a\"], [0.8888888888888888, \"#fdca26\"], [1.0, \"#f0f921\"]], \"type\": \"heatmap\"}], \"heatmapgl\": [{\"colorbar\": {\"outlinewidth\": 0, \"ticks\": \"\"}, \"colorscale\": [[0.0, \"#0d0887\"], [0.1111111111111111, \"#46039f\"], [0.2222222222222222, \"#7201a8\"], [0.3333333333333333, \"#9c179e\"], [0.4444444444444444, \"#bd3786\"], [0.5555555555555556, \"#d8576b\"], [0.6666666666666666, \"#ed7953\"], [0.7777777777777778, \"#fb9f3a\"], [0.8888888888888888, \"#fdca26\"], [1.0, \"#f0f921\"]], \"type\": \"heatmapgl\"}], \"histogram\": [{\"marker\": {\"colorbar\": {\"outlinewidth\": 0, \"ticks\": \"\"}}, \"type\": \"histogram\"}], \"histogram2d\": [{\"colorbar\": {\"outlinewidth\": 0, \"ticks\": \"\"}, \"colorscale\": [[0.0, \"#0d0887\"], [0.1111111111111111, \"#46039f\"], [0.2222222222222222, \"#7201a8\"], [0.3333333333333333, \"#9c179e\"], [0.4444444444444444, \"#bd3786\"], [0.5555555555555556, \"#d8576b\"], [0.6666666666666666, \"#ed7953\"], [0.7777777777777778, \"#fb9f3a\"], [0.8888888888888888, \"#fdca26\"], [1.0, \"#f0f921\"]], \"type\": \"histogram2d\"}], \"histogram2dcontour\": [{\"colorbar\": {\"outlinewidth\": 0, \"ticks\": \"\"}, \"colorscale\": [[0.0, \"#0d0887\"], [0.1111111111111111, \"#46039f\"], [0.2222222222222222, \"#7201a8\"], [0.3333333333333333, \"#9c179e\"], [0.4444444444444444, \"#bd3786\"], [0.5555555555555556, \"#d8576b\"], [0.6666666666666666, \"#ed7953\"], [0.7777777777777778, \"#fb9f3a\"], [0.8888888888888888, \"#fdca26\"], [1.0, \"#f0f921\"]], \"type\": \"histogram2dcontour\"}], \"mesh3d\": [{\"colorbar\": {\"outlinewidth\": 0, \"ticks\": \"\"}, \"type\": \"mesh3d\"}], \"parcoords\": [{\"line\": {\"colorbar\": {\"outlinewidth\": 0, \"ticks\": \"\"}}, \"type\": \"parcoords\"}], \"pie\": [{\"automargin\": true, \"type\": \"pie\"}], \"scatter\": [{\"marker\": {\"colorbar\": {\"outlinewidth\": 0, \"ticks\": \"\"}}, \"type\": \"scatter\"}], \"scatter3d\": [{\"line\": {\"colorbar\": {\"outlinewidth\": 0, \"ticks\": \"\"}}, \"marker\": {\"colorbar\": {\"outlinewidth\": 0, \"ticks\": \"\"}}, \"type\": \"scatter3d\"}], \"scattercarpet\": [{\"marker\": {\"colorbar\": {\"outlinewidth\": 0, \"ticks\": \"\"}}, \"type\": \"scattercarpet\"}], \"scattergeo\": [{\"marker\": {\"colorbar\": {\"outlinewidth\": 0, \"ticks\": \"\"}}, \"type\": \"scattergeo\"}], \"scattergl\": [{\"marker\": {\"colorbar\": {\"outlinewidth\": 0, \"ticks\": \"\"}}, \"type\": \"scattergl\"}], \"scattermapbox\": [{\"marker\": {\"colorbar\": {\"outlinewidth\": 0, \"ticks\": \"\"}}, \"type\": \"scattermapbox\"}], \"scatterpolar\": [{\"marker\": {\"colorbar\": {\"outlinewidth\": 0, \"ticks\": \"\"}}, \"type\": \"scatterpolar\"}], \"scatterpolargl\": [{\"marker\": {\"colorbar\": {\"outlinewidth\": 0, \"ticks\": \"\"}}, \"type\": \"scatterpolargl\"}], \"scatterternary\": [{\"marker\": {\"colorbar\": {\"outlinewidth\": 0, \"ticks\": \"\"}}, \"type\": \"scatterternary\"}], \"surface\": [{\"colorbar\": {\"outlinewidth\": 0, \"ticks\": \"\"}, \"colorscale\": [[0.0, \"#0d0887\"], [0.1111111111111111, \"#46039f\"], [0.2222222222222222, \"#7201a8\"], [0.3333333333333333, \"#9c179e\"], [0.4444444444444444, \"#bd3786\"], [0.5555555555555556, \"#d8576b\"], [0.6666666666666666, \"#ed7953\"], [0.7777777777777778, \"#fb9f3a\"], [0.8888888888888888, \"#fdca26\"], [1.0, \"#f0f921\"]], \"type\": \"surface\"}], \"table\": [{\"cells\": {\"fill\": {\"color\": \"#EBF0F8\"}, \"line\": {\"color\": \"white\"}}, \"header\": {\"fill\": {\"color\": \"#C8D4E3\"}, \"line\": {\"color\": \"white\"}}, \"type\": \"table\"}]}, \"layout\": {\"annotationdefaults\": {\"arrowcolor\": \"#2a3f5f\", \"arrowhead\": 0, \"arrowwidth\": 1}, \"coloraxis\": {\"colorbar\": {\"outlinewidth\": 0, \"ticks\": \"\"}}, \"colorscale\": {\"diverging\": [[0, \"#8e0152\"], [0.1, \"#c51b7d\"], [0.2, \"#de77ae\"], [0.3, \"#f1b6da\"], [0.4, \"#fde0ef\"], [0.5, \"#f7f7f7\"], [0.6, \"#e6f5d0\"], [0.7, \"#b8e186\"], [0.8, \"#7fbc41\"], [0.9, \"#4d9221\"], [1, \"#276419\"]], \"sequential\": [[0.0, \"#0d0887\"], [0.1111111111111111, \"#46039f\"], [0.2222222222222222, \"#7201a8\"], [0.3333333333333333, \"#9c179e\"], [0.4444444444444444, \"#bd3786\"], [0.5555555555555556, \"#d8576b\"], [0.6666666666666666, \"#ed7953\"], [0.7777777777777778, \"#fb9f3a\"], [0.8888888888888888, \"#fdca26\"], [1.0, \"#f0f921\"]], \"sequentialminus\": [[0.0, \"#0d0887\"], [0.1111111111111111, \"#46039f\"], [0.2222222222222222, \"#7201a8\"], [0.3333333333333333, \"#9c179e\"], [0.4444444444444444, \"#bd3786\"], [0.5555555555555556, \"#d8576b\"], [0.6666666666666666, \"#ed7953\"], [0.7777777777777778, \"#fb9f3a\"], [0.8888888888888888, \"#fdca26\"], [1.0, \"#f0f921\"]]}, \"colorway\": [\"#636efa\", \"#EF553B\", \"#00cc96\", \"#ab63fa\", \"#FFA15A\", \"#19d3f3\", \"#FF6692\", \"#B6E880\", \"#FF97FF\", \"#FECB52\"], \"font\": {\"color\": \"#2a3f5f\"}, \"geo\": {\"bgcolor\": \"white\", \"lakecolor\": \"white\", \"landcolor\": \"#E5ECF6\", \"showlakes\": true, \"showland\": true, \"subunitcolor\": \"white\"}, \"hoverlabel\": {\"align\": \"left\"}, \"hovermode\": \"closest\", \"mapbox\": {\"style\": \"light\"}, \"paper_bgcolor\": \"white\", \"plot_bgcolor\": \"#E5ECF6\", \"polar\": {\"angularaxis\": {\"gridcolor\": \"white\", \"linecolor\": \"white\", \"ticks\": \"\"}, \"bgcolor\": \"#E5ECF6\", \"radialaxis\": {\"gridcolor\": \"white\", \"linecolor\": \"white\", \"ticks\": \"\"}}, \"scene\": {\"xaxis\": {\"backgroundcolor\": \"#E5ECF6\", \"gridcolor\": \"white\", \"gridwidth\": 2, \"linecolor\": \"white\", \"showbackground\": true, \"ticks\": \"\", \"zerolinecolor\": \"white\"}, \"yaxis\": {\"backgroundcolor\": \"#E5ECF6\", \"gridcolor\": \"white\", \"gridwidth\": 2, \"linecolor\": \"white\", \"showbackground\": true, \"ticks\": \"\", \"zerolinecolor\": \"white\"}, \"zaxis\": {\"backgroundcolor\": \"#E5ECF6\", \"gridcolor\": \"white\", \"gridwidth\": 2, \"linecolor\": \"white\", \"showbackground\": true, \"ticks\": \"\", \"zerolinecolor\": \"white\"}}, \"shapedefaults\": {\"line\": {\"color\": \"#2a3f5f\"}}, \"ternary\": {\"aaxis\": {\"gridcolor\": \"white\", \"linecolor\": \"white\", \"ticks\": \"\"}, \"baxis\": {\"gridcolor\": \"white\", \"linecolor\": \"white\", \"ticks\": \"\"}, \"bgcolor\": \"#E5ECF6\", \"caxis\": {\"gridcolor\": \"white\", \"linecolor\": \"white\", \"ticks\": \"\"}}, \"title\": {\"x\": 0.05}, \"xaxis\": {\"automargin\": true, \"gridcolor\": \"white\", \"linecolor\": \"white\", \"ticks\": \"\", \"title\": {\"standoff\": 15}, \"zerolinecolor\": \"white\", \"zerolinewidth\": 2}, \"yaxis\": {\"automargin\": true, \"gridcolor\": \"white\", \"linecolor\": \"white\", \"ticks\": \"\", \"title\": {\"standoff\": 15}, \"zerolinecolor\": \"white\", \"zerolinewidth\": 2}}}, \"title\": {\"text\": \"Comparing Pearson Correlation Values of the Numerical Columns\"}, \"width\": 900, \"xaxis\": {\"nticks\": 36, \"ticks\": \"\"}, \"yaxis\": {\"ticks\": \"\"}},\n",
              "                        {\"responsive\": true}\n",
              "                    ).then(function(){\n",
              "                            \n",
              "var gd = document.getElementById('0b4d7efc-c24c-4b97-97e0-23a0cfc40126');\n",
              "var x = new MutationObserver(function (mutations, observer) {{\n",
              "        var display = window.getComputedStyle(gd).display;\n",
              "        if (!display || display === 'none') {{\n",
              "            console.log([gd, 'removed!']);\n",
              "            Plotly.purge(gd);\n",
              "            observer.disconnect();\n",
              "        }}\n",
              "}});\n",
              "\n",
              "// Listen for the removal of the full notebook cells\n",
              "var notebookContainer = gd.closest('#notebook-container');\n",
              "if (notebookContainer) {{\n",
              "    x.observe(notebookContainer, {childList: true});\n",
              "}}\n",
              "\n",
              "// Listen for the clearing of the current output cell\n",
              "var outputEl = gd.closest('.output');\n",
              "if (outputEl) {{\n",
              "    x.observe(outputEl, {childList: true});\n",
              "}}\n",
              "\n",
              "                        })\n",
              "                };\n",
              "                });\n",
              "            </script>\n",
              "        </div>"
            ],
            "application/vnd.plotly.v1+json": {
              "data": [
                {
                  "opacity": 1,
                  "colorscale": [
                    [
                      0,
                      "rgb(255,245,240)"
                    ],
                    [
                      0.125,
                      "rgb(254,224,210)"
                    ],
                    [
                      0.25,
                      "rgb(252,187,161)"
                    ],
                    [
                      0.375,
                      "rgb(252,146,114)"
                    ],
                    [
                      0.5,
                      "rgb(251,106,74)"
                    ],
                    [
                      0.625,
                      "rgb(239,59,44)"
                    ],
                    [
                      0.75,
                      "rgb(203,24,29)"
                    ],
                    [
                      0.875,
                      "rgb(165,15,21)"
                    ],
                    [
                      1,
                      "rgb(103,0,13)"
                    ]
                  ],
                  "reversescale": false,
                  "y": [
                    "Age",
                    "DailyRate",
                    "DistanceFromHome",
                    "Education",
                    "EnvironmentSatisfaction",
                    "HourlyRate",
                    "JobInvolvement",
                    "JobLevel",
                    "JobSatisfaction",
                    "MonthlyIncome",
                    "MonthlyRate",
                    "NumCompaniesWorked",
                    "PercentSalaryHike",
                    "PerformanceRating",
                    "RelationshipSatisfaction",
                    "StockOptionLevel",
                    "TotalWorkingYears",
                    "TrainingTimesLastYear",
                    "WorkLifeBalance",
                    "YearsAtCompany",
                    "YearsInCurrentRole",
                    "YearsSinceLastPromotion",
                    "YearsWithCurrManager",
                    "Attrition_encoded",
                    "Overtime_encoded"
                  ],
                  "x": [
                    "Age",
                    "DailyRate",
                    "DistanceFromHome",
                    "Education",
                    "EnvironmentSatisfaction",
                    "HourlyRate",
                    "JobInvolvement",
                    "JobLevel",
                    "JobSatisfaction",
                    "MonthlyIncome",
                    "MonthlyRate",
                    "NumCompaniesWorked",
                    "PercentSalaryHike",
                    "PerformanceRating",
                    "RelationshipSatisfaction",
                    "StockOptionLevel",
                    "TotalWorkingYears",
                    "TrainingTimesLastYear",
                    "WorkLifeBalance",
                    "YearsAtCompany",
                    "YearsInCurrentRole",
                    "YearsSinceLastPromotion",
                    "YearsWithCurrManager",
                    "Attrition_encoded",
                    "Overtime_encoded"
                  ],
                  "z": [
                    [
                      1,
                      0.010660942645538149,
                      -0.0016861201480870135,
                      0.20803373101424003,
                      0.010146427861437251,
                      0.02428654255096734,
                      0.02981995862959055,
                      0.5096042284323877,
                      -0.004891877148687357,
                      0.49785456692658075,
                      0.028051167133922784,
                      0.29963475798369266,
                      0.0036335849148617645,
                      0.0019038955127583738,
                      0.053534719671228664,
                      0.0375097124247778,
                      0.6803805357911991,
                      -0.019620818942698393,
                      -0.021490027957098534,
                      0.3113087697450993,
                      0.21290105556556693,
                      0.21651336785165384,
                      0.20208860237515222,
                      -0.15920500686577846,
                      0.02806235708412405
                    ],
                    [
                      0.010660942645538149,
                      1,
                      -0.004985337352552674,
                      -0.01680643320915765,
                      0.018354854300385467,
                      0.023381421528320238,
                      0.04613487399781132,
                      0.0029663348551117142,
                      0.03057100783714411,
                      0.007707058872006039,
                      -0.032181601522581774,
                      0.03815343427940969,
                      0.022703677496334916,
                      0.0004732963271882408,
                      0.007846030957248321,
                      0.042142796377206686,
                      0.014514738706320859,
                      0.002452542712083261,
                      -0.037848051005781515,
                      -0.034054767568547466,
                      0.009932014960094184,
                      -0.03322898478777197,
                      -0.026363178228837648,
                      -0.05665199186762916,
                      0.00913496990113504
                    ],
                    [
                      -0.0016861201480870135,
                      -0.004985337352552674,
                      1,
                      0.021041825624123364,
                      -0.016075326996493465,
                      0.031130585611766015,
                      0.008783279886444232,
                      0.00530273055449623,
                      -0.0036688391677204214,
                      -0.01701444474527587,
                      0.027472863548884053,
                      -0.029250804197292986,
                      0.04023537745919304,
                      0.02710961848197604,
                      0.006557474646578711,
                      0.044871998853181376,
                      0.004628425863783853,
                      -0.036942234339916,
                      -0.02655600410656897,
                      0.009507719899011271,
                      0.018844999108945663,
                      0.010028835943115365,
                      0.014406048430629939,
                      0.07792358295570358,
                      0.02551363494994608
                    ],
                    [
                      0.20803373101424003,
                      -0.01680643320915765,
                      0.021041825624123364,
                      1,
                      -0.027128313256511653,
                      0.016774828880960865,
                      0.042437634318608114,
                      0.10158888624850132,
                      -0.011296116736574009,
                      0.09496067704188856,
                      -0.026084197160047597,
                      0.12631656017668416,
                      -0.011110940860654199,
                      -0.024538791164833422,
                      -0.009118376696381497,
                      0.01842222020401694,
                      0.14827969653887266,
                      -0.025100241137933486,
                      0.009819189309781843,
                      0.06911369603133874,
                      0.060235554120695735,
                      0.05425433359132035,
                      0.06906537825528397,
                      -0.03137281964004896,
                      -0.02032176739570367
                    ],
                    [
                      0.010146427861437251,
                      0.018354854300385467,
                      -0.016075326996493465,
                      -0.027128313256511653,
                      1,
                      -0.04985695620300049,
                      -0.008277598171759227,
                      0.001211699448913975,
                      -0.006784352599075191,
                      -0.006259087754780221,
                      0.03759962286571541,
                      0.012594323218943297,
                      -0.03170119524179215,
                      -0.029547952297681358,
                      0.0076653835410744765,
                      0.0034321577550576604,
                      -0.0026930703885341364,
                      -0.019359308347132335,
                      0.027627295460115407,
                      0.0014575491911166178,
                      0.018007460142878566,
                      0.016193605568453423,
                      -0.0049987226281075076,
                      -0.10336897833793525,
                      0.07013172677409438
                    ],
                    [
                      0.02428654255096734,
                      0.023381421528320238,
                      0.031130585611766015,
                      0.016774828880960865,
                      -0.04985695620300049,
                      1,
                      0.04286064097152996,
                      -0.027853486405547332,
                      -0.07133462437378851,
                      -0.015794304380892906,
                      -0.015296749550649706,
                      0.022156883390196815,
                      -0.009061986253740113,
                      -0.0021716974278102176,
                      0.0013304527859505607,
                      0.05026339906511977,
                      -0.002333681823322244,
                      -0.008547685209270621,
                      -0.004607233750264436,
                      -0.019581616209121213,
                      -0.02410622020878486,
                      -0.02671558606433533,
                      -0.020123200184066038,
                      -0.006845549572139824,
                      -0.007781974360999902
                    ],
                    [
                      0.02981995862959055,
                      0.04613487399781132,
                      0.008783279886444232,
                      0.042437634318608114,
                      -0.008277598171759227,
                      0.04286064097152996,
                      1,
                      -0.012629882671190917,
                      -0.02147591033530702,
                      -0.015271490778732858,
                      -0.016322079053317184,
                      0.01501241324311095,
                      -0.017204572244480576,
                      -0.029071333439070115,
                      0.03429682061119727,
                      0.021522640378023945,
                      -0.005533182057407529,
                      -0.015337825759428998,
                      -0.014616593162761336,
                      -0.02135542697962983,
                      0.008716963497611708,
                      -0.024184292365178967,
                      0.025975807949088905,
                      -0.13001595678605382,
                      -0.0035067105694045505
                    ],
                    [
                      0.5096042284323877,
                      0.0029663348551117142,
                      0.00530273055449623,
                      0.10158888624850132,
                      0.001211699448913975,
                      -0.027853486405547332,
                      -0.012629882671190917,
                      1,
                      -0.0019437080267456803,
                      0.950299913479854,
                      0.039562951045684296,
                      0.14250112381048835,
                      -0.03473049227941859,
                      -0.021222082108856632,
                      0.021641510532591626,
                      0.013983910528615518,
                      0.7822078045362802,
                      -0.01819055019354957,
                      0.03781774559666627,
                      0.5347386873756353,
                      0.3894467328766716,
                      0.35388534696410395,
                      0.3752806077657263,
                      -0.16910475093102886,
                      0.0005440477748809303
                    ],
                    [
                      -0.004891877148687357,
                      0.03057100783714411,
                      -0.0036688391677204214,
                      -0.011296116736574009,
                      -0.006784352599075191,
                      -0.07133462437378851,
                      -0.02147591033530702,
                      -0.0019437080267456803,
                      1,
                      -0.007156742355912731,
                      0.0006439169427039258,
                      -0.05569942601274601,
                      0.020002039364081937,
                      0.0022971970637801426,
                      -0.012453593161926874,
                      0.01069022612075585,
                      -0.02018507268501687,
                      -0.005779334958609058,
                      -0.019458710212974534,
                      -0.003802627948288062,
                      -0.0023047852298301056,
                      -0.018213567810190918,
                      -0.02765621388428996,
                      -0.10348112606902209,
                      0.024539481060031572
                    ],
                    [
                      0.49785456692658075,
                      0.007707058872006039,
                      -0.01701444474527587,
                      0.09496067704188856,
                      -0.006259087754780221,
                      -0.015794304380892906,
                      -0.015271490778732858,
                      0.950299913479854,
                      -0.007156742355912731,
                      1,
                      0.034813626134121846,
                      0.14951521598969764,
                      -0.027268586440314498,
                      -0.017120138237390704,
                      0.025873436137557375,
                      0.005407676696812226,
                      0.7728932462543548,
                      -0.021736276823893293,
                      0.030683081556940366,
                      0.5142848257331964,
                      0.36381766692870654,
                      0.34497763816542787,
                      0.3440788832587207,
                      -0.15983958238498777,
                      0.006089285402589905
                    ],
                    [
                      0.028051167133922784,
                      -0.032181601522581774,
                      0.027472863548884053,
                      -0.026084197160047597,
                      0.03759962286571541,
                      -0.015296749550649706,
                      -0.016322079053317184,
                      0.039562951045684296,
                      0.0006439169427039258,
                      0.034813626134121846,
                      1,
                      0.017521353415571556,
                      -0.006429345946711349,
                      -0.00981142848936072,
                      -0.004085329337519465,
                      -0.034322830206661034,
                      0.026442471176015413,
                      0.0014668806322857696,
                      0.007963157516976974,
                      -0.02365510670617723,
                      -0.012814874370471655,
                      0.0015667995146762359,
                      -0.036745905336769295,
                      0.015170212530471421,
                      0.021431144567353386
                    ],
                    [
                      0.29963475798369266,
                      0.03815343427940969,
                      -0.029250804197292986,
                      0.12631656017668416,
                      0.012594323218943297,
                      0.022156883390196815,
                      0.01501241324311095,
                      0.14250112381048835,
                      -0.05569942601274601,
                      0.14951521598969764,
                      0.017521353415571556,
                      1,
                      -0.010238309359925531,
                      -0.014094872753535341,
                      0.052733048564885456,
                      0.03007547509689753,
                      0.23763858978479374,
                      -0.06605407172783631,
                      -0.008365684790058657,
                      -0.11842134024259048,
                      -0.09075393370080816,
                      -0.03681389238350813,
                      -0.11031915543773214,
                      0.04349373905781376,
                      -0.020785821366833972
                    ],
                    [
                      0.0036335849148617645,
                      0.022703677496334916,
                      0.04023537745919304,
                      -0.011110940860654199,
                      -0.03170119524179215,
                      -0.009061986253740113,
                      -0.017204572244480576,
                      -0.03473049227941859,
                      0.020002039364081937,
                      -0.027268586440314498,
                      -0.006429345946711349,
                      -0.010238309359925531,
                      1,
                      0.7735499964012668,
                      -0.0404900810570771,
                      0.00752774782052024,
                      -0.02060848761769149,
                      -0.005221012351720988,
                      -0.0032796360093679373,
                      -0.03599126243195386,
                      -0.0015200265442777384,
                      -0.022154312598866084,
                      -0.011985248472361218,
                      -0.013478202057439092,
                      -0.005432826650792725
                    ],
                    [
                      0.0019038955127583738,
                      0.0004732963271882408,
                      0.02710961848197604,
                      -0.024538791164833422,
                      -0.029547952297681358,
                      -0.0021716974278102176,
                      -0.029071333439070115,
                      -0.021222082108856632,
                      0.0022971970637801426,
                      -0.017120138237390704,
                      -0.00981142848936072,
                      -0.014094872753535341,
                      0.7735499964012668,
                      1,
                      -0.03135145544245493,
                      0.003506471614809925,
                      0.006743667905952884,
                      -0.015578881739137221,
                      0.002572361317682325,
                      0.003435126115923952,
                      0.03498626040719472,
                      0.017896066144799612,
                      0.022827168908479786,
                      0.002888751711080946,
                      0.004369120061651965
                    ],
                    [
                      0.053534719671228664,
                      0.007846030957248321,
                      0.006557474646578711,
                      -0.009118376696381497,
                      0.0076653835410744765,
                      0.0013304527859505607,
                      0.03429682061119727,
                      0.021641510532591626,
                      -0.012453593161926874,
                      0.025873436137557375,
                      -0.004085329337519465,
                      0.052733048564885456,
                      -0.0404900810570771,
                      -0.03135145544245493,
                      1,
                      -0.04595249071656096,
                      0.02405429182134115,
                      0.0024965263921170973,
                      0.01960440570396862,
                      0.019366786877455352,
                      -0.015122914881937524,
                      0.033492502069353614,
                      -0.0008674968446255921,
                      -0.04587227888112611,
                      0.048492802870137734
                    ],
                    [
                      0.0375097124247778,
                      0.042142796377206686,
                      0.044871998853181376,
                      0.01842222020401694,
                      0.0034321577550576604,
                      0.05026339906511977,
                      0.021522640378023945,
                      0.013983910528615518,
                      0.01069022612075585,
                      0.005407676696812226,
                      -0.034322830206661034,
                      0.03007547509689753,
                      0.00752774782052024,
                      0.003506471614809925,
                      -0.04595249071656096,
                      1,
                      0.01013596931890164,
                      0.011274069611249013,
                      0.004128730002871822,
                      0.015058008028094429,
                      0.05081787275393108,
                      0.014352184864355582,
                      0.02469822656302997,
                      -0.13714491893332414,
                      -0.0004486707219197627
                    ],
                    [
                      0.6803805357911991,
                      0.014514738706320859,
                      0.004628425863783853,
                      0.14827969653887266,
                      -0.0026930703885341364,
                      -0.002333681823322244,
                      -0.005533182057407529,
                      0.7822078045362802,
                      -0.02018507268501687,
                      0.7728932462543548,
                      0.026442471176015413,
                      0.23763858978479374,
                      -0.02060848761769149,
                      0.006743667905952884,
                      0.02405429182134115,
                      0.01013596931890164,
                      1,
                      -0.03566157127961898,
                      0.0010076456218964744,
                      0.6281331552682479,
                      0.4603646380118082,
                      0.40485775850255995,
                      0.4591883970831438,
                      -0.17106324613622528,
                      0.012754266341936299
                    ],
                    [
                      -0.019620818942698393,
                      0.002452542712083261,
                      -0.036942234339916,
                      -0.025100241137933486,
                      -0.019359308347132335,
                      -0.008547685209270621,
                      -0.015337825759428998,
                      -0.01819055019354957,
                      -0.005779334958609058,
                      -0.021736276823893293,
                      0.0014668806322857696,
                      -0.06605407172783631,
                      -0.005221012351720988,
                      -0.015578881739137221,
                      0.0024965263921170973,
                      0.011274069611249013,
                      -0.03566157127961898,
                      1,
                      0.028072206603628903,
                      0.003568665678427497,
                      -0.005737504337956901,
                      -0.00206653603800598,
                      -0.0040955260212261965,
                      -0.059477798556420665,
                      -0.07911337155100982
                    ],
                    [
                      -0.021490027957098534,
                      -0.037848051005781515,
                      -0.02655600410656897,
                      0.009819189309781843,
                      0.027627295460115407,
                      -0.004607233750264436,
                      -0.014616593162761336,
                      0.03781774559666627,
                      -0.019458710212974534,
                      0.030683081556940366,
                      0.007963157516976974,
                      -0.008365684790058657,
                      -0.0032796360093679373,
                      0.002572361317682325,
                      0.01960440570396862,
                      0.004128730002871822,
                      0.0010076456218964744,
                      0.028072206603628903,
                      1,
                      0.012089185354581271,
                      0.04985649792220411,
                      0.008941249141234248,
                      0.002759440242340434,
                      -0.06393904721740912,
                      -0.027091878472392382
                    ],
                    [
                      0.3113087697450993,
                      -0.034054767568547466,
                      0.009507719899011271,
                      0.06911369603133874,
                      0.0014575491911166178,
                      -0.019581616209121213,
                      -0.02135542697962983,
                      0.5347386873756353,
                      -0.003802627948288062,
                      0.5142848257331964,
                      -0.02365510670617723,
                      -0.11842134024259048,
                      -0.03599126243195386,
                      0.003435126115923952,
                      0.019366786877455352,
                      0.015058008028094429,
                      0.6281331552682479,
                      0.003568665678427497,
                      0.012089185354581271,
                      1,
                      0.7587537366134616,
                      0.618408865217602,
                      0.7692124251006991,
                      -0.13439221398997617,
                      -0.011687120468355159
                    ],
                    [
                      0.21290105556556693,
                      0.009932014960094184,
                      0.018844999108945663,
                      0.060235554120695735,
                      0.018007460142878566,
                      -0.02410622020878486,
                      0.008716963497611708,
                      0.3894467328766716,
                      -0.0023047852298301056,
                      0.36381766692870654,
                      -0.012814874370471655,
                      -0.09075393370080816,
                      -0.0015200265442777384,
                      0.03498626040719472,
                      -0.015122914881937524,
                      0.05081787275393108,
                      0.4603646380118082,
                      -0.005737504337956901,
                      0.04985649792220411,
                      0.7587537366134616,
                      1,
                      0.5480562476995158,
                      0.7143647616385903,
                      -0.16054500426769938,
                      -0.029758008947989516
                    ],
                    [
                      0.21651336785165384,
                      -0.03322898478777197,
                      0.010028835943115365,
                      0.05425433359132035,
                      0.016193605568453423,
                      -0.02671558606433533,
                      -0.024184292365178967,
                      0.35388534696410395,
                      -0.018213567810190918,
                      0.34497763816542787,
                      0.0015667995146762359,
                      -0.03681389238350813,
                      -0.022154312598866084,
                      0.017896066144799612,
                      0.033492502069353614,
                      0.014352184864355582,
                      0.40485775850255995,
                      -0.00206653603800598,
                      0.008941249141234248,
                      0.618408865217602,
                      0.5480562476995158,
                      1,
                      0.5102236357788096,
                      -0.03301877514258368,
                      -0.012238822598887799
                    ],
                    [
                      0.20208860237515222,
                      -0.026363178228837648,
                      0.014406048430629939,
                      0.06906537825528397,
                      -0.0049987226281075076,
                      -0.020123200184066038,
                      0.025975807949088905,
                      0.3752806077657263,
                      -0.02765621388428996,
                      0.3440788832587207,
                      -0.036745905336769295,
                      -0.11031915543773214,
                      -0.011985248472361218,
                      0.022827168908479786,
                      -0.0008674968446255921,
                      0.02469822656302997,
                      0.4591883970831438,
                      -0.0040955260212261965,
                      0.002759440242340434,
                      0.7692124251006991,
                      0.7143647616385903,
                      0.5102236357788096,
                      1,
                      -0.1561993159016284,
                      -0.04158599865385783
                    ],
                    [
                      -0.15920500686577846,
                      -0.05665199186762916,
                      0.07792358295570358,
                      -0.03137281964004896,
                      -0.10336897833793525,
                      -0.006845549572139824,
                      -0.13001595678605382,
                      -0.16910475093102886,
                      -0.10348112606902209,
                      -0.15983958238498777,
                      0.015170212530471421,
                      0.04349373905781376,
                      -0.013478202057439092,
                      0.002888751711080946,
                      -0.04587227888112611,
                      -0.13714491893332414,
                      -0.17106324613622528,
                      -0.059477798556420665,
                      -0.06393904721740912,
                      -0.13439221398997617,
                      -0.16054500426769938,
                      -0.03301877514258368,
                      -0.1561993159016284,
                      1,
                      0.24611799424579708
                    ],
                    [
                      0.02806235708412405,
                      0.00913496990113504,
                      0.02551363494994608,
                      -0.02032176739570367,
                      0.07013172677409438,
                      -0.007781974360999902,
                      -0.0035067105694045505,
                      0.0005440477748809303,
                      0.024539481060031572,
                      0.006089285402589905,
                      0.021431144567353386,
                      -0.020785821366833972,
                      -0.005432826650792725,
                      0.004369120061651965,
                      0.048492802870137734,
                      -0.0004486707219197627,
                      0.012754266341936299,
                      -0.07911337155100982,
                      -0.027091878472392382,
                      -0.011687120468355159,
                      -0.029758008947989516,
                      -0.012238822598887799,
                      -0.04158599865385783,
                      0.24611799424579708,
                      1
                    ]
                  ],
                  "type": "heatmap"
                }
              ],
              "config": {
                "plotlyServerURL": "https://plot.ly",
                "linkText": "Export to plot.ly",
                "showLink": false
              },
              "layout": {
                "template": {
                  "layout": {
                    "shapedefaults": {
                      "line": {
                        "color": "#2a3f5f"
                      }
                    },
                    "polar": {
                      "radialaxis": {
                        "ticks": "",
                        "gridcolor": "white",
                        "linecolor": "white"
                      },
                      "bgcolor": "#E5ECF6",
                      "angularaxis": {
                        "ticks": "",
                        "gridcolor": "white",
                        "linecolor": "white"
                      }
                    },
                    "colorway": [
                      "#636efa",
                      "#EF553B",
                      "#00cc96",
                      "#ab63fa",
                      "#FFA15A",
                      "#19d3f3",
                      "#FF6692",
                      "#B6E880",
                      "#FF97FF",
                      "#FECB52"
                    ],
                    "xaxis": {
                      "automargin": true,
                      "title": {
                        "standoff": 15
                      },
                      "zerolinewidth": 2,
                      "ticks": "",
                      "zerolinecolor": "white",
                      "gridcolor": "white",
                      "linecolor": "white"
                    },
                    "colorscale": {
                      "diverging": [
                        [
                          0,
                          "#8e0152"
                        ],
                        [
                          0.1,
                          "#c51b7d"
                        ],
                        [
                          0.2,
                          "#de77ae"
                        ],
                        [
                          0.3,
                          "#f1b6da"
                        ],
                        [
                          0.4,
                          "#fde0ef"
                        ],
                        [
                          0.5,
                          "#f7f7f7"
                        ],
                        [
                          0.6,
                          "#e6f5d0"
                        ],
                        [
                          0.7,
                          "#b8e186"
                        ],
                        [
                          0.8,
                          "#7fbc41"
                        ],
                        [
                          0.9,
                          "#4d9221"
                        ],
                        [
                          1,
                          "#276419"
                        ]
                      ],
                      "sequential": [
                        [
                          0,
                          "#0d0887"
                        ],
                        [
                          0.1111111111111111,
                          "#46039f"
                        ],
                        [
                          0.2222222222222222,
                          "#7201a8"
                        ],
                        [
                          0.3333333333333333,
                          "#9c179e"
                        ],
                        [
                          0.4444444444444444,
                          "#bd3786"
                        ],
                        [
                          0.5555555555555556,
                          "#d8576b"
                        ],
                        [
                          0.6666666666666666,
                          "#ed7953"
                        ],
                        [
                          0.7777777777777778,
                          "#fb9f3a"
                        ],
                        [
                          0.8888888888888888,
                          "#fdca26"
                        ],
                        [
                          1,
                          "#f0f921"
                        ]
                      ],
                      "sequentialminus": [
                        [
                          0,
                          "#0d0887"
                        ],
                        [
                          0.1111111111111111,
                          "#46039f"
                        ],
                        [
                          0.2222222222222222,
                          "#7201a8"
                        ],
                        [
                          0.3333333333333333,
                          "#9c179e"
                        ],
                        [
                          0.4444444444444444,
                          "#bd3786"
                        ],
                        [
                          0.5555555555555556,
                          "#d8576b"
                        ],
                        [
                          0.6666666666666666,
                          "#ed7953"
                        ],
                        [
                          0.7777777777777778,
                          "#fb9f3a"
                        ],
                        [
                          0.8888888888888888,
                          "#fdca26"
                        ],
                        [
                          1,
                          "#f0f921"
                        ]
                      ]
                    },
                    "paper_bgcolor": "white",
                    "plot_bgcolor": "#E5ECF6",
                    "title": {
                      "x": 0.05
                    },
                    "scene": {
                      "zaxis": {
                        "backgroundcolor": "#E5ECF6",
                        "ticks": "",
                        "gridwidth": 2,
                        "showbackground": true,
                        "zerolinecolor": "white",
                        "gridcolor": "white",
                        "linecolor": "white"
                      },
                      "xaxis": {
                        "backgroundcolor": "#E5ECF6",
                        "ticks": "",
                        "gridwidth": 2,
                        "showbackground": true,
                        "zerolinecolor": "white",
                        "gridcolor": "white",
                        "linecolor": "white"
                      },
                      "yaxis": {
                        "backgroundcolor": "#E5ECF6",
                        "ticks": "",
                        "gridwidth": 2,
                        "showbackground": true,
                        "zerolinecolor": "white",
                        "gridcolor": "white",
                        "linecolor": "white"
                      }
                    },
                    "yaxis": {
                      "automargin": true,
                      "title": {
                        "standoff": 15
                      },
                      "zerolinewidth": 2,
                      "ticks": "",
                      "zerolinecolor": "white",
                      "gridcolor": "white",
                      "linecolor": "white"
                    },
                    "annotationdefaults": {
                      "arrowwidth": 1,
                      "arrowhead": 0,
                      "arrowcolor": "#2a3f5f"
                    },
                    "hoverlabel": {
                      "align": "left"
                    },
                    "ternary": {
                      "bgcolor": "#E5ECF6",
                      "baxis": {
                        "ticks": "",
                        "gridcolor": "white",
                        "linecolor": "white"
                      },
                      "caxis": {
                        "ticks": "",
                        "gridcolor": "white",
                        "linecolor": "white"
                      },
                      "aaxis": {
                        "ticks": "",
                        "gridcolor": "white",
                        "linecolor": "white"
                      }
                    },
                    "mapbox": {
                      "style": "light"
                    },
                    "hovermode": "closest",
                    "font": {
                      "color": "#2a3f5f"
                    },
                    "geo": {
                      "showland": true,
                      "landcolor": "#E5ECF6",
                      "showlakes": true,
                      "bgcolor": "white",
                      "subunitcolor": "white",
                      "lakecolor": "white"
                    },
                    "coloraxis": {
                      "colorbar": {
                        "outlinewidth": 0,
                        "ticks": ""
                      }
                    }
                  },
                  "data": {
                    "mesh3d": [
                      {
                        "colorbar": {
                          "outlinewidth": 0,
                          "ticks": ""
                        },
                        "type": "mesh3d"
                      }
                    ],
                    "scattercarpet": [
                      {
                        "marker": {
                          "colorbar": {
                            "outlinewidth": 0,
                            "ticks": ""
                          }
                        },
                        "type": "scattercarpet"
                      }
                    ],
                    "pie": [
                      {
                        "automargin": true,
                        "type": "pie"
                      }
                    ],
                    "surface": [
                      {
                        "colorbar": {
                          "outlinewidth": 0,
                          "ticks": ""
                        },
                        "type": "surface",
                        "colorscale": [
                          [
                            0,
                            "#0d0887"
                          ],
                          [
                            0.1111111111111111,
                            "#46039f"
                          ],
                          [
                            0.2222222222222222,
                            "#7201a8"
                          ],
                          [
                            0.3333333333333333,
                            "#9c179e"
                          ],
                          [
                            0.4444444444444444,
                            "#bd3786"
                          ],
                          [
                            0.5555555555555556,
                            "#d8576b"
                          ],
                          [
                            0.6666666666666666,
                            "#ed7953"
                          ],
                          [
                            0.7777777777777778,
                            "#fb9f3a"
                          ],
                          [
                            0.8888888888888888,
                            "#fdca26"
                          ],
                          [
                            1,
                            "#f0f921"
                          ]
                        ]
                      }
                    ],
                    "table": [
                      {
                        "header": {
                          "line": {
                            "color": "white"
                          },
                          "fill": {
                            "color": "#C8D4E3"
                          }
                        },
                        "cells": {
                          "line": {
                            "color": "white"
                          },
                          "fill": {
                            "color": "#EBF0F8"
                          }
                        },
                        "type": "table"
                      }
                    ],
                    "scatterpolargl": [
                      {
                        "marker": {
                          "colorbar": {
                            "outlinewidth": 0,
                            "ticks": ""
                          }
                        },
                        "type": "scatterpolargl"
                      }
                    ],
                    "contour": [
                      {
                        "colorbar": {
                          "outlinewidth": 0,
                          "ticks": ""
                        },
                        "type": "contour",
                        "colorscale": [
                          [
                            0,
                            "#0d0887"
                          ],
                          [
                            0.1111111111111111,
                            "#46039f"
                          ],
                          [
                            0.2222222222222222,
                            "#7201a8"
                          ],
                          [
                            0.3333333333333333,
                            "#9c179e"
                          ],
                          [
                            0.4444444444444444,
                            "#bd3786"
                          ],
                          [
                            0.5555555555555556,
                            "#d8576b"
                          ],
                          [
                            0.6666666666666666,
                            "#ed7953"
                          ],
                          [
                            0.7777777777777778,
                            "#fb9f3a"
                          ],
                          [
                            0.8888888888888888,
                            "#fdca26"
                          ],
                          [
                            1,
                            "#f0f921"
                          ]
                        ]
                      }
                    ],
                    "carpet": [
                      {
                        "type": "carpet",
                        "baxis": {
                          "minorgridcolor": "white",
                          "gridcolor": "white",
                          "linecolor": "white",
                          "endlinecolor": "#2a3f5f",
                          "startlinecolor": "#2a3f5f"
                        },
                        "aaxis": {
                          "minorgridcolor": "white",
                          "gridcolor": "white",
                          "linecolor": "white",
                          "endlinecolor": "#2a3f5f",
                          "startlinecolor": "#2a3f5f"
                        }
                      }
                    ],
                    "contourcarpet": [
                      {
                        "colorbar": {
                          "outlinewidth": 0,
                          "ticks": ""
                        },
                        "type": "contourcarpet"
                      }
                    ],
                    "heatmap": [
                      {
                        "colorbar": {
                          "outlinewidth": 0,
                          "ticks": ""
                        },
                        "type": "heatmap",
                        "colorscale": [
                          [
                            0,
                            "#0d0887"
                          ],
                          [
                            0.1111111111111111,
                            "#46039f"
                          ],
                          [
                            0.2222222222222222,
                            "#7201a8"
                          ],
                          [
                            0.3333333333333333,
                            "#9c179e"
                          ],
                          [
                            0.4444444444444444,
                            "#bd3786"
                          ],
                          [
                            0.5555555555555556,
                            "#d8576b"
                          ],
                          [
                            0.6666666666666666,
                            "#ed7953"
                          ],
                          [
                            0.7777777777777778,
                            "#fb9f3a"
                          ],
                          [
                            0.8888888888888888,
                            "#fdca26"
                          ],
                          [
                            1,
                            "#f0f921"
                          ]
                        ]
                      }
                    ],
                    "scattermapbox": [
                      {
                        "marker": {
                          "colorbar": {
                            "outlinewidth": 0,
                            "ticks": ""
                          }
                        },
                        "type": "scattermapbox"
                      }
                    ],
                    "scatter3d": [
                      {
                        "marker": {
                          "colorbar": {
                            "outlinewidth": 0,
                            "ticks": ""
                          }
                        },
                        "line": {
                          "colorbar": {
                            "outlinewidth": 0,
                            "ticks": ""
                          }
                        },
                        "type": "scatter3d"
                      }
                    ],
                    "scattergl": [
                      {
                        "marker": {
                          "colorbar": {
                            "outlinewidth": 0,
                            "ticks": ""
                          }
                        },
                        "type": "scattergl"
                      }
                    ],
                    "scatterternary": [
                      {
                        "marker": {
                          "colorbar": {
                            "outlinewidth": 0,
                            "ticks": ""
                          }
                        },
                        "type": "scatterternary"
                      }
                    ],
                    "histogram": [
                      {
                        "marker": {
                          "colorbar": {
                            "outlinewidth": 0,
                            "ticks": ""
                          }
                        },
                        "type": "histogram"
                      }
                    ],
                    "heatmapgl": [
                      {
                        "colorbar": {
                          "outlinewidth": 0,
                          "ticks": ""
                        },
                        "type": "heatmapgl",
                        "colorscale": [
                          [
                            0,
                            "#0d0887"
                          ],
                          [
                            0.1111111111111111,
                            "#46039f"
                          ],
                          [
                            0.2222222222222222,
                            "#7201a8"
                          ],
                          [
                            0.3333333333333333,
                            "#9c179e"
                          ],
                          [
                            0.4444444444444444,
                            "#bd3786"
                          ],
                          [
                            0.5555555555555556,
                            "#d8576b"
                          ],
                          [
                            0.6666666666666666,
                            "#ed7953"
                          ],
                          [
                            0.7777777777777778,
                            "#fb9f3a"
                          ],
                          [
                            0.8888888888888888,
                            "#fdca26"
                          ],
                          [
                            1,
                            "#f0f921"
                          ]
                        ]
                      }
                    ],
                    "scatterpolar": [
                      {
                        "marker": {
                          "colorbar": {
                            "outlinewidth": 0,
                            "ticks": ""
                          }
                        },
                        "type": "scatterpolar"
                      }
                    ],
                    "histogram2d": [
                      {
                        "colorbar": {
                          "outlinewidth": 0,
                          "ticks": ""
                        },
                        "type": "histogram2d",
                        "colorscale": [
                          [
                            0,
                            "#0d0887"
                          ],
                          [
                            0.1111111111111111,
                            "#46039f"
                          ],
                          [
                            0.2222222222222222,
                            "#7201a8"
                          ],
                          [
                            0.3333333333333333,
                            "#9c179e"
                          ],
                          [
                            0.4444444444444444,
                            "#bd3786"
                          ],
                          [
                            0.5555555555555556,
                            "#d8576b"
                          ],
                          [
                            0.6666666666666666,
                            "#ed7953"
                          ],
                          [
                            0.7777777777777778,
                            "#fb9f3a"
                          ],
                          [
                            0.8888888888888888,
                            "#fdca26"
                          ],
                          [
                            1,
                            "#f0f921"
                          ]
                        ]
                      }
                    ],
                    "scattergeo": [
                      {
                        "marker": {
                          "colorbar": {
                            "outlinewidth": 0,
                            "ticks": ""
                          }
                        },
                        "type": "scattergeo"
                      }
                    ],
                    "bar": [
                      {
                        "marker": {
                          "line": {
                            "color": "#E5ECF6",
                            "width": 0.5
                          }
                        },
                        "type": "bar",
                        "error_x": {
                          "color": "#2a3f5f"
                        },
                        "error_y": {
                          "color": "#2a3f5f"
                        }
                      }
                    ],
                    "choropleth": [
                      {
                        "colorbar": {
                          "outlinewidth": 0,
                          "ticks": ""
                        },
                        "type": "choropleth"
                      }
                    ],
                    "parcoords": [
                      {
                        "line": {
                          "colorbar": {
                            "outlinewidth": 0,
                            "ticks": ""
                          }
                        },
                        "type": "parcoords"
                      }
                    ],
                    "barpolar": [
                      {
                        "marker": {
                          "line": {
                            "color": "#E5ECF6",
                            "width": 0.5
                          }
                        },
                        "type": "barpolar"
                      }
                    ],
                    "histogram2dcontour": [
                      {
                        "colorbar": {
                          "outlinewidth": 0,
                          "ticks": ""
                        },
                        "type": "histogram2dcontour",
                        "colorscale": [
                          [
                            0,
                            "#0d0887"
                          ],
                          [
                            0.1111111111111111,
                            "#46039f"
                          ],
                          [
                            0.2222222222222222,
                            "#7201a8"
                          ],
                          [
                            0.3333333333333333,
                            "#9c179e"
                          ],
                          [
                            0.4444444444444444,
                            "#bd3786"
                          ],
                          [
                            0.5555555555555556,
                            "#d8576b"
                          ],
                          [
                            0.6666666666666666,
                            "#ed7953"
                          ],
                          [
                            0.7777777777777778,
                            "#fb9f3a"
                          ],
                          [
                            0.8888888888888888,
                            "#fdca26"
                          ],
                          [
                            1,
                            "#f0f921"
                          ]
                        ]
                      }
                    ],
                    "scatter": [
                      {
                        "marker": {
                          "colorbar": {
                            "outlinewidth": 0,
                            "ticks": ""
                          }
                        },
                        "type": "scatter"
                      }
                    ]
                  }
                },
                "title": {
                  "text": "Comparing Pearson Correlation Values of the Numerical Columns"
                },
                "yaxis": {
                  "ticks": ""
                },
                "height": 700,
                "width": 900,
                "xaxis": {
                  "nticks": 36,
                  "ticks": ""
                }
              }
            }
          },
          "metadata": {
            "tags": []
          }
        },
        {
          "output_type": "display_data",
          "data": {
            "text/html": [
              "<html>\n",
              "<head><meta charset=\"utf-8\" /></head>\n",
              "<body>\n",
              "    <div>\n",
              "            <script src=\"https://cdnjs.cloudflare.com/ajax/libs/mathjax/2.7.5/MathJax.js?config=TeX-AMS-MML_SVG\"></script><script type=\"text/javascript\">if (window.MathJax) {MathJax.Hub.Config({SVG: {font: \"STIX-Web\"}});}</script>\n",
              "                <script type=\"text/javascript\">window.PlotlyConfig = {MathJaxConfig: 'local'};</script>\n",
              "        <script src=\"https://cdn.plot.ly/plotly-latest.min.js\"></script>    \n",
              "            <div id=\"69352312-0e38-451f-95f7-dbf756c25a32\" class=\"plotly-graph-div\" style=\"height:700px; width:900px;\"></div>\n",
              "            <script type=\"text/javascript\">\n",
              "                \n",
              "                    window.PLOTLYENV=window.PLOTLYENV || {};\n",
              "                    \n",
              "                if (document.getElementById(\"69352312-0e38-451f-95f7-dbf756c25a32\")) {\n",
              "                    Plotly.newPlot(\n",
              "                        '69352312-0e38-451f-95f7-dbf756c25a32',\n",
              "                        [{\"colorscale\": [[0.0, \"rgb(255,245,240)\"], [0.125, \"rgb(254,224,210)\"], [0.25, \"rgb(252,187,161)\"], [0.375, \"rgb(252,146,114)\"], [0.5, \"rgb(251,106,74)\"], [0.625, \"rgb(239,59,44)\"], [0.75, \"rgb(203,24,29)\"], [0.875, \"rgb(165,15,21)\"], [1.0, \"rgb(103,0,13)\"]], \"opacity\": 1.0, \"reversescale\": false, \"type\": \"heatmap\", \"x\": [\"Age\", \"DailyRate\", \"DistanceFromHome\", \"Education\", \"EnvironmentSatisfaction\", \"HourlyRate\", \"JobInvolvement\", \"JobLevel\", \"JobSatisfaction\", \"MonthlyIncome\", \"MonthlyRate\", \"NumCompaniesWorked\", \"PercentSalaryHike\", \"PerformanceRating\", \"RelationshipSatisfaction\", \"StockOptionLevel\", \"TotalWorkingYears\", \"TrainingTimesLastYear\", \"WorkLifeBalance\", \"YearsAtCompany\", \"YearsInCurrentRole\", \"YearsSinceLastPromotion\", \"YearsWithCurrManager\", \"Attrition_encoded\", \"Overtime_encoded\"], \"y\": [\"Age\", \"DailyRate\", \"DistanceFromHome\", \"Education\", \"EnvironmentSatisfaction\", \"HourlyRate\", \"JobInvolvement\", \"JobLevel\", \"JobSatisfaction\", \"MonthlyIncome\", \"MonthlyRate\", \"NumCompaniesWorked\", \"PercentSalaryHike\", \"PerformanceRating\", \"RelationshipSatisfaction\", \"StockOptionLevel\", \"TotalWorkingYears\", \"TrainingTimesLastYear\", \"WorkLifeBalance\", \"YearsAtCompany\", \"YearsInCurrentRole\", \"YearsSinceLastPromotion\", \"YearsWithCurrManager\", \"Attrition_encoded\", \"Overtime_encoded\"], \"z\": [[1.0, 0.010660942645538149, -0.0016861201480870135, 0.20803373101424003, 0.010146427861437251, 0.02428654255096734, 0.02981995862959055, 0.5096042284323877, -0.004891877148687357, 0.49785456692658075, 0.028051167133922784, 0.29963475798369266, 0.0036335849148617645, 0.0019038955127583738, 0.053534719671228664, 0.0375097124247778, 0.6803805357911991, -0.019620818942698393, -0.021490027957098534, 0.3113087697450993, 0.21290105556556693, 0.21651336785165384, 0.20208860237515222, -0.15920500686577846, 0.02806235708412405], [0.010660942645538149, 1.0, -0.004985337352552674, -0.01680643320915765, 0.018354854300385467, 0.023381421528320238, 0.04613487399781132, 0.0029663348551117142, 0.03057100783714411, 0.007707058872006039, -0.032181601522581774, 0.03815343427940969, 0.022703677496334916, 0.0004732963271882408, 0.007846030957248321, 0.042142796377206686, 0.014514738706320859, 0.002452542712083261, -0.037848051005781515, -0.034054767568547466, 0.009932014960094184, -0.03322898478777197, -0.026363178228837648, -0.05665199186762916, 0.00913496990113504], [-0.0016861201480870135, -0.004985337352552674, 1.0, 0.021041825624123364, -0.016075326996493465, 0.031130585611766015, 0.008783279886444232, 0.00530273055449623, -0.0036688391677204214, -0.01701444474527587, 0.027472863548884053, -0.029250804197292986, 0.04023537745919304, 0.02710961848197604, 0.006557474646578711, 0.044871998853181376, 0.004628425863783853, -0.036942234339916, -0.02655600410656897, 0.009507719899011271, 0.018844999108945663, 0.010028835943115365, 0.014406048430629939, 0.07792358295570358, 0.02551363494994608], [0.20803373101424003, -0.01680643320915765, 0.021041825624123364, 1.0, -0.027128313256511653, 0.016774828880960865, 0.042437634318608114, 0.10158888624850132, -0.011296116736574009, 0.09496067704188856, -0.026084197160047597, 0.12631656017668416, -0.011110940860654199, -0.024538791164833422, -0.009118376696381497, 0.01842222020401694, 0.14827969653887266, -0.025100241137933486, 0.009819189309781843, 0.06911369603133874, 0.060235554120695735, 0.05425433359132035, 0.06906537825528397, -0.03137281964004896, -0.02032176739570367], [0.010146427861437251, 0.018354854300385467, -0.016075326996493465, -0.027128313256511653, 1.0, -0.04985695620300049, -0.008277598171759227, 0.001211699448913975, -0.006784352599075191, -0.006259087754780221, 0.03759962286571541, 0.012594323218943297, -0.03170119524179215, -0.029547952297681358, 0.0076653835410744765, 0.0034321577550576604, -0.0026930703885341364, -0.019359308347132335, 0.027627295460115407, 0.0014575491911166178, 0.018007460142878566, 0.016193605568453423, -0.0049987226281075076, -0.10336897833793525, 0.07013172677409438], [0.02428654255096734, 0.023381421528320238, 0.031130585611766015, 0.016774828880960865, -0.04985695620300049, 1.0, 0.04286064097152996, -0.027853486405547332, -0.07133462437378851, -0.015794304380892906, -0.015296749550649706, 0.022156883390196815, -0.009061986253740113, -0.0021716974278102176, 0.0013304527859505607, 0.05026339906511977, -0.002333681823322244, -0.008547685209270621, -0.004607233750264436, -0.019581616209121213, -0.02410622020878486, -0.02671558606433533, -0.020123200184066038, -0.006845549572139824, -0.007781974360999902], [0.02981995862959055, 0.04613487399781132, 0.008783279886444232, 0.042437634318608114, -0.008277598171759227, 0.04286064097152996, 1.0, -0.012629882671190917, -0.02147591033530702, -0.015271490778732858, -0.016322079053317184, 0.01501241324311095, -0.017204572244480576, -0.029071333439070115, 0.03429682061119727, 0.021522640378023945, -0.005533182057407529, -0.015337825759428998, -0.014616593162761336, -0.02135542697962983, 0.008716963497611708, -0.024184292365178967, 0.025975807949088905, -0.13001595678605382, -0.0035067105694045505], [0.5096042284323877, 0.0029663348551117142, 0.00530273055449623, 0.10158888624850132, 0.001211699448913975, -0.027853486405547332, -0.012629882671190917, 1.0, -0.0019437080267456803, 0.950299913479854, 0.039562951045684296, 0.14250112381048835, -0.03473049227941859, -0.021222082108856632, 0.021641510532591626, 0.013983910528615518, 0.7822078045362802, -0.01819055019354957, 0.03781774559666627, 0.5347386873756353, 0.3894467328766716, 0.35388534696410395, 0.3752806077657263, -0.16910475093102886, 0.0005440477748809303], [-0.004891877148687357, 0.03057100783714411, -0.0036688391677204214, -0.011296116736574009, -0.006784352599075191, -0.07133462437378851, -0.02147591033530702, -0.0019437080267456803, 1.0, -0.007156742355912731, 0.0006439169427039258, -0.05569942601274601, 0.020002039364081937, 0.0022971970637801426, -0.012453593161926874, 0.01069022612075585, -0.02018507268501687, -0.005779334958609058, -0.019458710212974534, -0.003802627948288062, -0.0023047852298301056, -0.018213567810190918, -0.02765621388428996, -0.10348112606902209, 0.024539481060031572], [0.49785456692658075, 0.007707058872006039, -0.01701444474527587, 0.09496067704188856, -0.006259087754780221, -0.015794304380892906, -0.015271490778732858, 0.950299913479854, -0.007156742355912731, 1.0, 0.034813626134121846, 0.14951521598969764, -0.027268586440314498, -0.017120138237390704, 0.025873436137557375, 0.005407676696812226, 0.7728932462543548, -0.021736276823893293, 0.030683081556940366, 0.5142848257331964, 0.36381766692870654, 0.34497763816542787, 0.3440788832587207, -0.15983958238498777, 0.006089285402589905], [0.028051167133922784, -0.032181601522581774, 0.027472863548884053, -0.026084197160047597, 0.03759962286571541, -0.015296749550649706, -0.016322079053317184, 0.039562951045684296, 0.0006439169427039258, 0.034813626134121846, 1.0, 0.017521353415571556, -0.006429345946711349, -0.00981142848936072, -0.004085329337519465, -0.034322830206661034, 0.026442471176015413, 0.0014668806322857696, 0.007963157516976974, -0.02365510670617723, -0.012814874370471655, 0.0015667995146762359, -0.036745905336769295, 0.015170212530471421, 0.021431144567353386], [0.29963475798369266, 0.03815343427940969, -0.029250804197292986, 0.12631656017668416, 0.012594323218943297, 0.022156883390196815, 0.01501241324311095, 0.14250112381048835, -0.05569942601274601, 0.14951521598969764, 0.017521353415571556, 1.0, -0.010238309359925531, -0.014094872753535341, 0.052733048564885456, 0.03007547509689753, 0.23763858978479374, -0.06605407172783631, -0.008365684790058657, -0.11842134024259048, -0.09075393370080816, -0.03681389238350813, -0.11031915543773214, 0.04349373905781376, -0.020785821366833972], [0.0036335849148617645, 0.022703677496334916, 0.04023537745919304, -0.011110940860654199, -0.03170119524179215, -0.009061986253740113, -0.017204572244480576, -0.03473049227941859, 0.020002039364081937, -0.027268586440314498, -0.006429345946711349, -0.010238309359925531, 1.0, 0.7735499964012668, -0.0404900810570771, 0.00752774782052024, -0.02060848761769149, -0.005221012351720988, -0.0032796360093679373, -0.03599126243195386, -0.0015200265442777384, -0.022154312598866084, -0.011985248472361218, -0.013478202057439092, -0.005432826650792725], [0.0019038955127583738, 0.0004732963271882408, 0.02710961848197604, -0.024538791164833422, -0.029547952297681358, -0.0021716974278102176, -0.029071333439070115, -0.021222082108856632, 0.0022971970637801426, -0.017120138237390704, -0.00981142848936072, -0.014094872753535341, 0.7735499964012668, 1.0, -0.03135145544245493, 0.003506471614809925, 0.006743667905952884, -0.015578881739137221, 0.002572361317682325, 0.003435126115923952, 0.03498626040719472, 0.017896066144799612, 0.022827168908479786, 0.002888751711080946, 0.004369120061651965], [0.053534719671228664, 0.007846030957248321, 0.006557474646578711, -0.009118376696381497, 0.0076653835410744765, 0.0013304527859505607, 0.03429682061119727, 0.021641510532591626, -0.012453593161926874, 0.025873436137557375, -0.004085329337519465, 0.052733048564885456, -0.0404900810570771, -0.03135145544245493, 1.0, -0.04595249071656096, 0.02405429182134115, 0.0024965263921170973, 0.01960440570396862, 0.019366786877455352, -0.015122914881937524, 0.033492502069353614, -0.0008674968446255921, -0.04587227888112611, 0.048492802870137734], [0.0375097124247778, 0.042142796377206686, 0.044871998853181376, 0.01842222020401694, 0.0034321577550576604, 0.05026339906511977, 0.021522640378023945, 0.013983910528615518, 0.01069022612075585, 0.005407676696812226, -0.034322830206661034, 0.03007547509689753, 0.00752774782052024, 0.003506471614809925, -0.04595249071656096, 1.0, 0.01013596931890164, 0.011274069611249013, 0.004128730002871822, 0.015058008028094429, 0.05081787275393108, 0.014352184864355582, 0.02469822656302997, -0.13714491893332414, -0.0004486707219197627], [0.6803805357911991, 0.014514738706320859, 0.004628425863783853, 0.14827969653887266, -0.0026930703885341364, -0.002333681823322244, -0.005533182057407529, 0.7822078045362802, -0.02018507268501687, 0.7728932462543548, 0.026442471176015413, 0.23763858978479374, -0.02060848761769149, 0.006743667905952884, 0.02405429182134115, 0.01013596931890164, 1.0, -0.03566157127961898, 0.0010076456218964744, 0.6281331552682479, 0.4603646380118082, 0.40485775850255995, 0.4591883970831438, -0.17106324613622528, 0.012754266341936299], [-0.019620818942698393, 0.002452542712083261, -0.036942234339916, -0.025100241137933486, -0.019359308347132335, -0.008547685209270621, -0.015337825759428998, -0.01819055019354957, -0.005779334958609058, -0.021736276823893293, 0.0014668806322857696, -0.06605407172783631, -0.005221012351720988, -0.015578881739137221, 0.0024965263921170973, 0.011274069611249013, -0.03566157127961898, 1.0, 0.028072206603628903, 0.003568665678427497, -0.005737504337956901, -0.00206653603800598, -0.0040955260212261965, -0.059477798556420665, -0.07911337155100982], [-0.021490027957098534, -0.037848051005781515, -0.02655600410656897, 0.009819189309781843, 0.027627295460115407, -0.004607233750264436, -0.014616593162761336, 0.03781774559666627, -0.019458710212974534, 0.030683081556940366, 0.007963157516976974, -0.008365684790058657, -0.0032796360093679373, 0.002572361317682325, 0.01960440570396862, 0.004128730002871822, 0.0010076456218964744, 0.028072206603628903, 1.0, 0.012089185354581271, 0.04985649792220411, 0.008941249141234248, 0.002759440242340434, -0.06393904721740912, -0.027091878472392382], [0.3113087697450993, -0.034054767568547466, 0.009507719899011271, 0.06911369603133874, 0.0014575491911166178, -0.019581616209121213, -0.02135542697962983, 0.5347386873756353, -0.003802627948288062, 0.5142848257331964, -0.02365510670617723, -0.11842134024259048, -0.03599126243195386, 0.003435126115923952, 0.019366786877455352, 0.015058008028094429, 0.6281331552682479, 0.003568665678427497, 0.012089185354581271, 1.0, 0.7587537366134616, 0.618408865217602, 0.7692124251006991, -0.13439221398997617, -0.011687120468355159], [0.21290105556556693, 0.009932014960094184, 0.018844999108945663, 0.060235554120695735, 0.018007460142878566, -0.02410622020878486, 0.008716963497611708, 0.3894467328766716, -0.0023047852298301056, 0.36381766692870654, -0.012814874370471655, -0.09075393370080816, -0.0015200265442777384, 0.03498626040719472, -0.015122914881937524, 0.05081787275393108, 0.4603646380118082, -0.005737504337956901, 0.04985649792220411, 0.7587537366134616, 1.0, 0.5480562476995158, 0.7143647616385903, -0.16054500426769938, -0.029758008947989516], [0.21651336785165384, -0.03322898478777197, 0.010028835943115365, 0.05425433359132035, 0.016193605568453423, -0.02671558606433533, -0.024184292365178967, 0.35388534696410395, -0.018213567810190918, 0.34497763816542787, 0.0015667995146762359, -0.03681389238350813, -0.022154312598866084, 0.017896066144799612, 0.033492502069353614, 0.014352184864355582, 0.40485775850255995, -0.00206653603800598, 0.008941249141234248, 0.618408865217602, 0.5480562476995158, 1.0, 0.5102236357788096, -0.03301877514258368, -0.012238822598887799], [0.20208860237515222, -0.026363178228837648, 0.014406048430629939, 0.06906537825528397, -0.0049987226281075076, -0.020123200184066038, 0.025975807949088905, 0.3752806077657263, -0.02765621388428996, 0.3440788832587207, -0.036745905336769295, -0.11031915543773214, -0.011985248472361218, 0.022827168908479786, -0.0008674968446255921, 0.02469822656302997, 0.4591883970831438, -0.0040955260212261965, 0.002759440242340434, 0.7692124251006991, 0.7143647616385903, 0.5102236357788096, 1.0, -0.1561993159016284, -0.04158599865385783], [-0.15920500686577846, -0.05665199186762916, 0.07792358295570358, -0.03137281964004896, -0.10336897833793525, -0.006845549572139824, -0.13001595678605382, -0.16910475093102886, -0.10348112606902209, -0.15983958238498777, 0.015170212530471421, 0.04349373905781376, -0.013478202057439092, 0.002888751711080946, -0.04587227888112611, -0.13714491893332414, -0.17106324613622528, -0.059477798556420665, -0.06393904721740912, -0.13439221398997617, -0.16054500426769938, -0.03301877514258368, -0.1561993159016284, 1.0, 0.24611799424579708], [0.02806235708412405, 0.00913496990113504, 0.02551363494994608, -0.02032176739570367, 0.07013172677409438, -0.007781974360999902, -0.0035067105694045505, 0.0005440477748809303, 0.024539481060031572, 0.006089285402589905, 0.021431144567353386, -0.020785821366833972, -0.005432826650792725, 0.004369120061651965, 0.048492802870137734, -0.0004486707219197627, 0.012754266341936299, -0.07911337155100982, -0.027091878472392382, -0.011687120468355159, -0.029758008947989516, -0.012238822598887799, -0.04158599865385783, 0.24611799424579708, 1.0]]}],\n",
              "                        {\"height\": 700, \"template\": {\"data\": {\"bar\": [{\"error_x\": {\"color\": \"#2a3f5f\"}, \"error_y\": {\"color\": \"#2a3f5f\"}, \"marker\": {\"line\": {\"color\": \"#E5ECF6\", \"width\": 0.5}}, \"type\": \"bar\"}], \"barpolar\": [{\"marker\": {\"line\": {\"color\": \"#E5ECF6\", \"width\": 0.5}}, \"type\": \"barpolar\"}], \"carpet\": [{\"aaxis\": {\"endlinecolor\": \"#2a3f5f\", \"gridcolor\": \"white\", \"linecolor\": \"white\", \"minorgridcolor\": \"white\", \"startlinecolor\": \"#2a3f5f\"}, \"baxis\": {\"endlinecolor\": \"#2a3f5f\", \"gridcolor\": \"white\", \"linecolor\": \"white\", \"minorgridcolor\": \"white\", \"startlinecolor\": \"#2a3f5f\"}, \"type\": \"carpet\"}], \"choropleth\": [{\"colorbar\": {\"outlinewidth\": 0, \"ticks\": \"\"}, \"type\": \"choropleth\"}], \"contour\": [{\"colorbar\": {\"outlinewidth\": 0, \"ticks\": \"\"}, \"colorscale\": [[0.0, \"#0d0887\"], [0.1111111111111111, \"#46039f\"], [0.2222222222222222, \"#7201a8\"], [0.3333333333333333, \"#9c179e\"], [0.4444444444444444, \"#bd3786\"], [0.5555555555555556, \"#d8576b\"], [0.6666666666666666, \"#ed7953\"], [0.7777777777777778, \"#fb9f3a\"], [0.8888888888888888, \"#fdca26\"], [1.0, \"#f0f921\"]], \"type\": \"contour\"}], \"contourcarpet\": [{\"colorbar\": {\"outlinewidth\": 0, \"ticks\": \"\"}, \"type\": \"contourcarpet\"}], \"heatmap\": [{\"colorbar\": {\"outlinewidth\": 0, \"ticks\": \"\"}, \"colorscale\": [[0.0, \"#0d0887\"], [0.1111111111111111, \"#46039f\"], [0.2222222222222222, \"#7201a8\"], [0.3333333333333333, \"#9c179e\"], [0.4444444444444444, \"#bd3786\"], [0.5555555555555556, \"#d8576b\"], [0.6666666666666666, \"#ed7953\"], [0.7777777777777778, \"#fb9f3a\"], [0.8888888888888888, \"#fdca26\"], [1.0, \"#f0f921\"]], \"type\": \"heatmap\"}], \"heatmapgl\": [{\"colorbar\": {\"outlinewidth\": 0, \"ticks\": \"\"}, \"colorscale\": [[0.0, \"#0d0887\"], [0.1111111111111111, \"#46039f\"], [0.2222222222222222, \"#7201a8\"], [0.3333333333333333, \"#9c179e\"], [0.4444444444444444, \"#bd3786\"], [0.5555555555555556, \"#d8576b\"], [0.6666666666666666, \"#ed7953\"], [0.7777777777777778, \"#fb9f3a\"], [0.8888888888888888, \"#fdca26\"], [1.0, \"#f0f921\"]], \"type\": \"heatmapgl\"}], \"histogram\": [{\"marker\": {\"colorbar\": {\"outlinewidth\": 0, \"ticks\": \"\"}}, \"type\": \"histogram\"}], \"histogram2d\": [{\"colorbar\": {\"outlinewidth\": 0, \"ticks\": \"\"}, \"colorscale\": [[0.0, \"#0d0887\"], [0.1111111111111111, \"#46039f\"], [0.2222222222222222, \"#7201a8\"], [0.3333333333333333, \"#9c179e\"], [0.4444444444444444, \"#bd3786\"], [0.5555555555555556, \"#d8576b\"], [0.6666666666666666, \"#ed7953\"], [0.7777777777777778, \"#fb9f3a\"], [0.8888888888888888, \"#fdca26\"], [1.0, \"#f0f921\"]], \"type\": \"histogram2d\"}], \"histogram2dcontour\": [{\"colorbar\": {\"outlinewidth\": 0, \"ticks\": \"\"}, \"colorscale\": [[0.0, \"#0d0887\"], [0.1111111111111111, \"#46039f\"], [0.2222222222222222, \"#7201a8\"], [0.3333333333333333, \"#9c179e\"], [0.4444444444444444, \"#bd3786\"], [0.5555555555555556, \"#d8576b\"], [0.6666666666666666, \"#ed7953\"], [0.7777777777777778, \"#fb9f3a\"], [0.8888888888888888, \"#fdca26\"], [1.0, \"#f0f921\"]], \"type\": \"histogram2dcontour\"}], \"mesh3d\": [{\"colorbar\": {\"outlinewidth\": 0, \"ticks\": \"\"}, \"type\": \"mesh3d\"}], \"parcoords\": [{\"line\": {\"colorbar\": {\"outlinewidth\": 0, \"ticks\": \"\"}}, \"type\": \"parcoords\"}], \"pie\": [{\"automargin\": true, \"type\": \"pie\"}], \"scatter\": [{\"marker\": {\"colorbar\": {\"outlinewidth\": 0, \"ticks\": \"\"}}, \"type\": \"scatter\"}], \"scatter3d\": [{\"line\": {\"colorbar\": {\"outlinewidth\": 0, \"ticks\": \"\"}}, \"marker\": {\"colorbar\": {\"outlinewidth\": 0, \"ticks\": \"\"}}, \"type\": \"scatter3d\"}], \"scattercarpet\": [{\"marker\": {\"colorbar\": {\"outlinewidth\": 0, \"ticks\": \"\"}}, \"type\": \"scattercarpet\"}], \"scattergeo\": [{\"marker\": {\"colorbar\": {\"outlinewidth\": 0, \"ticks\": \"\"}}, \"type\": \"scattergeo\"}], \"scattergl\": [{\"marker\": {\"colorbar\": {\"outlinewidth\": 0, \"ticks\": \"\"}}, \"type\": \"scattergl\"}], \"scattermapbox\": [{\"marker\": {\"colorbar\": {\"outlinewidth\": 0, \"ticks\": \"\"}}, \"type\": \"scattermapbox\"}], \"scatterpolar\": [{\"marker\": {\"colorbar\": {\"outlinewidth\": 0, \"ticks\": \"\"}}, \"type\": \"scatterpolar\"}], \"scatterpolargl\": [{\"marker\": {\"colorbar\": {\"outlinewidth\": 0, \"ticks\": \"\"}}, \"type\": \"scatterpolargl\"}], \"scatterternary\": [{\"marker\": {\"colorbar\": {\"outlinewidth\": 0, \"ticks\": \"\"}}, \"type\": \"scatterternary\"}], \"surface\": [{\"colorbar\": {\"outlinewidth\": 0, \"ticks\": \"\"}, \"colorscale\": [[0.0, \"#0d0887\"], [0.1111111111111111, \"#46039f\"], [0.2222222222222222, \"#7201a8\"], [0.3333333333333333, \"#9c179e\"], [0.4444444444444444, \"#bd3786\"], [0.5555555555555556, \"#d8576b\"], [0.6666666666666666, \"#ed7953\"], [0.7777777777777778, \"#fb9f3a\"], [0.8888888888888888, \"#fdca26\"], [1.0, \"#f0f921\"]], \"type\": \"surface\"}], \"table\": [{\"cells\": {\"fill\": {\"color\": \"#EBF0F8\"}, \"line\": {\"color\": \"white\"}}, \"header\": {\"fill\": {\"color\": \"#C8D4E3\"}, \"line\": {\"color\": \"white\"}}, \"type\": \"table\"}]}, \"layout\": {\"annotationdefaults\": {\"arrowcolor\": \"#2a3f5f\", \"arrowhead\": 0, \"arrowwidth\": 1}, \"coloraxis\": {\"colorbar\": {\"outlinewidth\": 0, \"ticks\": \"\"}}, \"colorscale\": {\"diverging\": [[0, \"#8e0152\"], [0.1, \"#c51b7d\"], [0.2, \"#de77ae\"], [0.3, \"#f1b6da\"], [0.4, \"#fde0ef\"], [0.5, \"#f7f7f7\"], [0.6, \"#e6f5d0\"], [0.7, \"#b8e186\"], [0.8, \"#7fbc41\"], [0.9, \"#4d9221\"], [1, \"#276419\"]], \"sequential\": [[0.0, \"#0d0887\"], [0.1111111111111111, \"#46039f\"], [0.2222222222222222, \"#7201a8\"], [0.3333333333333333, \"#9c179e\"], [0.4444444444444444, \"#bd3786\"], [0.5555555555555556, \"#d8576b\"], [0.6666666666666666, \"#ed7953\"], [0.7777777777777778, \"#fb9f3a\"], [0.8888888888888888, \"#fdca26\"], [1.0, \"#f0f921\"]], \"sequentialminus\": [[0.0, \"#0d0887\"], [0.1111111111111111, \"#46039f\"], [0.2222222222222222, \"#7201a8\"], [0.3333333333333333, \"#9c179e\"], [0.4444444444444444, \"#bd3786\"], [0.5555555555555556, \"#d8576b\"], [0.6666666666666666, \"#ed7953\"], [0.7777777777777778, \"#fb9f3a\"], [0.8888888888888888, \"#fdca26\"], [1.0, \"#f0f921\"]]}, \"colorway\": [\"#636efa\", \"#EF553B\", \"#00cc96\", \"#ab63fa\", \"#FFA15A\", \"#19d3f3\", \"#FF6692\", \"#B6E880\", \"#FF97FF\", \"#FECB52\"], \"font\": {\"color\": \"#2a3f5f\"}, \"geo\": {\"bgcolor\": \"white\", \"lakecolor\": \"white\", \"landcolor\": \"#E5ECF6\", \"showlakes\": true, \"showland\": true, \"subunitcolor\": \"white\"}, \"hoverlabel\": {\"align\": \"left\"}, \"hovermode\": \"closest\", \"mapbox\": {\"style\": \"light\"}, \"paper_bgcolor\": \"white\", \"plot_bgcolor\": \"#E5ECF6\", \"polar\": {\"angularaxis\": {\"gridcolor\": \"white\", \"linecolor\": \"white\", \"ticks\": \"\"}, \"bgcolor\": \"#E5ECF6\", \"radialaxis\": {\"gridcolor\": \"white\", \"linecolor\": \"white\", \"ticks\": \"\"}}, \"scene\": {\"xaxis\": {\"backgroundcolor\": \"#E5ECF6\", \"gridcolor\": \"white\", \"gridwidth\": 2, \"linecolor\": \"white\", \"showbackground\": true, \"ticks\": \"\", \"zerolinecolor\": \"white\"}, \"yaxis\": {\"backgroundcolor\": \"#E5ECF6\", \"gridcolor\": \"white\", \"gridwidth\": 2, \"linecolor\": \"white\", \"showbackground\": true, \"ticks\": \"\", \"zerolinecolor\": \"white\"}, \"zaxis\": {\"backgroundcolor\": \"#E5ECF6\", \"gridcolor\": \"white\", \"gridwidth\": 2, \"linecolor\": \"white\", \"showbackground\": true, \"ticks\": \"\", \"zerolinecolor\": \"white\"}}, \"shapedefaults\": {\"line\": {\"color\": \"#2a3f5f\"}}, \"ternary\": {\"aaxis\": {\"gridcolor\": \"white\", \"linecolor\": \"white\", \"ticks\": \"\"}, \"baxis\": {\"gridcolor\": \"white\", \"linecolor\": \"white\", \"ticks\": \"\"}, \"bgcolor\": \"#E5ECF6\", \"caxis\": {\"gridcolor\": \"white\", \"linecolor\": \"white\", \"ticks\": \"\"}}, \"title\": {\"x\": 0.05}, \"xaxis\": {\"automargin\": true, \"gridcolor\": \"white\", \"linecolor\": \"white\", \"ticks\": \"\", \"title\": {\"standoff\": 15}, \"zerolinecolor\": \"white\", \"zerolinewidth\": 2}, \"yaxis\": {\"automargin\": true, \"gridcolor\": \"white\", \"linecolor\": \"white\", \"ticks\": \"\", \"title\": {\"standoff\": 15}, \"zerolinecolor\": \"white\", \"zerolinewidth\": 2}}}, \"title\": {\"text\": \"Comparing Pearson Correlation Values of the Numerical Columns\"}, \"width\": 900, \"xaxis\": {\"nticks\": 36, \"ticks\": \"\"}, \"yaxis\": {\"ticks\": \"\"}},\n",
              "                        {\"responsive\": true}\n",
              "                    ).then(function(){\n",
              "                            \n",
              "var gd = document.getElementById('69352312-0e38-451f-95f7-dbf756c25a32');\n",
              "var x = new MutationObserver(function (mutations, observer) {{\n",
              "        var display = window.getComputedStyle(gd).display;\n",
              "        if (!display || display === 'none') {{\n",
              "            console.log([gd, 'removed!']);\n",
              "            Plotly.purge(gd);\n",
              "            observer.disconnect();\n",
              "        }}\n",
              "}});\n",
              "\n",
              "// Listen for the removal of the full notebook cells\n",
              "var notebookContainer = gd.closest('#notebook-container');\n",
              "if (notebookContainer) {{\n",
              "    x.observe(notebookContainer, {childList: true});\n",
              "}}\n",
              "\n",
              "// Listen for the clearing of the current output cell\n",
              "var outputEl = gd.closest('.output');\n",
              "if (outputEl) {{\n",
              "    x.observe(outputEl, {childList: true});\n",
              "}}\n",
              "\n",
              "                        })\n",
              "                };\n",
              "                \n",
              "            </script>\n",
              "        </div>\n",
              "</body>\n",
              "</html>"
            ]
          },
          "metadata": {
            "tags": []
          }
        }
      ]
    },
    {
      "cell_type": "markdown",
      "metadata": {
        "id": "3W7mueLN8MQ6"
      },
      "source": [
        "From the above correlation table and matrix we can conclude that: \n",
        "1. Monthly income is highly correlated with job level. However, daily rate, hourly rate and monthly rate are barely correlated with anything. \n",
        "2. Job level and total working years are highly correlated.\n",
        "3. Monthly Income and total working years are highly correlated.\n",
        "4. Performance rating and percentage salary hike are highly correlated.\n",
        "5. Years in current role and years at company are highly correlated.\n",
        "6. Years with current manager and years at company are highly correlated."
      ]
    },
    {
      "cell_type": "code",
      "metadata": {
        "id": "n5_O3DGFRz4D"
      },
      "source": [
        "# dropping the daily, montly and hourly rates\n",
        "ibm.drop(columns=['DailyRate', 'HourlyRate', 'MonthlyRate'], inplace=True)"
      ],
      "execution_count": null,
      "outputs": []
    },
    {
      "cell_type": "code",
      "metadata": {
        "colab": {
          "base_uri": "https://localhost:8080/",
          "height": 1000
        },
        "id": "dW1iJ1uJSYM2",
        "outputId": "0db84b2f-2a40-4289-9e01-0dce4fc9e573"
      },
      "source": [
        "# plotting frequency distribution of each attribute\n",
        "ibm.hist(bins = 30, figsize = (20,20), color = 'r')"
      ],
      "execution_count": null,
      "outputs": [
        {
          "output_type": "execute_result",
          "data": {
            "text/plain": [
              "array([[<matplotlib.axes._subplots.AxesSubplot object at 0x7f1710695510>,\n",
              "        <matplotlib.axes._subplots.AxesSubplot object at 0x7f17257911d0>,\n",
              "        <matplotlib.axes._subplots.AxesSubplot object at 0x7f172f89f850>,\n",
              "        <matplotlib.axes._subplots.AxesSubplot object at 0x7f1716475590>,\n",
              "        <matplotlib.axes._subplots.AxesSubplot object at 0x7f170ee9eb10>],\n",
              "       [<matplotlib.axes._subplots.AxesSubplot object at 0x7f172961c810>,\n",
              "        <matplotlib.axes._subplots.AxesSubplot object at 0x7f170ed5d890>,\n",
              "        <matplotlib.axes._subplots.AxesSubplot object at 0x7f170ec1d250>,\n",
              "        <matplotlib.axes._subplots.AxesSubplot object at 0x7f170ec1d5d0>,\n",
              "        <matplotlib.axes._subplots.AxesSubplot object at 0x7f171b808c50>],\n",
              "       [<matplotlib.axes._subplots.AxesSubplot object at 0x7f17113d3e90>,\n",
              "        <matplotlib.axes._subplots.AxesSubplot object at 0x7f1711303ed0>,\n",
              "        <matplotlib.axes._subplots.AxesSubplot object at 0x7f170f17cc50>,\n",
              "        <matplotlib.axes._subplots.AxesSubplot object at 0x7f170dafd510>,\n",
              "        <matplotlib.axes._subplots.AxesSubplot object at 0x7f170df20c90>],\n",
              "       [<matplotlib.axes._subplots.AxesSubplot object at 0x7f1712d3e910>,\n",
              "        <matplotlib.axes._subplots.AxesSubplot object at 0x7f1713a3a810>,\n",
              "        <matplotlib.axes._subplots.AxesSubplot object at 0x7f170ed8e5d0>,\n",
              "        <matplotlib.axes._subplots.AxesSubplot object at 0x7f170f343710>,\n",
              "        <matplotlib.axes._subplots.AxesSubplot object at 0x7f170dfa1690>],\n",
              "       [<matplotlib.axes._subplots.AxesSubplot object at 0x7f1727af2bd0>,\n",
              "        <matplotlib.axes._subplots.AxesSubplot object at 0x7f170ef03210>,\n",
              "        <matplotlib.axes._subplots.AxesSubplot object at 0x7f1710655250>,\n",
              "        <matplotlib.axes._subplots.AxesSubplot object at 0x7f170dfafd50>,\n",
              "        <matplotlib.axes._subplots.AxesSubplot object at 0x7f17306c5690>]],\n",
              "      dtype=object)"
            ]
          },
          "metadata": {
            "tags": []
          },
          "execution_count": 107
        },
        {
          "output_type": "display_data",
          "data": {
            "image/png": "[encoded data removed]",
            "text/plain": [
              "<Figure size 1440x1440 with 25 Axes>"
            ]
          },
          "metadata": {
            "tags": [],
            "needs_background": "light"
          }
        }
      ]
    },
    {
      "cell_type": "code",
      "metadata": {
        "colab": {
          "base_uri": "https://localhost:8080/",
          "height": 1000
        },
        "id": "YH1G_SMrTb5x",
        "outputId": "377da825-8ca9-4d1d-efdf-c960587cefff"
      },
      "source": [
        "plt.figure(figsize=[20,20])\n",
        "plt.subplot(411)\n",
        "sns.countplot(x = 'JobRole', hue = 'Attrition', data = ibm)\n",
        "plt.subplot(412)\n",
        "sns.countplot(x = 'MaritalStatus', hue = 'Attrition', data = ibm)\n",
        "plt.subplot(413)\n",
        "sns.countplot(x = 'JobInvolvement', hue = 'Attrition', data = ibm)\n",
        "plt.subplot(414)\n",
        "sns.countplot(x = 'JobLevel', hue = 'Attrition', data = ibm)"
      ],
      "execution_count": 115,
      "outputs": [
        {
          "output_type": "execute_result",
          "data": {
            "text/plain": [
              "<matplotlib.axes._subplots.AxesSubplot at 0x7f1711aa2750>"
            ]
          },
          "metadata": {
            "tags": []
          },
          "execution_count": 115
        },
        {
          "output_type": "display_data",
          "data": {
            "image/png": "[encoded data removed]",
            "text/plain": [
              "<Figure size 1440x1440 with 4 Axes>"
            ]
          },
          "metadata": {
            "tags": [],
            "needs_background": "light"
          }
        }
      ]
    },
    {
      "cell_type": "code",
      "metadata": {
        "id": "zisey1debOED"
      },
      "source": [
        "# sns.factorplot(x = 'MaritalStatus', y='Attrition', kind = 'bar', data=df)"
      ],
      "execution_count": null,
      "outputs": []
    },
    {
      "cell_type": "markdown",
      "metadata": {
        "id": "adB7NBgXVUuB"
      },
      "source": [
        "Note: We conclude that:\n",
        "1. Single employees tend to leave compared to married and divorced\n",
        "2. Sales Representitives tend to leave compared to any other job \n",
        "3. Less involved employees tend to leave the company \n",
        "4. Less experienced (low job level) tend to leave the company"
      ]
    },
    {
      "cell_type": "markdown",
      "metadata": {
        "id": "7UqPgc4ySe1j"
      },
      "source": [
        "**Breakdown of Attrition with respect to Gender**\n",
        "\n",
        "---\n",
        "\n"
      ]
    },
    {
      "cell_type": "code",
      "metadata": {
        "colab": {
          "base_uri": "https://localhost:8080/",
          "height": 339
        },
        "id": "pnd0l5LfQ-Yn",
        "outputId": "655d1cb5-0c2a-43e8-e193-31f8780dc821"
      },
      "source": [
        "pd.crosstab(ibm['Gender'], ibm['Attrition']).plot(kind='bar')\n",
        "plt.title('Attrition with respect to Gender')\n",
        "plt.xlabel('Gender')\n",
        "plt.ylabel('Frequency of Attrition')"
      ],
      "execution_count": null,
      "outputs": [
        {
          "output_type": "execute_result",
          "data": {
            "text/plain": [
              "Text(0, 0.5, 'Frequency of Attrition')"
            ]
          },
          "metadata": {
            "tags": []
          },
          "execution_count": 15
        },
        {
          "output_type": "display_data",
          "data": {
            "image/png": "[encoded data removed]",
            "text/plain": [
              "<Figure size 432x288 with 1 Axes>"
            ]
          },
          "metadata": {
            "tags": [],
            "needs_background": "light"
          }
        }
      ]
    },
    {
      "cell_type": "markdown",
      "metadata": {
        "id": "JXJ2dwvSTeaU"
      },
      "source": [
        "Note: More male employees tend leave on average compared to female employees"
      ]
    },
    {
      "cell_type": "markdown",
      "metadata": {
        "id": "-5KcZsnhUSAt"
      },
      "source": [
        "**Breakdown of Attrition with respect to Departments**\n",
        "\n",
        "---\n",
        "\n"
      ]
    },
    {
      "cell_type": "code",
      "metadata": {
        "colab": {
          "base_uri": "https://localhost:8080/",
          "height": 581
        },
        "id": "MDBjmKb_Tdr_",
        "outputId": "f211dd3d-10db-4228-db55-a5edc7e358ff"
      },
      "source": [
        "pd.crosstab(ibm['Department'], ibm['Attrition']).plot(kind='bar', stacked=True)\n",
        "plt.title('Attrition with respect to Department')\n",
        "plt.xlabel('Department')\n",
        "plt.ylabel('Frequency of Attrition')\n",
        "plt.xticks(rotation=40)"
      ],
      "execution_count": 118,
      "outputs": [
        {
          "output_type": "execute_result",
          "data": {
            "text/plain": [
              "(array([0, 1, 2]), <a list of 3 Text major ticklabel objects>)"
            ]
          },
          "metadata": {
            "tags": []
          },
          "execution_count": 118
        },
        {
          "output_type": "display_data",
          "data": {
            "image/png": "[encoded data removed]",
            "text/plain": [
              "<Figure size 1440x576 with 1 Axes>"
            ]
          },
          "metadata": {
            "tags": [],
            "needs_background": "light"
          }
        }
      ]
    },
    {
      "cell_type": "markdown",
      "metadata": {
        "id": "JGdATnMWVDhE"
      },
      "source": [
        "Note: Attrition seems to be prominently dependant on the Department attribute and will be useful for modelling and prediction. R&D department has the highest record for attrition, on the other hand it also has the highest number of employees when compared to HR and Sales departments."
      ]
    },
    {
      "cell_type": "markdown",
      "metadata": {
        "id": "Wo4Rr-JaVxZl"
      },
      "source": [
        "Breakdown of Attrition with respect to EducationField\n",
        "\n",
        "---\n",
        "\n"
      ]
    },
    {
      "cell_type": "code",
      "metadata": {
        "colab": {
          "base_uri": "https://localhost:8080/",
          "height": 393
        },
        "id": "OQV4fp1uVCBN",
        "outputId": "a8a4895c-6301-4074-ad6c-c8524138e799"
      },
      "source": [
        "pd.crosstab(ibm['EducationField'], ibm['Attrition']).plot(kind='bar', stacked=False)\n",
        "plt.title('Attrition with respect to EducationField')\n",
        "plt.xlabel('EducationField')\n",
        "plt.ylabel('Frequency of Attrition')"
      ],
      "execution_count": null,
      "outputs": [
        {
          "output_type": "execute_result",
          "data": {
            "text/plain": [
              "Text(0, 0.5, 'Frequency of Attrition')"
            ]
          },
          "metadata": {
            "tags": []
          },
          "execution_count": 20
        },
        {
          "output_type": "display_data",
          "data": {
            "image/png": "[encoded data removed]",
            "text/plain": [
              "<Figure size 432x288 with 1 Axes>"
            ]
          },
          "metadata": {
            "tags": [],
            "needs_background": "light"
          }
        }
      ]
    },
    {
      "cell_type": "markdown",
      "metadata": {
        "id": "tkflDqegWhhT"
      },
      "source": [
        "Note: Life Sciences and Medical fields have the highest number of employees and attrition rate as well. "
      ]
    },
    {
      "cell_type": "markdown",
      "metadata": {
        "id": "3EcIcmfqb-rA"
      },
      "source": [
        "**Visualising Distance From Home with respect to Attrition**\n",
        "\n",
        "---\n",
        "\n"
      ]
    },
    {
      "cell_type": "code",
      "metadata": {
        "colab": {
          "base_uri": "https://localhost:8080/",
          "height": 459
        },
        "id": "tMTsAultW5kq",
        "outputId": "cb7eb128-4d78-49b8-9910-9a0b65e24753"
      },
      "source": [
        "# KDE (Kernel Density Estimate) describes the Probability Density of a continuous variable. \n",
        "\n",
        "plt.figure(figsize=(12,7))\n",
        "sns.kdeplot(ibm['DistanceFromHome'][ibm.Attrition == 'Yes'], label= 'Employees who Left', shade = True, color = 'r')\n",
        "sns.kdeplot(ibm['DistanceFromHome'][ibm.Attrition == 'No'], label = 'Employees who Stayed', shade = True, color = 'b')\n",
        "\n",
        "plt.xlabel('Distance From Home')"
      ],
      "execution_count": 117,
      "outputs": [
        {
          "output_type": "execute_result",
          "data": {
            "text/plain": [
              "Text(0.5, 0, 'Distance From Home')"
            ]
          },
          "metadata": {
            "tags": []
          },
          "execution_count": 117
        },
        {
          "output_type": "display_data",
          "data": {
            "image/png": "[encoded data removed]",
            "text/plain": [
              "<Figure size 864x504 with 1 Axes>"
            ]
          },
          "metadata": {
            "tags": [],
            "needs_background": "light"
          }
        }
      ]
    },
    {
      "cell_type": "markdown",
      "metadata": {
        "id": "H7v6SfADdnnh"
      },
      "source": [
        "**Visualising Years with Current Manager with respect to Attrition**\n",
        "\n",
        "---\n",
        "\n"
      ]
    },
    {
      "cell_type": "code",
      "metadata": {
        "colab": {
          "base_uri": "https://localhost:8080/",
          "height": 492
        },
        "id": "qoLiklRscwYN",
        "outputId": "f7cffee4-0f4f-4925-864a-fb66d0a57340"
      },
      "source": [
        "sns.kdeplot(ibm['YearsWithCurrManager'][ibm.Attrition == 'Yes'], label = 'Employees who left', shade = True, color = 'r')\n",
        "sns.kdeplot(ibm['YearsWithCurrManager'][ibm.Attrition == 'No'], label = 'Employees who Stayed', shade = True, color = 'b')\n",
        "\n",
        "plt.xlabel('Years With Current Manager')"
      ],
      "execution_count": 119,
      "outputs": [
        {
          "output_type": "execute_result",
          "data": {
            "text/plain": [
              "Text(0.5, 0, 'Years With Current Manager')"
            ]
          },
          "metadata": {
            "tags": []
          },
          "execution_count": 119
        },
        {
          "output_type": "display_data",
          "data": {
            "image/png": "[encoded data removed]",
            "text/plain": [
              "<Figure size 1440x576 with 1 Axes>"
            ]
          },
          "metadata": {
            "tags": [],
            "needs_background": "light"
          }
        }
      ]
    },
    {
      "cell_type": "markdown",
      "metadata": {
        "id": "CzCwEk2Vdw5P"
      },
      "source": [
        "**Visualising total working years with respect to Attrition**\n",
        "\n",
        "---\n",
        "\n"
      ]
    },
    {
      "cell_type": "code",
      "metadata": {
        "colab": {
          "base_uri": "https://localhost:8080/",
          "height": 535
        },
        "id": "_aLHIzqxdNaN",
        "outputId": "8563788c-b3e4-4eda-ff4f-e698892398af"
      },
      "source": [
        "sns.kdeplot(ibm['TotalWorkingYears'][ibm.Attrition == 'Yes'], label = 'Employees who left', shade = True, color = 'r')\n",
        "sns.kdeplot(ibm['TotalWorkingYears'][ibm.Attrition == 'No'], label = 'Employees who Stayed', shade = True, color = 'b')\n",
        "\n",
        "plt.xlabel('Total Working Years')"
      ],
      "execution_count": 121,
      "outputs": [
        {
          "output_type": "execute_result",
          "data": {
            "text/plain": [
              "Text(0.5, 0, 'Total Working Years')"
            ]
          },
          "metadata": {
            "tags": []
          },
          "execution_count": 121
        },
        {
          "output_type": "display_data",
          "data": {
            "image/png": "[encoded data removed]",
            "text/plain": [
              "<Figure size 1440x576 with 1 Axes>"
            ]
          },
          "metadata": {
            "tags": [],
            "needs_background": "light"
          }
        }
      ]
    },
    {
      "cell_type": "markdown",
      "metadata": {
        "id": "ZHrpUPYXot1Y"
      },
      "source": [
        "# Question 1. Break down of DistanceFromHome by JobRole and Attrition\n",
        "\n",
        "---\n",
        "\n",
        "\n"
      ]
    },
    {
      "cell_type": "code",
      "metadata": {
        "colab": {
          "base_uri": "https://localhost:8080/",
          "height": 355
        },
        "id": "TxmwxnM-n2gA",
        "outputId": "822b7dba-1e7a-453d-ab93-e66dd26ce4c4"
      },
      "source": [
        "# Lets look at distance from home and attrition levels among various job roles.\n",
        "ibm.groupby(['JobRole','Attrition']).DistanceFromHome.mean().unstack()"
      ],
      "execution_count": null,
      "outputs": [
        {
          "output_type": "execute_result",
          "data": {
            "text/html": [
              "<div>\n",
              "<style scoped>\n",
              "    .dataframe tbody tr th:only-of-type {\n",
              "        vertical-align: middle;\n",
              "    }\n",
              "\n",
              "    .dataframe tbody tr th {\n",
              "        vertical-align: top;\n",
              "    }\n",
              "\n",
              "    .dataframe thead th {\n",
              "        text-align: right;\n",
              "    }\n",
              "</style>\n",
              "<table border=\"1\" class=\"dataframe\">\n",
              "  <thead>\n",
              "    <tr style=\"text-align: right;\">\n",
              "      <th>Attrition</th>\n",
              "      <th>No</th>\n",
              "      <th>Yes</th>\n",
              "    </tr>\n",
              "    <tr>\n",
              "      <th>JobRole</th>\n",
              "      <th></th>\n",
              "      <th></th>\n",
              "    </tr>\n",
              "  </thead>\n",
              "  <tbody>\n",
              "    <tr>\n",
              "      <th>Healthcare Representative</th>\n",
              "      <td>9.204918</td>\n",
              "      <td>17.666667</td>\n",
              "    </tr>\n",
              "    <tr>\n",
              "      <th>Human Resources</th>\n",
              "      <td>6.600000</td>\n",
              "      <td>13.416667</td>\n",
              "    </tr>\n",
              "    <tr>\n",
              "      <th>Laboratory Technician</th>\n",
              "      <td>9.329949</td>\n",
              "      <td>9.661290</td>\n",
              "    </tr>\n",
              "    <tr>\n",
              "      <th>Manager</th>\n",
              "      <td>7.927835</td>\n",
              "      <td>10.000000</td>\n",
              "    </tr>\n",
              "    <tr>\n",
              "      <th>Manufacturing Director</th>\n",
              "      <td>9.533333</td>\n",
              "      <td>8.800000</td>\n",
              "    </tr>\n",
              "    <tr>\n",
              "      <th>Research Director</th>\n",
              "      <td>8.474359</td>\n",
              "      <td>7.000000</td>\n",
              "    </tr>\n",
              "    <tr>\n",
              "      <th>Research Scientist</th>\n",
              "      <td>8.869388</td>\n",
              "      <td>9.765957</td>\n",
              "    </tr>\n",
              "    <tr>\n",
              "      <th>Sales Executive</th>\n",
              "      <td>9.026022</td>\n",
              "      <td>12.649123</td>\n",
              "    </tr>\n",
              "    <tr>\n",
              "      <th>Sales Representative</th>\n",
              "      <td>9.000000</td>\n",
              "      <td>8.151515</td>\n",
              "    </tr>\n",
              "  </tbody>\n",
              "</table>\n",
              "</div>"
            ],
            "text/plain": [
              "Attrition                        No        Yes\n",
              "JobRole                                       \n",
              "Healthcare Representative  9.204918  17.666667\n",
              "Human Resources            6.600000  13.416667\n",
              "Laboratory Technician      9.329949   9.661290\n",
              "Manager                    7.927835  10.000000\n",
              "Manufacturing Director     9.533333   8.800000\n",
              "Research Director          8.474359   7.000000\n",
              "Research Scientist         8.869388   9.765957\n",
              "Sales Executive            9.026022  12.649123\n",
              "Sales Representative       9.000000   8.151515"
            ]
          },
          "metadata": {
            "tags": []
          },
          "execution_count": 56
        }
      ]
    },
    {
      "cell_type": "code",
      "metadata": {
        "colab": {
          "base_uri": "https://localhost:8080/",
          "height": 712
        },
        "id": "8bCXxXQFoIjp",
        "outputId": "c266f15c-ea50-422a-f537-4e5f5170bd63"
      },
      "source": [
        "plt.rcParams['figure.figsize'] = 20, 10\n",
        "\n",
        "ibm.groupby(['JobRole','Attrition']).DistanceFromHome.mean().unstack().plot(kind='bar')\n",
        "plt.xlabel('Job Role')\n",
        "plt.ylabel('Distance from Home')\n"
      ],
      "execution_count": null,
      "outputs": [
        {
          "output_type": "execute_result",
          "data": {
            "text/plain": [
              "Text(0, 0.5, 'Distance from Home')"
            ]
          },
          "metadata": {
            "tags": []
          },
          "execution_count": 58
        },
        {
          "output_type": "display_data",
          "data": {
            "image/png": "[encoded data removed]",
            "text/plain": [
              "<Figure size 1440x720 with 1 Axes>"
            ]
          },
          "metadata": {
            "tags": [],
            "needs_background": "light"
          }
        }
      ]
    },
    {
      "cell_type": "markdown",
      "metadata": {
        "id": "3moucQILopfF"
      },
      "source": [
        "- Among the employees in various job roles, the mean distance of work from home for HealthCare Representatives, Human Resources Employees, Managers, and Sales Executives employees who left the company is larger than the mean distance of work from home for the employees who did not leave"
      ]
    },
    {
      "cell_type": "markdown",
      "metadata": {
        "id": "eIu8cyUihfKH"
      },
      "source": [
        "# Question 2. Comparing the Average Monthly Income by Education and Attrition\n",
        "\n",
        "---\n",
        "\n"
      ]
    },
    {
      "cell_type": "code",
      "metadata": {
        "colab": {
          "base_uri": "https://localhost:8080/",
          "height": 233
        },
        "id": "NNXf7Z-9jE21",
        "outputId": "5f6dc53a-9c0a-4cf1-9b30-4701fada1fbe"
      },
      "source": [
        "ibm.groupby(['Education','Attrition']).MonthlyIncome.mean().unstack()"
      ],
      "execution_count": 122,
      "outputs": [
        {
          "output_type": "execute_result",
          "data": {
            "text/html": [
              "<div>\n",
              "<style scoped>\n",
              "    .dataframe tbody tr th:only-of-type {\n",
              "        vertical-align: middle;\n",
              "    }\n",
              "\n",
              "    .dataframe tbody tr th {\n",
              "        vertical-align: top;\n",
              "    }\n",
              "\n",
              "    .dataframe thead th {\n",
              "        text-align: right;\n",
              "    }\n",
              "</style>\n",
              "<table border=\"1\" class=\"dataframe\">\n",
              "  <thead>\n",
              "    <tr style=\"text-align: right;\">\n",
              "      <th>Attrition</th>\n",
              "      <th>No</th>\n",
              "      <th>Yes</th>\n",
              "    </tr>\n",
              "    <tr>\n",
              "      <th>Education</th>\n",
              "      <th></th>\n",
              "      <th></th>\n",
              "    </tr>\n",
              "  </thead>\n",
              "  <tbody>\n",
              "    <tr>\n",
              "      <th>1</th>\n",
              "      <td>5926.129496</td>\n",
              "      <td>4360.161290</td>\n",
              "    </tr>\n",
              "    <tr>\n",
              "      <th>2</th>\n",
              "      <td>6586.058824</td>\n",
              "      <td>4282.545455</td>\n",
              "    </tr>\n",
              "    <tr>\n",
              "      <th>3</th>\n",
              "      <td>6882.919662</td>\n",
              "      <td>4770.242424</td>\n",
              "    </tr>\n",
              "    <tr>\n",
              "      <th>4</th>\n",
              "      <td>7087.814706</td>\n",
              "      <td>5335.155172</td>\n",
              "    </tr>\n",
              "    <tr>\n",
              "      <th>5</th>\n",
              "      <td>8559.906977</td>\n",
              "      <td>5850.200000</td>\n",
              "    </tr>\n",
              "  </tbody>\n",
              "</table>\n",
              "</div>"
            ],
            "text/plain": [
              "Attrition           No          Yes\n",
              "Education                          \n",
              "1          5926.129496  4360.161290\n",
              "2          6586.058824  4282.545455\n",
              "3          6882.919662  4770.242424\n",
              "4          7087.814706  5335.155172\n",
              "5          8559.906977  5850.200000"
            ]
          },
          "metadata": {
            "tags": []
          },
          "execution_count": 122
        }
      ]
    },
    {
      "cell_type": "code",
      "metadata": {
        "colab": {
          "base_uri": "https://localhost:8080/",
          "height": 591
        },
        "id": "hfDhwN-UisHJ",
        "outputId": "28612394-8f04-4d6a-e550-d2532723baae"
      },
      "source": [
        "plt.rcParams['figure.figsize'] = 20, 10\n",
        "\n",
        "ibm.groupby(['Education','Attrition']).MonthlyIncome.mean().unstack().plot(kind='bar')\n",
        "plt.xlabel('Education Level')\n",
        "plt.ylabel('Average Monthly Income')"
      ],
      "execution_count": 124,
      "outputs": [
        {
          "output_type": "execute_result",
          "data": {
            "text/plain": [
              "Text(0, 0.5, 'Average Monthly Income')"
            ]
          },
          "metadata": {
            "tags": []
          },
          "execution_count": 124
        },
        {
          "output_type": "display_data",
          "data": {
            "image/png": "[encoded data removed]",
            "text/plain": [
              "<Figure size 1440x720 with 1 Axes>"
            ]
          },
          "metadata": {
            "tags": [],
            "needs_background": "light"
          }
        }
      ]
    },
    {
      "cell_type": "markdown",
      "metadata": {
        "id": "jPFqfSIVgAdy"
      },
      "source": [
        "Note: People with higher levels of education get on average a higher monthly income and are less likely to leave their jobs"
      ]
    },
    {
      "cell_type": "markdown",
      "metadata": {
        "id": "rnQhoni_2d0T"
      },
      "source": [
        "# Feature Engineering"
      ]
    },
    {
      "cell_type": "code",
      "metadata": {
        "id": "oQEC6cZ52h4E"
      },
      "source": [
        "data.drop(columns=['Attrition_encoded', 'Overtime_encoded'], inplace=True)"
      ],
      "execution_count": null,
      "outputs": []
    },
    {
      "cell_type": "code",
      "metadata": {
        "id": "9NBsnSqavoGL"
      },
      "source": [
        "binary_features = data.nunique()[data.nunique() == 2].keys().tolist()\n",
        "numeric_features = [col for col in data.select_dtypes(['float','int']).columns.tolist() if col not in binary_features]\n",
        "categorical_features = [col for col in data.select_dtypes('object').columns.to_list() if col not in binary_features + numeric_features]"
      ],
      "execution_count": null,
      "outputs": []
    },
    {
      "cell_type": "code",
      "metadata": {
        "id": "I4Yq623E4ZHU"
      },
      "source": [
        "encoded_df = data.copy()"
      ],
      "execution_count": null,
      "outputs": []
    }
  ]
}